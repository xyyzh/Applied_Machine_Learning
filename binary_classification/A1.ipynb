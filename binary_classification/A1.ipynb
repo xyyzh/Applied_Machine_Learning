{
  "nbformat": 4,
  "nbformat_minor": 0,
  "metadata": {
    "colab": {
      "name": "COMP551_A1(combined).ipynb",
      "provenance": [],
      "collapsed_sections": [],
      "toc_visible": true
    },
    "kernelspec": {
      "name": "python3",
      "display_name": "Python 3"
    },
    "language_info": {
      "name": "python"
    }
  },
  "cells": [
    {
      "cell_type": "markdown",
      "metadata": {
        "id": "wzKZLNK8SFkE"
      },
      "source": [
        "#Tools"
      ]
    },
    {
      "cell_type": "code",
      "metadata": {
        "id": "J_B7M65SfZzJ"
      },
      "source": [
        "import numpy as np\n",
        "import pandas as pd\n",
        "import seaborn as sns\n",
        "import matplotlib.pyplot as plt\n",
        "from sklearn.preprocessing import OneHotEncoder\n",
        "from sklearn.preprocessing import MinMaxScaler\n",
        "from sklearn.neighbors import KNeighborsClassifier\n",
        "from sklearn.tree import DecisionTreeClassifier\n",
        "from sklearn.neighbors import KNeighborsClassifier\n",
        "from sklearn import tree\n",
        "from sklearn.metrics import classification_report\n",
        "from sklearn.model_selection import train_test_split\n",
        "from sklearn.metrics import f1_score\n",
        "from sklearn.metrics import PrecisionRecallDisplay\n",
        "from sklearn.metrics import recall_score\n",
        "from sklearn.metrics import precision_score"
      ],
      "execution_count": null,
      "outputs": []
    },
    {
      "cell_type": "markdown",
      "metadata": {
        "id": "71Hvdx9ffV5f"
      },
      "source": [
        "# Dataset1 (Adult dataset)"
      ]
    },
    {
      "cell_type": "markdown",
      "metadata": {
        "id": "-A6fgLdSfaWl"
      },
      "source": [
        "## Load and clean the dataset"
      ]
    },
    {
      "cell_type": "code",
      "metadata": {
        "id": "eGjz8UCXfrW6"
      },
      "source": [
        "# load the datasets into pandas dataframes\n",
        "data = pd.read_csv('adult.data')\n",
        "test = pd.read_csv('adult.test',skiprows=[0])\n",
        "\n",
        "data.columns= ['age','workclass','fnlwgt','education','education-num',\n",
        "               'marital-status','occupation','relationship','race','sex',\n",
        "               'capital-gain','capital-loss','hours-per-week','native-country','salary']\n",
        "test.columns = ['age','workclass','fnlwgt','education','education-num',\n",
        "               'marital-status','occupation','relationship','race','sex',\n",
        "               'capital-gain','capital-loss','hours-per-week','native-country','salary']"
      ],
      "execution_count": null,
      "outputs": []
    },
    {
      "cell_type": "code",
      "metadata": {
        "colab": {
          "base_uri": "https://localhost:8080/"
        },
        "id": "o5gMzZcyhgl4",
        "outputId": "d2be3641-d66e-45d3-94d9-5b629f89200d"
      },
      "source": [
        "count = 0\n",
        "for e in data['capital-gain']:\n",
        "  if e != 0:\n",
        "    count += 1\n",
        "print(count)\n",
        "print(1 - count/ 32600)\n"
      ],
      "execution_count": null,
      "outputs": [
        {
          "output_type": "stream",
          "name": "stdout",
          "text": [
            "2152\n",
            "0.9339877300613497\n"
          ]
        }
      ]
    },
    {
      "cell_type": "code",
      "metadata": {
        "colab": {
          "base_uri": "https://localhost:8080/"
        },
        "id": "iWFRyF9i2Eqf",
        "outputId": "e77c788a-79d9-4f6a-c1e3-89ad88291525"
      },
      "source": [
        "count = 0\n",
        "for e in data['capital-loss']:\n",
        "  if e != 0:\n",
        "    count += 1\n",
        "print(1 - count / 32600)"
      ],
      "execution_count": null,
      "outputs": [
        {
          "output_type": "stream",
          "name": "stdout",
          "text": [
            "0.9633742331288344\n"
          ]
        }
      ]
    },
    {
      "cell_type": "code",
      "metadata": {
        "colab": {
          "base_uri": "https://localhost:8080/"
        },
        "id": "9gYF4HU5lAY4",
        "outputId": "2b74e11c-a54d-48d0-815e-f805b09cd514"
      },
      "source": [
        "count = 0\n",
        "for e in data['occupation']:\n",
        "  if e == ' ?':\n",
        "    count +=1\n",
        "print( 1836/ 32600)"
      ],
      "execution_count": null,
      "outputs": [
        {
          "output_type": "stream",
          "name": "stdout",
          "text": [
            "0.056319018404907974\n"
          ]
        }
      ]
    },
    {
      "cell_type": "code",
      "metadata": {
        "colab": {
          "base_uri": "https://localhost:8080/"
        },
        "id": "vmvhDgn73IWi",
        "outputId": "500c038e-4993-4068-d5bd-03573ea0fb11"
      },
      "source": [
        "count = 0\n",
        "for e in data['workclass']:\n",
        "  if e == ' ?':\n",
        "    count +=1\n",
        "print(1843 / 32600)"
      ],
      "execution_count": null,
      "outputs": [
        {
          "output_type": "stream",
          "name": "stdout",
          "text": [
            "0.05653374233128834\n"
          ]
        }
      ]
    },
    {
      "cell_type": "code",
      "metadata": {
        "id": "3gfynwc-rWby"
      },
      "source": [
        "data = data.replace(to_replace=\" ?\", value=np.NaN)\n",
        "data = data.dropna()"
      ],
      "execution_count": null,
      "outputs": []
    },
    {
      "cell_type": "code",
      "metadata": {
        "colab": {
          "base_uri": "https://localhost:8080/",
          "height": 417
        },
        "id": "cRGvwBnQrniL",
        "outputId": "2cae686c-3da0-4aa7-f3d3-9ac477a86a76"
      },
      "source": [
        "data.drop(['fnlwgt','capital-gain','capital-loss','education-num'], axis=1)"
      ],
      "execution_count": null,
      "outputs": [
        {
          "output_type": "execute_result",
          "data": {
            "text/html": [
              "<div>\n",
              "<style scoped>\n",
              "    .dataframe tbody tr th:only-of-type {\n",
              "        vertical-align: middle;\n",
              "    }\n",
              "\n",
              "    .dataframe tbody tr th {\n",
              "        vertical-align: top;\n",
              "    }\n",
              "\n",
              "    .dataframe thead th {\n",
              "        text-align: right;\n",
              "    }\n",
              "</style>\n",
              "<table border=\"1\" class=\"dataframe\">\n",
              "  <thead>\n",
              "    <tr style=\"text-align: right;\">\n",
              "      <th></th>\n",
              "      <th>age</th>\n",
              "      <th>workclass</th>\n",
              "      <th>education</th>\n",
              "      <th>marital-status</th>\n",
              "      <th>occupation</th>\n",
              "      <th>relationship</th>\n",
              "      <th>race</th>\n",
              "      <th>sex</th>\n",
              "      <th>hours-per-week</th>\n",
              "      <th>native-country</th>\n",
              "      <th>salary</th>\n",
              "    </tr>\n",
              "  </thead>\n",
              "  <tbody>\n",
              "    <tr>\n",
              "      <th>0</th>\n",
              "      <td>50</td>\n",
              "      <td>Self-emp-not-inc</td>\n",
              "      <td>Bachelors</td>\n",
              "      <td>Married-civ-spouse</td>\n",
              "      <td>Exec-managerial</td>\n",
              "      <td>Husband</td>\n",
              "      <td>White</td>\n",
              "      <td>Male</td>\n",
              "      <td>13.0</td>\n",
              "      <td>United-States</td>\n",
              "      <td>&lt;=50K</td>\n",
              "    </tr>\n",
              "    <tr>\n",
              "      <th>1</th>\n",
              "      <td>38</td>\n",
              "      <td>Private</td>\n",
              "      <td>HS-grad</td>\n",
              "      <td>Divorced</td>\n",
              "      <td>Handlers-cleaners</td>\n",
              "      <td>Not-in-family</td>\n",
              "      <td>White</td>\n",
              "      <td>Male</td>\n",
              "      <td>40.0</td>\n",
              "      <td>United-States</td>\n",
              "      <td>&lt;=50K</td>\n",
              "    </tr>\n",
              "    <tr>\n",
              "      <th>2</th>\n",
              "      <td>53</td>\n",
              "      <td>Private</td>\n",
              "      <td>11th</td>\n",
              "      <td>Married-civ-spouse</td>\n",
              "      <td>Handlers-cleaners</td>\n",
              "      <td>Husband</td>\n",
              "      <td>Black</td>\n",
              "      <td>Male</td>\n",
              "      <td>40.0</td>\n",
              "      <td>United-States</td>\n",
              "      <td>&lt;=50K</td>\n",
              "    </tr>\n",
              "    <tr>\n",
              "      <th>3</th>\n",
              "      <td>28</td>\n",
              "      <td>Private</td>\n",
              "      <td>Bachelors</td>\n",
              "      <td>Married-civ-spouse</td>\n",
              "      <td>Prof-specialty</td>\n",
              "      <td>Wife</td>\n",
              "      <td>Black</td>\n",
              "      <td>Female</td>\n",
              "      <td>40.0</td>\n",
              "      <td>Cuba</td>\n",
              "      <td>&lt;=50K</td>\n",
              "    </tr>\n",
              "    <tr>\n",
              "      <th>4</th>\n",
              "      <td>37</td>\n",
              "      <td>Private</td>\n",
              "      <td>Masters</td>\n",
              "      <td>Married-civ-spouse</td>\n",
              "      <td>Exec-managerial</td>\n",
              "      <td>Wife</td>\n",
              "      <td>White</td>\n",
              "      <td>Female</td>\n",
              "      <td>40.0</td>\n",
              "      <td>United-States</td>\n",
              "      <td>&lt;=50K</td>\n",
              "    </tr>\n",
              "    <tr>\n",
              "      <th>...</th>\n",
              "      <td>...</td>\n",
              "      <td>...</td>\n",
              "      <td>...</td>\n",
              "      <td>...</td>\n",
              "      <td>...</td>\n",
              "      <td>...</td>\n",
              "      <td>...</td>\n",
              "      <td>...</td>\n",
              "      <td>...</td>\n",
              "      <td>...</td>\n",
              "      <td>...</td>\n",
              "    </tr>\n",
              "    <tr>\n",
              "      <th>25768</th>\n",
              "      <td>37</td>\n",
              "      <td>Private</td>\n",
              "      <td>HS-grad</td>\n",
              "      <td>Never-married</td>\n",
              "      <td>Sales</td>\n",
              "      <td>Unmarried</td>\n",
              "      <td>White</td>\n",
              "      <td>Male</td>\n",
              "      <td>40.0</td>\n",
              "      <td>United-States</td>\n",
              "      <td>&lt;=50K</td>\n",
              "    </tr>\n",
              "    <tr>\n",
              "      <th>25769</th>\n",
              "      <td>30</td>\n",
              "      <td>Private</td>\n",
              "      <td>Assoc-voc</td>\n",
              "      <td>Divorced</td>\n",
              "      <td>Sales</td>\n",
              "      <td>Not-in-family</td>\n",
              "      <td>White</td>\n",
              "      <td>Female</td>\n",
              "      <td>40.0</td>\n",
              "      <td>United-States</td>\n",
              "      <td>&gt;50K</td>\n",
              "    </tr>\n",
              "    <tr>\n",
              "      <th>25770</th>\n",
              "      <td>44</td>\n",
              "      <td>Private</td>\n",
              "      <td>Assoc-acdm</td>\n",
              "      <td>Never-married</td>\n",
              "      <td>Craft-repair</td>\n",
              "      <td>Not-in-family</td>\n",
              "      <td>White</td>\n",
              "      <td>Male</td>\n",
              "      <td>25.0</td>\n",
              "      <td>United-States</td>\n",
              "      <td>&lt;=50K</td>\n",
              "    </tr>\n",
              "    <tr>\n",
              "      <th>25772</th>\n",
              "      <td>22</td>\n",
              "      <td>Private</td>\n",
              "      <td>HS-grad</td>\n",
              "      <td>Never-married</td>\n",
              "      <td>Sales</td>\n",
              "      <td>Not-in-family</td>\n",
              "      <td>White</td>\n",
              "      <td>Male</td>\n",
              "      <td>45.0</td>\n",
              "      <td>Canada</td>\n",
              "      <td>&lt;=50K</td>\n",
              "    </tr>\n",
              "    <tr>\n",
              "      <th>25773</th>\n",
              "      <td>31</td>\n",
              "      <td>Self-emp-inc</td>\n",
              "      <td>Bachelors</td>\n",
              "      <td>Married-civ-spouse</td>\n",
              "      <td>Sales</td>\n",
              "      <td>Husband</td>\n",
              "      <td>White</td>\n",
              "      <td>Male</td>\n",
              "      <td>50.0</td>\n",
              "      <td>United-States</td>\n",
              "      <td>&lt;=50K</td>\n",
              "    </tr>\n",
              "  </tbody>\n",
              "</table>\n",
              "<p>23884 rows × 11 columns</p>\n",
              "</div>"
            ],
            "text/plain": [
              "       age          workclass  ...  native-country  salary\n",
              "0       50   Self-emp-not-inc  ...   United-States   <=50K\n",
              "1       38            Private  ...   United-States   <=50K\n",
              "2       53            Private  ...   United-States   <=50K\n",
              "3       28            Private  ...            Cuba   <=50K\n",
              "4       37            Private  ...   United-States   <=50K\n",
              "...    ...                ...  ...             ...     ...\n",
              "25768   37            Private  ...   United-States   <=50K\n",
              "25769   30            Private  ...   United-States    >50K\n",
              "25770   44            Private  ...   United-States   <=50K\n",
              "25772   22            Private  ...          Canada   <=50K\n",
              "25773   31       Self-emp-inc  ...   United-States   <=50K\n",
              "\n",
              "[23884 rows x 11 columns]"
            ]
          },
          "metadata": {},
          "execution_count": 10
        }
      ]
    },
    {
      "cell_type": "code",
      "metadata": {
        "colab": {
          "base_uri": "https://localhost:8080/",
          "height": 551
        },
        "id": "X7V8Kz6Jhn9W",
        "outputId": "7a978882-4137-4790-9c6b-4e0d4c6bffe5"
      },
      "source": [
        "test.drop(['fnlwgt','capital-gain','capital-loss','education-num'], axis=1)"
      ],
      "execution_count": null,
      "outputs": [
        {
          "output_type": "execute_result",
          "data": {
            "text/html": [
              "<div>\n",
              "<style scoped>\n",
              "    .dataframe tbody tr th:only-of-type {\n",
              "        vertical-align: middle;\n",
              "    }\n",
              "\n",
              "    .dataframe tbody tr th {\n",
              "        vertical-align: top;\n",
              "    }\n",
              "\n",
              "    .dataframe thead th {\n",
              "        text-align: right;\n",
              "    }\n",
              "</style>\n",
              "<table border=\"1\" class=\"dataframe\">\n",
              "  <thead>\n",
              "    <tr style=\"text-align: right;\">\n",
              "      <th></th>\n",
              "      <th>age</th>\n",
              "      <th>workclass</th>\n",
              "      <th>education</th>\n",
              "      <th>marital-status</th>\n",
              "      <th>occupation</th>\n",
              "      <th>relationship</th>\n",
              "      <th>race</th>\n",
              "      <th>sex</th>\n",
              "      <th>hours-per-week</th>\n",
              "      <th>native-country</th>\n",
              "      <th>salary</th>\n",
              "    </tr>\n",
              "  </thead>\n",
              "  <tbody>\n",
              "    <tr>\n",
              "      <th>0</th>\n",
              "      <td>38</td>\n",
              "      <td>Private</td>\n",
              "      <td>HS-grad</td>\n",
              "      <td>Married-civ-spouse</td>\n",
              "      <td>Farming-fishing</td>\n",
              "      <td>Husband</td>\n",
              "      <td>White</td>\n",
              "      <td>Male</td>\n",
              "      <td>50</td>\n",
              "      <td>United-States</td>\n",
              "      <td>&lt;=50K.</td>\n",
              "    </tr>\n",
              "    <tr>\n",
              "      <th>1</th>\n",
              "      <td>28</td>\n",
              "      <td>Local-gov</td>\n",
              "      <td>Assoc-acdm</td>\n",
              "      <td>Married-civ-spouse</td>\n",
              "      <td>Protective-serv</td>\n",
              "      <td>Husband</td>\n",
              "      <td>White</td>\n",
              "      <td>Male</td>\n",
              "      <td>40</td>\n",
              "      <td>United-States</td>\n",
              "      <td>&gt;50K.</td>\n",
              "    </tr>\n",
              "    <tr>\n",
              "      <th>2</th>\n",
              "      <td>44</td>\n",
              "      <td>Private</td>\n",
              "      <td>Some-college</td>\n",
              "      <td>Married-civ-spouse</td>\n",
              "      <td>Machine-op-inspct</td>\n",
              "      <td>Husband</td>\n",
              "      <td>Black</td>\n",
              "      <td>Male</td>\n",
              "      <td>40</td>\n",
              "      <td>United-States</td>\n",
              "      <td>&gt;50K.</td>\n",
              "    </tr>\n",
              "    <tr>\n",
              "      <th>3</th>\n",
              "      <td>18</td>\n",
              "      <td>?</td>\n",
              "      <td>Some-college</td>\n",
              "      <td>Never-married</td>\n",
              "      <td>?</td>\n",
              "      <td>Own-child</td>\n",
              "      <td>White</td>\n",
              "      <td>Female</td>\n",
              "      <td>30</td>\n",
              "      <td>United-States</td>\n",
              "      <td>&lt;=50K.</td>\n",
              "    </tr>\n",
              "    <tr>\n",
              "      <th>4</th>\n",
              "      <td>34</td>\n",
              "      <td>Private</td>\n",
              "      <td>10th</td>\n",
              "      <td>Never-married</td>\n",
              "      <td>Other-service</td>\n",
              "      <td>Not-in-family</td>\n",
              "      <td>White</td>\n",
              "      <td>Male</td>\n",
              "      <td>30</td>\n",
              "      <td>United-States</td>\n",
              "      <td>&lt;=50K.</td>\n",
              "    </tr>\n",
              "    <tr>\n",
              "      <th>...</th>\n",
              "      <td>...</td>\n",
              "      <td>...</td>\n",
              "      <td>...</td>\n",
              "      <td>...</td>\n",
              "      <td>...</td>\n",
              "      <td>...</td>\n",
              "      <td>...</td>\n",
              "      <td>...</td>\n",
              "      <td>...</td>\n",
              "      <td>...</td>\n",
              "      <td>...</td>\n",
              "    </tr>\n",
              "    <tr>\n",
              "      <th>16275</th>\n",
              "      <td>39</td>\n",
              "      <td>Private</td>\n",
              "      <td>Bachelors</td>\n",
              "      <td>Divorced</td>\n",
              "      <td>Prof-specialty</td>\n",
              "      <td>Not-in-family</td>\n",
              "      <td>White</td>\n",
              "      <td>Female</td>\n",
              "      <td>36</td>\n",
              "      <td>United-States</td>\n",
              "      <td>&lt;=50K.</td>\n",
              "    </tr>\n",
              "    <tr>\n",
              "      <th>16276</th>\n",
              "      <td>64</td>\n",
              "      <td>?</td>\n",
              "      <td>HS-grad</td>\n",
              "      <td>Widowed</td>\n",
              "      <td>?</td>\n",
              "      <td>Other-relative</td>\n",
              "      <td>Black</td>\n",
              "      <td>Male</td>\n",
              "      <td>40</td>\n",
              "      <td>United-States</td>\n",
              "      <td>&lt;=50K.</td>\n",
              "    </tr>\n",
              "    <tr>\n",
              "      <th>16277</th>\n",
              "      <td>38</td>\n",
              "      <td>Private</td>\n",
              "      <td>Bachelors</td>\n",
              "      <td>Married-civ-spouse</td>\n",
              "      <td>Prof-specialty</td>\n",
              "      <td>Husband</td>\n",
              "      <td>White</td>\n",
              "      <td>Male</td>\n",
              "      <td>50</td>\n",
              "      <td>United-States</td>\n",
              "      <td>&lt;=50K.</td>\n",
              "    </tr>\n",
              "    <tr>\n",
              "      <th>16278</th>\n",
              "      <td>44</td>\n",
              "      <td>Private</td>\n",
              "      <td>Bachelors</td>\n",
              "      <td>Divorced</td>\n",
              "      <td>Adm-clerical</td>\n",
              "      <td>Own-child</td>\n",
              "      <td>Asian-Pac-Islander</td>\n",
              "      <td>Male</td>\n",
              "      <td>40</td>\n",
              "      <td>United-States</td>\n",
              "      <td>&lt;=50K.</td>\n",
              "    </tr>\n",
              "    <tr>\n",
              "      <th>16279</th>\n",
              "      <td>35</td>\n",
              "      <td>Self-emp-inc</td>\n",
              "      <td>Bachelors</td>\n",
              "      <td>Married-civ-spouse</td>\n",
              "      <td>Exec-managerial</td>\n",
              "      <td>Husband</td>\n",
              "      <td>White</td>\n",
              "      <td>Male</td>\n",
              "      <td>60</td>\n",
              "      <td>United-States</td>\n",
              "      <td>&gt;50K.</td>\n",
              "    </tr>\n",
              "  </tbody>\n",
              "</table>\n",
              "<p>16280 rows × 11 columns</p>\n",
              "</div>"
            ],
            "text/plain": [
              "       age      workclass  ...  native-country   salary\n",
              "0       38        Private  ...   United-States   <=50K.\n",
              "1       28      Local-gov  ...   United-States    >50K.\n",
              "2       44        Private  ...   United-States    >50K.\n",
              "3       18              ?  ...   United-States   <=50K.\n",
              "4       34        Private  ...   United-States   <=50K.\n",
              "...    ...            ...  ...             ...      ...\n",
              "16275   39        Private  ...   United-States   <=50K.\n",
              "16276   64              ?  ...   United-States   <=50K.\n",
              "16277   38        Private  ...   United-States   <=50K.\n",
              "16278   44        Private  ...   United-States   <=50K.\n",
              "16279   35   Self-emp-inc  ...   United-States    >50K.\n",
              "\n",
              "[16280 rows x 11 columns]"
            ]
          },
          "metadata": {},
          "execution_count": 11
        }
      ]
    },
    {
      "cell_type": "markdown",
      "metadata": {
        "id": "10nxtAI9_LJV"
      },
      "source": [
        "## One-hot encoding for discrete features\n"
      ]
    },
    {
      "cell_type": "code",
      "metadata": {
        "id": "5uaDZ_ovSmH1"
      },
      "source": [
        ""
      ],
      "execution_count": null,
      "outputs": []
    },
    {
      "cell_type": "code",
      "metadata": {
        "id": "-qthH7oZU3nv"
      },
      "source": [
        "from sklearn.preprocessing import OneHotEncoder\n",
        "\n",
        "categories = ['workclass','education','marital-status','occupation','relationship','race','sex','native-country']\n"
      ],
      "execution_count": null,
      "outputs": []
    },
    {
      "cell_type": "code",
      "metadata": {
        "id": "yPAq4WyiECUe"
      },
      "source": [
        "data_c = data[categories]\n",
        "test_c = test[categories]"
      ],
      "execution_count": null,
      "outputs": []
    },
    {
      "cell_type": "code",
      "metadata": {
        "id": "Cj58hdJTEKqO",
        "colab": {
          "base_uri": "https://localhost:8080/"
        },
        "outputId": "5683ac78-68b5-42eb-9bbe-aa2190dc1547"
      },
      "source": [
        "# do not remove rows with \" ?\" for workclass and occupation in the traning set\n",
        "# as there are also rows with \" ?\" for workclass and occupation in the test set\n",
        "enc = OneHotEncoder(handle_unknown='ignore')\n",
        "enc.fit(data_c)\n",
        "enc.categories_\n"
      ],
      "execution_count": null,
      "outputs": [
        {
          "output_type": "execute_result",
          "data": {
            "text/plain": [
              "[array([' Federal-gov', ' Local-gov', ' Private', ' Self-emp-inc',\n",
              "        ' Self-emp-not-inc', ' State-gov', ' Without-pay'], dtype=object),\n",
              " array([' 10th', ' 11th', ' 12th', ' 1st-4th', ' 5th-6th', ' 7th-8th',\n",
              "        ' 9th', ' Assoc-acdm', ' Assoc-voc', ' Bachelors', ' Doctorate',\n",
              "        ' HS-grad', ' Masters', ' Preschool', ' Prof-school',\n",
              "        ' Some-college'], dtype=object),\n",
              " array([' Divorced', ' Married-AF-spouse', ' Married-civ-spouse',\n",
              "        ' Married-spouse-absent', ' Never-married', ' Separated',\n",
              "        ' Widowed'], dtype=object),\n",
              " array([' Adm-clerical', ' Armed-Forces', ' Craft-repair',\n",
              "        ' Exec-managerial', ' Farming-fishing', ' Handlers-cleaners',\n",
              "        ' Machine-op-inspct', ' Other-service', ' Priv-house-serv',\n",
              "        ' Prof-specialty', ' Protective-serv', ' Sales', ' Tech-support',\n",
              "        ' Transport-moving'], dtype=object),\n",
              " array([' Husband', ' Not-in-family', ' Other-relative', ' Own-child',\n",
              "        ' Unmarried', ' Wife'], dtype=object),\n",
              " array([' Amer-Indian-Eskimo', ' Asian-Pac-Islander', ' Black', ' Other',\n",
              "        ' White'], dtype=object),\n",
              " array([' Female', ' Male'], dtype=object),\n",
              " array([' Cambodia', ' Canada', ' China', ' Columbia', ' Cuba',\n",
              "        ' Dominican-Republic', ' Ecuador', ' El-Salvador', ' England',\n",
              "        ' France', ' Germany', ' Greece', ' Guatemala', ' Haiti',\n",
              "        ' Holand-Netherlands', ' Honduras', ' Hong', ' Hungary', ' India',\n",
              "        ' Iran', ' Ireland', ' Italy', ' Jamaica', ' Japan', ' Laos',\n",
              "        ' Mexico', ' Nicaragua', ' Outlying-US(Guam-USVI-etc)', ' Peru',\n",
              "        ' Philippines', ' Poland', ' Portugal', ' Puerto-Rico',\n",
              "        ' Scotland', ' South', ' Taiwan', ' Thailand', ' Trinadad&Tobago',\n",
              "        ' United-States', ' Vietnam', ' Yugoslavia'], dtype=object)]"
            ]
          },
          "metadata": {},
          "execution_count": 14
        }
      ]
    },
    {
      "cell_type": "code",
      "metadata": {
        "colab": {
          "base_uri": "https://localhost:8080/"
        },
        "id": "eOwUYHoyVrcE",
        "outputId": "871b3029-5556-4270-b6bd-28bb040ab7f8"
      },
      "source": [
        "data_transformed = enc.transform(data_c).toarray()\n",
        "test_transformed = enc.transform(test_c).toarray()\n",
        "#print(enc.transform(data_c))\n",
        "\n",
        "print(data_transformed.shape)\n",
        "print(test_transformed.shape)"
      ],
      "execution_count": null,
      "outputs": [
        {
          "output_type": "stream",
          "name": "stdout",
          "text": [
            "(23884, 98)\n",
            "(16280, 98)\n"
          ]
        }
      ]
    },
    {
      "cell_type": "markdown",
      "metadata": {
        "id": "6r5WXXc4Zbkx"
      },
      "source": [
        "## Standard scaling for continuous features\n"
      ]
    },
    {
      "cell_type": "code",
      "metadata": {
        "id": "aV7fNpuEZXBY"
      },
      "source": [
        "from sklearn.preprocessing import MinMaxScaler\n",
        "numerical = ['age','fnlwgt','education-num','capital-gain','capital-loss','hours-per-week']\n",
        "\n",
        "data_n = data[numerical]\n",
        "test_n = test[numerical]\n",
        "\n",
        "# discrete => onehotencode\n",
        "# continuous => MinMaxScaler \n"
      ],
      "execution_count": null,
      "outputs": []
    },
    {
      "cell_type": "code",
      "metadata": {
        "colab": {
          "base_uri": "https://localhost:8080/",
          "height": 282
        },
        "id": "ZqrlsLuCx8k5",
        "outputId": "377bbb1b-dd06-47cb-9828-9788f61775a1"
      },
      "source": [
        "data['age'].plot.box()\n"
      ],
      "execution_count": null,
      "outputs": [
        {
          "output_type": "execute_result",
          "data": {
            "text/plain": [
              "<matplotlib.axes._subplots.AxesSubplot at 0x7f315101a690>"
            ]
          },
          "metadata": {},
          "execution_count": 18
        },
        {
          "output_type": "display_data",
          "data": {
            "image/png": "[encoded data removed]",
            "text/plain": [
              "<Figure size 432x288 with 1 Axes>"
            ]
          },
          "metadata": {
            "needs_background": "light"
          }
        }
      ]
    },
    {
      "cell_type": "code",
      "metadata": {
        "colab": {
          "base_uri": "https://localhost:8080/",
          "height": 526
        },
        "id": "xQHNDv3FHtlZ",
        "outputId": "ff5225e2-3046-478b-eae4-a6e1e9e72803"
      },
      "source": [
        "plt.show(data['age'].hist())\n",
        "plt.show(data['fnlwgt'].hist())"
      ],
      "execution_count": null,
      "outputs": [
        {
          "output_type": "display_data",
          "data": {
            "image/png": "[encoded data removed]",
            "text/plain": [
              "<Figure size 432x288 with 1 Axes>"
            ]
          },
          "metadata": {
            "needs_background": "light"
          }
        },
        {
          "output_type": "display_data",
          "data": {
            "image/png": "[encoded data removed]",
            "text/plain": [
              "<Figure size 432x288 with 1 Axes>"
            ]
          },
          "metadata": {
            "needs_background": "light"
          }
        }
      ]
    },
    {
      "cell_type": "code",
      "metadata": {
        "id": "vXv31DYach6d"
      },
      "source": [
        "scaler = MinMaxScaler()\n",
        "data_norm = scaler.fit_transform(data_n)\n",
        "test_norm = scaler.transform(test_n)\n",
        "\n",
        "#print(data_norm)\n",
        "#print(test_norm)"
      ],
      "execution_count": null,
      "outputs": []
    },
    {
      "cell_type": "code",
      "metadata": {
        "colab": {
          "base_uri": "https://localhost:8080/"
        },
        "id": "XzCNZZoiciGW",
        "outputId": "4b5835b4-42dc-4579-a1bf-af5323ebf5ba"
      },
      "source": [
        "print(data_norm.shape)\n",
        "print(test_norm.shape)"
      ],
      "execution_count": null,
      "outputs": [
        {
          "output_type": "stream",
          "name": "stdout",
          "text": [
            "(23884, 6)\n",
            "(16280, 6)\n"
          ]
        }
      ]
    },
    {
      "cell_type": "code",
      "metadata": {
        "id": "iF5XcJrZeP7H"
      },
      "source": [
        "data_X = np.concatenate((data_transformed, data_norm), axis=1)\n",
        "test_X = np.concatenate((test_transformed, test_norm), axis=1)\n"
      ],
      "execution_count": null,
      "outputs": []
    },
    {
      "cell_type": "code",
      "metadata": {
        "colab": {
          "base_uri": "https://localhost:8080/"
        },
        "id": "OpIQBeWrea-m",
        "outputId": "11a9961e-ffd9-42cc-8b1e-845b5bf04348"
      },
      "source": [
        "print(data_X.shape)\n",
        "print(test_X.shape)"
      ],
      "execution_count": null,
      "outputs": [
        {
          "output_type": "stream",
          "name": "stdout",
          "text": [
            "(23884, 104)\n",
            "(16280, 104)\n"
          ]
        }
      ]
    },
    {
      "cell_type": "code",
      "metadata": {
        "colab": {
          "base_uri": "https://localhost:8080/"
        },
        "id": "ch-5Ui-7eqvZ",
        "outputId": "1309761c-a2aa-44d0-a549-52442e53366e"
      },
      "source": [
        "print(data_X[0])\n",
        "print(test_X[0])"
      ],
      "execution_count": null,
      "outputs": [
        {
          "output_type": "stream",
          "name": "stdout",
          "text": [
            "[0.         0.         0.         0.         1.         0.\n",
            " 0.         0.         0.         0.         0.         0.\n",
            " 0.         0.         0.         0.         1.         0.\n",
            " 0.         0.         0.         0.         0.         0.\n",
            " 0.         1.         0.         0.         0.         0.\n",
            " 0.         0.         0.         1.         0.         0.\n",
            " 0.         0.         0.         0.         0.         0.\n",
            " 0.         0.         1.         0.         0.         0.\n",
            " 0.         0.         0.         0.         0.         0.\n",
            " 1.         0.         1.         0.         0.         0.\n",
            " 0.         0.         0.         0.         0.         0.\n",
            " 0.         0.         0.         0.         0.         0.\n",
            " 0.         0.         0.         0.         0.         0.\n",
            " 0.         0.         0.         0.         0.         0.\n",
            " 0.         0.         0.         0.         0.         0.\n",
            " 0.         0.         0.         0.         0.         1.\n",
            " 0.         0.         0.45205479 0.04655854 0.8        0.\n",
            " 0.         0.12244898]\n",
            "[0.         0.         1.         0.         0.         0.\n",
            " 0.         0.         0.         0.         0.         0.\n",
            " 0.         0.         0.         0.         0.         0.\n",
            " 1.         0.         0.         0.         0.         0.\n",
            " 0.         1.         0.         0.         0.         0.\n",
            " 0.         0.         0.         0.         1.         0.\n",
            " 0.         0.         0.         0.         0.         0.\n",
            " 0.         0.         1.         0.         0.         0.\n",
            " 0.         0.         0.         0.         0.         0.\n",
            " 1.         0.         1.         0.         0.         0.\n",
            " 0.         0.         0.         0.         0.         0.\n",
            " 0.         0.         0.         0.         0.         0.\n",
            " 0.         0.         0.         0.         0.         0.\n",
            " 0.         0.         0.         0.         0.         0.\n",
            " 0.         0.         0.         0.         0.         0.\n",
            " 0.         0.         0.         0.         0.         1.\n",
            " 0.         0.         0.28767123 0.05098287 0.53333333 0.\n",
            " 0.         0.5       ]\n"
          ]
        }
      ]
    },
    {
      "cell_type": "code",
      "metadata": {
        "colab": {
          "base_uri": "https://localhost:8080/"
        },
        "id": "qifPvVohz4Bi",
        "outputId": "17ca9c42-8013-498c-9b55-05ee21878686"
      },
      "source": [
        "data_X[0:100]"
      ],
      "execution_count": null,
      "outputs": [
        {
          "output_type": "execute_result",
          "data": {
            "text/plain": [
              "array([[0.        , 0.        , 0.        , ..., 0.        , 0.        ,\n",
              "        0.12244898],\n",
              "       [0.        , 0.        , 1.        , ..., 0.        , 0.        ,\n",
              "        0.39795918],\n",
              "       [0.        , 0.        , 1.        , ..., 0.        , 0.        ,\n",
              "        0.39795918],\n",
              "       ...,\n",
              "       [0.        , 0.        , 1.        , ..., 0.        , 0.        ,\n",
              "        0.39795918],\n",
              "       [0.        , 1.        , 0.        , ..., 0.        , 0.        ,\n",
              "        0.39795918],\n",
              "       [0.        , 0.        , 1.        , ..., 0.        , 0.        ,\n",
              "        0.39795918]])"
            ]
          },
          "metadata": {},
          "execution_count": 25
        }
      ]
    },
    {
      "cell_type": "code",
      "metadata": {
        "colab": {
          "base_uri": "https://localhost:8080/"
        },
        "id": "x_K3GkHuAsW1",
        "outputId": "d99311c8-1bea-4e9d-d03e-0d8795c45b50"
      },
      "source": [
        "data_X.shape"
      ],
      "execution_count": null,
      "outputs": [
        {
          "output_type": "execute_result",
          "data": {
            "text/plain": [
              "(23884, 104)"
            ]
          },
          "metadata": {},
          "execution_count": 26
        }
      ]
    },
    {
      "cell_type": "code",
      "metadata": {
        "colab": {
          "base_uri": "https://localhost:8080/"
        },
        "id": "_bJ-8kcZAvYk",
        "outputId": "fe60ff0a-dd19-4ea7-9ede-6ce3287b5579"
      },
      "source": [
        "p = data_X[0:1000]\n",
        "p.shape"
      ],
      "execution_count": null,
      "outputs": [
        {
          "output_type": "execute_result",
          "data": {
            "text/plain": [
              "(1000, 104)"
            ]
          },
          "metadata": {},
          "execution_count": 27
        }
      ]
    },
    {
      "cell_type": "code",
      "metadata": {
        "colab": {
          "base_uri": "https://localhost:8080/"
        },
        "id": "1eXpnQ_5A0Qt",
        "outputId": "bee74968-1771-49d2-d11b-04376d82b720"
      },
      "source": [
        "q = data_X[1434:4256]\n",
        "q.shape"
      ],
      "execution_count": null,
      "outputs": [
        {
          "output_type": "execute_result",
          "data": {
            "text/plain": [
              "(2822, 104)"
            ]
          },
          "metadata": {},
          "execution_count": 28
        }
      ]
    },
    {
      "cell_type": "markdown",
      "metadata": {
        "id": "BvpBmy2Uh4Gk"
      },
      "source": [
        "## Preprocess y\n"
      ]
    },
    {
      "cell_type": "code",
      "metadata": {
        "id": "6O0bEYPaA3_R"
      },
      "source": [
        "k = np.concatenate((p, q), axis = 0)"
      ],
      "execution_count": null,
      "outputs": []
    },
    {
      "cell_type": "code",
      "metadata": {
        "colab": {
          "base_uri": "https://localhost:8080/"
        },
        "id": "kScOaYXNBErO",
        "outputId": "30455d57-42da-4140-951f-e7bfe1d85d3a"
      },
      "source": [
        "k.shape"
      ],
      "execution_count": null,
      "outputs": [
        {
          "output_type": "execute_result",
          "data": {
            "text/plain": [
              "(3822, 104)"
            ]
          },
          "metadata": {},
          "execution_count": 30
        }
      ]
    },
    {
      "cell_type": "code",
      "metadata": {
        "id": "oYBRRrwzjDIG"
      },
      "source": [
        "# label \" <=50K\" as 0 and \" >50K\" as 1\n",
        "data_y = [0 if e == ' <=50K' else 1 for e in data['salary']]\n",
        "test_y = [0 if e == ' <=50K.' else 1 for e in test['salary']]"
      ],
      "execution_count": null,
      "outputs": []
    },
    {
      "cell_type": "code",
      "metadata": {
        "id": "qd0qY1iERrzT"
      },
      "source": [
        "\n",
        "import pandas as pd\n",
        "import numpy as np"
      ],
      "execution_count": null,
      "outputs": []
    },
    {
      "cell_type": "code",
      "metadata": {
        "id": "RWx6Svmb_V3W"
      },
      "source": [
        "names = ['Sample code number', 'Clump Thickness', 'Uniformity of Cell Size', 'Uniformity of Cell Shape',\n",
        "                   'Marginal Adhesion', 'Single Epithelial Cell Size', 'Bare Nuclei', 'Bland Chromatin',\n",
        "                   'Normal Nucleoli', 'Mitoses', 'Class']\n",
        "\n",
        "data = pd.read_csv(\"breast-cancer-wisconsin.data\",\n",
        "                  names=names)\n",
        "data = data.replace(to_replace=\"?\", value=np.NaN)\n",
        "data = data.dropna()\n",
        "data['Bare Nuclei'] = data['Bare Nuclei'].astype('int')\n",
        "x = np.array(data.iloc[:, 1:10])\n",
        "y = np.array(data.iloc[:, 10:])\n",
        "y = y.reshape(-1, )\n",
        "y[y==4] = 1\n",
        "y[y==2] = 0"
      ],
      "execution_count": null,
      "outputs": []
    },
    {
      "cell_type": "code",
      "metadata": {
        "id": "jHw5fXMRALbO",
        "colab": {
          "base_uri": "https://localhost:8080/",
          "height": 450
        },
        "outputId": "36b1ad94-3745-470e-a205-8fee21f722df"
      },
      "source": [
        "data"
      ],
      "execution_count": null,
      "outputs": [
        {
          "output_type": "execute_result",
          "data": {
            "text/html": [
              "<div>\n",
              "<style scoped>\n",
              "    .dataframe tbody tr th:only-of-type {\n",
              "        vertical-align: middle;\n",
              "    }\n",
              "\n",
              "    .dataframe tbody tr th {\n",
              "        vertical-align: top;\n",
              "    }\n",
              "\n",
              "    .dataframe thead th {\n",
              "        text-align: right;\n",
              "    }\n",
              "</style>\n",
              "<table border=\"1\" class=\"dataframe\">\n",
              "  <thead>\n",
              "    <tr style=\"text-align: right;\">\n",
              "      <th></th>\n",
              "      <th>Sample code number</th>\n",
              "      <th>Clump Thickness</th>\n",
              "      <th>Uniformity of Cell Size</th>\n",
              "      <th>Uniformity of Cell Shape</th>\n",
              "      <th>Marginal Adhesion</th>\n",
              "      <th>Single Epithelial Cell Size</th>\n",
              "      <th>Bare Nuclei</th>\n",
              "      <th>Bland Chromatin</th>\n",
              "      <th>Normal Nucleoli</th>\n",
              "      <th>Mitoses</th>\n",
              "      <th>Class</th>\n",
              "    </tr>\n",
              "  </thead>\n",
              "  <tbody>\n",
              "    <tr>\n",
              "      <th>0</th>\n",
              "      <td>1000025</td>\n",
              "      <td>5</td>\n",
              "      <td>1</td>\n",
              "      <td>1</td>\n",
              "      <td>1</td>\n",
              "      <td>2</td>\n",
              "      <td>1</td>\n",
              "      <td>3</td>\n",
              "      <td>1</td>\n",
              "      <td>1</td>\n",
              "      <td>2</td>\n",
              "    </tr>\n",
              "    <tr>\n",
              "      <th>1</th>\n",
              "      <td>1002945</td>\n",
              "      <td>5</td>\n",
              "      <td>4</td>\n",
              "      <td>4</td>\n",
              "      <td>5</td>\n",
              "      <td>7</td>\n",
              "      <td>10</td>\n",
              "      <td>3</td>\n",
              "      <td>2</td>\n",
              "      <td>1</td>\n",
              "      <td>2</td>\n",
              "    </tr>\n",
              "    <tr>\n",
              "      <th>2</th>\n",
              "      <td>1015425</td>\n",
              "      <td>3</td>\n",
              "      <td>1</td>\n",
              "      <td>1</td>\n",
              "      <td>1</td>\n",
              "      <td>2</td>\n",
              "      <td>2</td>\n",
              "      <td>3</td>\n",
              "      <td>1</td>\n",
              "      <td>1</td>\n",
              "      <td>2</td>\n",
              "    </tr>\n",
              "    <tr>\n",
              "      <th>3</th>\n",
              "      <td>1016277</td>\n",
              "      <td>6</td>\n",
              "      <td>8</td>\n",
              "      <td>8</td>\n",
              "      <td>1</td>\n",
              "      <td>3</td>\n",
              "      <td>4</td>\n",
              "      <td>3</td>\n",
              "      <td>7</td>\n",
              "      <td>1</td>\n",
              "      <td>2</td>\n",
              "    </tr>\n",
              "    <tr>\n",
              "      <th>4</th>\n",
              "      <td>1017023</td>\n",
              "      <td>4</td>\n",
              "      <td>1</td>\n",
              "      <td>1</td>\n",
              "      <td>3</td>\n",
              "      <td>2</td>\n",
              "      <td>1</td>\n",
              "      <td>3</td>\n",
              "      <td>1</td>\n",
              "      <td>1</td>\n",
              "      <td>2</td>\n",
              "    </tr>\n",
              "    <tr>\n",
              "      <th>...</th>\n",
              "      <td>...</td>\n",
              "      <td>...</td>\n",
              "      <td>...</td>\n",
              "      <td>...</td>\n",
              "      <td>...</td>\n",
              "      <td>...</td>\n",
              "      <td>...</td>\n",
              "      <td>...</td>\n",
              "      <td>...</td>\n",
              "      <td>...</td>\n",
              "      <td>...</td>\n",
              "    </tr>\n",
              "    <tr>\n",
              "      <th>694</th>\n",
              "      <td>776715</td>\n",
              "      <td>3</td>\n",
              "      <td>1</td>\n",
              "      <td>1</td>\n",
              "      <td>1</td>\n",
              "      <td>3</td>\n",
              "      <td>2</td>\n",
              "      <td>1</td>\n",
              "      <td>1</td>\n",
              "      <td>1</td>\n",
              "      <td>2</td>\n",
              "    </tr>\n",
              "    <tr>\n",
              "      <th>695</th>\n",
              "      <td>841769</td>\n",
              "      <td>2</td>\n",
              "      <td>1</td>\n",
              "      <td>1</td>\n",
              "      <td>1</td>\n",
              "      <td>2</td>\n",
              "      <td>1</td>\n",
              "      <td>1</td>\n",
              "      <td>1</td>\n",
              "      <td>1</td>\n",
              "      <td>2</td>\n",
              "    </tr>\n",
              "    <tr>\n",
              "      <th>696</th>\n",
              "      <td>888820</td>\n",
              "      <td>5</td>\n",
              "      <td>10</td>\n",
              "      <td>10</td>\n",
              "      <td>3</td>\n",
              "      <td>7</td>\n",
              "      <td>3</td>\n",
              "      <td>8</td>\n",
              "      <td>10</td>\n",
              "      <td>2</td>\n",
              "      <td>4</td>\n",
              "    </tr>\n",
              "    <tr>\n",
              "      <th>697</th>\n",
              "      <td>897471</td>\n",
              "      <td>4</td>\n",
              "      <td>8</td>\n",
              "      <td>6</td>\n",
              "      <td>4</td>\n",
              "      <td>3</td>\n",
              "      <td>4</td>\n",
              "      <td>10</td>\n",
              "      <td>6</td>\n",
              "      <td>1</td>\n",
              "      <td>4</td>\n",
              "    </tr>\n",
              "    <tr>\n",
              "      <th>698</th>\n",
              "      <td>897471</td>\n",
              "      <td>4</td>\n",
              "      <td>8</td>\n",
              "      <td>8</td>\n",
              "      <td>5</td>\n",
              "      <td>4</td>\n",
              "      <td>5</td>\n",
              "      <td>10</td>\n",
              "      <td>4</td>\n",
              "      <td>1</td>\n",
              "      <td>4</td>\n",
              "    </tr>\n",
              "  </tbody>\n",
              "</table>\n",
              "<p>683 rows × 11 columns</p>\n",
              "</div>"
            ],
            "text/plain": [
              "     Sample code number  Clump Thickness  ...  Mitoses  Class\n",
              "0               1000025                5  ...        1      2\n",
              "1               1002945                5  ...        1      2\n",
              "2               1015425                3  ...        1      2\n",
              "3               1016277                6  ...        1      2\n",
              "4               1017023                4  ...        1      2\n",
              "..                  ...              ...  ...      ...    ...\n",
              "694              776715                3  ...        1      2\n",
              "695              841769                2  ...        1      2\n",
              "696              888820                5  ...        2      4\n",
              "697              897471                4  ...        1      4\n",
              "698              897471                4  ...        1      4\n",
              "\n",
              "[683 rows x 11 columns]"
            ]
          },
          "metadata": {},
          "execution_count": 34
        }
      ]
    },
    {
      "cell_type": "code",
      "metadata": {
        "id": "6v2s3R2waP1X"
      },
      "source": [
        "from sklearn.model_selection import train_test_split\n",
        "attributes = ['Sample code number', 'Clump Thickness', 'Uniformity of Cell Size', 'Uniformity of Cell Shape',\n",
        "                   'Marginal Adhesion', 'Single Epithelial Cell Size', 'Bare Nuclei', 'Bland Chromatin',\n",
        "                   'Normal Nucleoli', 'Mitoses']\n",
        "X = data[attributes]\n",
        "y = data['Class']\n",
        "X_train, X_test, y_train, y_test = train_test_split(X, y, test_size=0.15, random_state=10, shuffle = True)"
      ],
      "execution_count": null,
      "outputs": []
    },
    {
      "cell_type": "code",
      "metadata": {
        "id": "PLw7czpEaSkn",
        "colab": {
          "base_uri": "https://localhost:8080/"
        },
        "outputId": "00eacc93-5a31-4f1e-8240-94324ff99049"
      },
      "source": [
        "print(X_train.shape, X_test.shape)\n",
        "print(y_train.shape, y_test.shape)\n",
        "# 580 training, 103 testing"
      ],
      "execution_count": null,
      "outputs": [
        {
          "output_type": "stream",
          "name": "stdout",
          "text": [
            "(580, 10) (103, 10)\n",
            "(580,) (103,)\n"
          ]
        }
      ]
    },
    {
      "cell_type": "code",
      "metadata": {
        "id": "T4RtRGIFaUxO"
      },
      "source": [
        "scaler = MinMaxScaler()\n",
        "data_norm = scaler.fit_transform(X_train)\n",
        "test_norm = scaler.transform(X_test)"
      ],
      "execution_count": null,
      "outputs": []
    },
    {
      "cell_type": "code",
      "metadata": {
        "id": "dq1vGrCgaWxO",
        "colab": {
          "base_uri": "https://localhost:8080/"
        },
        "outputId": "ec8a2936-1f89-4c3c-b50c-100076885af0"
      },
      "source": [
        "print(data_norm[0])\n",
        "print(test_norm[0])"
      ],
      "execution_count": null,
      "outputs": [
        {
          "output_type": "stream",
          "name": "stdout",
          "text": [
            "[0.05944114 0.77777778 1.         1.         0.66666667 1.\n",
            " 1.         0.66666667 0.22222222 0.77777778]\n",
            "[0.03479612 1.         1.         1.         1.         1.\n",
            " 1.         0.33333333 1.         1.        ]\n"
          ]
        }
      ]
    },
    {
      "cell_type": "markdown",
      "metadata": {
        "id": "EVIGIqJKHcbE"
      },
      "source": [
        "## Cross validation "
      ]
    },
    {
      "cell_type": "code",
      "metadata": {
        "id": "S9EzUjygHhCo"
      },
      "source": [
        "from sklearn.neighbors import KNeighborsClassifier\n",
        "from sklearn.tree import DecisionTreeClassifier\n",
        "def k_foldCV(data_X, data_Y, classifier, k=5, percent_use = 1):\n",
        "  \n",
        "\n",
        "  used_num = int(len(data_X) * percent_use)\n",
        "  print(\"num of total data entries: {}\".format(len(data_X)))\n",
        "  print(\"num of data used: {}\".format(used_num))\n",
        "  # print(\"num of total data entries: {}\".format(len(data_X))\n",
        "  # print(\"num of data used: {} \".format(used_num))\n",
        "\n",
        "  data_x = data_X[:used_num]\n",
        "  data_y = data_Y[:used_num]\n",
        "\n",
        "  start = 0\n",
        "  data_size = len(data_x) // k\n",
        "  best_score = 0\n",
        "  lowest_score = 999\n",
        "  avg = 0\n",
        "  print(\"model: {}\".format(classifier))\n",
        "  ## split the data into k sets\n",
        "  for i in range(k):\n",
        "    if i == 0:\n",
        "      validation_x = data_x[0:data_size]\n",
        "      validation_y = data_y[0:data_size]\n",
        "      training_x = data_x[data_size:]\n",
        "      training_y = data_y[data_size:]\n",
        "      print(\"fold 1 starts:\")\n",
        "      \n",
        "      classifier.fit(training_x, training_y)\n",
        "      cur_score = classifier.score(validation_x, validation_y)\n",
        "      \n",
        "      print(\"fold 1 score: \", cur_score)\n",
        "      best_score = max(best_score, cur_score)\n",
        "      lowest_score = min(lowest_score, cur_score)\n",
        "      start += data_size\n",
        "      avg += cur_score\n",
        "      print(\"_______________________________________\")\n",
        "    elif i != 0 and i != k-1:\n",
        "      validation_x = data_x[start:start + data_size]\n",
        "      validation_y = data_y[start:start + data_size]\n",
        "      training_x = np.concatenate((data_x[0:start], data_x[start+data_size:]), axis = 0)\n",
        "      training_y = np.concatenate((data_y[0:start], data_y[start+data_size:]), axis = 0) \n",
        "      print(\"fold {} starts:\".format(i+1))\n",
        "      classifier.fit(training_x, training_y)\n",
        "      cur_score = classifier.score(validation_x, validation_y)\n",
        "      print(\"fold {} score: \".format(i+1), cur_score)\n",
        "      best_score = max(best_score, cur_score)\n",
        "      lowest_score = min(lowest_score, cur_score)\n",
        "      start += data_size\n",
        "      avg += cur_score\n",
        "      print(\"_______________________________________\")\n",
        "    else:\n",
        "      validation_x = data_x[start:]\n",
        "      validation_y = data_y[start:]\n",
        "      training_x = data_x[0:start]\n",
        "      training_y = data_y[0:start]\n",
        "      print(\"fold {} starts:\".format(i+1))\n",
        "      classifier.fit(training_x, training_y)\n",
        "      cur_score = classifier.score(validation_x, validation_y)\n",
        "      print(\"fold {} score: \".format(i+1), cur_score)\n",
        "      best_score = max(best_score, cur_score)\n",
        "      lowest_score = min(lowest_score, cur_score)\n",
        "      avg += cur_score\n",
        "      print(\"_______________________________________\")\n",
        "  avg = avg / k\n",
        "  print(\"CV complete\")\n",
        "  print(\"best_score is:\", best_score)\n",
        "  print(\"lowest_score is:\", lowest_score)\n",
        "  print(\"avg score is:\", avg)\n",
        "  return avg\n",
        "\n",
        "\n",
        "\n",
        "\n",
        "\n"
      ],
      "execution_count": null,
      "outputs": []
    },
    {
      "cell_type": "code",
      "metadata": {
        "id": "xA6dsDOeHP1h"
      },
      "source": [
        "\n",
        "max_depth_params = [i for i in range(1, 101, 5)]\n",
        "criterion_params = [\"gini\", \"entropy\"]\n",
        "min_samples_split = [i for i in range(2, 102, 5)]\n",
        "\n",
        "def DT_GridsearchCV(max_depth_params, criterion_params, min_samples_split, classifier, data_x, data_y):\n",
        "  best_params = []\n",
        "  best_score = 0\n",
        "  counter = 1\n",
        "  for depth in max_depth_params:\n",
        "    for crit in criterion_params:\n",
        "      for num_sample_split in min_samples_split:\n",
        "        print(\"sample {} starts\".format(counter))\n",
        "        cur_params = [depth, crit, num_sample_split]\n",
        "        dtree_clf = classifier(criterion = crit,\n",
        "                               max_depth = depth,\n",
        "                               min_samples_split = num_sample_split)\n",
        "        print(\"testing params: depth={}, criterion={}, min_samples_split={}\".format(crit,\n",
        "                                                                                    depth,\n",
        "                                                                                    num_sample_split))\n",
        "        \n",
        "        score = k_foldCV(data_x, data_y, dtree_clf, k=3)\n",
        "        print(\"sample {} score is \".format(score))\n",
        "        if score >= best_score:\n",
        "          \n",
        "          best_score = score \n",
        "          best_params = cur_params\n",
        "        print(\"_________________________________\")\n",
        "        counter += 1\n",
        "  print(\"best params are: depth = {}, crit = {}, min_sample_split = {}, with_score= {}\".format(best_params[0], best_params[1], best_params[2], best_score))\n",
        "  return best_params, best_score\n",
        "\n",
        "  #\n",
        "\n",
        "\n"
      ],
      "execution_count": null,
      "outputs": []
    },
    {
      "cell_type": "markdown",
      "metadata": {
        "id": "zTDIdKdUSpgR"
      },
      "source": [
        "##Grid Search\n"
      ]
    },
    {
      "cell_type": "code",
      "metadata": {
        "id": "pGE3aCNHSv6w"
      },
      "source": [
        "\n",
        "max_depth_params = [i for i in range(1, 101, 10)]\n",
        "criterion_params = [\"gini\", \"entropy\"]\n",
        "min_samples_split = [i for i in range(2, 102, 10)]\n",
        "min_samples_leaf = [i for i in range(1, 101, 10)]\n",
        "\n",
        "\n",
        "def DT_GridsearchCV(max_depth_params, criterion_params, min_samples_split, min_samples_leaf, classifier, data_x, data_y):\n",
        "  best_params = []\n",
        "  best_score = 0\n",
        "  counter = 1\n",
        "  all_params_and_score = []\n",
        "  for depth in max_depth_params:\n",
        "    for crit in criterion_params:\n",
        "      for num_sample_split in min_samples_split:\n",
        "        for min_leaf in min_samples_leaf:\n",
        "          print(\"sample {} starts\".format(counter))\n",
        "          cur_params = [depth, crit, num_sample_split, min_leaf]\n",
        "          dtree_clf = classifier(criterion = crit,\n",
        "                                max_depth = depth,\n",
        "                                min_samples_split = num_sample_split,\n",
        "                                 min_samples_leaf = min_leaf \n",
        "                                 )\n",
        "          print(\"testing params: depth={}, criterion={}, min_samples_split={}, min_samples_leaf={}\".format(crit,\n",
        "                                                                                      depth,\n",
        "                                                                                      num_sample_split, min_leaf))\n",
        "          \n",
        "          score = k_foldCV(data_x, data_y, dtree_clf, k=3)\n",
        "          print(\"sample {} score is \".format(score))\n",
        "          cur_score = [depth, crit, num_sample_split,min_leaf, score]\n",
        "          all_params_and_score.append(cur_score)\n",
        "          if score >= best_score:\n",
        "            \n",
        "            best_score = score \n",
        "            best_params = cur_params\n",
        "          print(\"_________________________________\")\n",
        "          counter += 1\n",
        "  print(\"best params are: depth = {}, crit = {}, min_sample_split = {}, min_samples_leaf = {},  with_score= {}\".format(best_params[0], best_params[1], best_params[2], best_params[3], best_score))\n",
        "  return best_params, best_score, all_params_and_score\n",
        "\n",
        "  #\n"
      ],
      "execution_count": null,
      "outputs": []
    },
    {
      "cell_type": "code",
      "metadata": {
        "id": "yDwRhsmCep7u",
        "colab": {
          "base_uri": "https://localhost:8080/"
        },
        "outputId": "a6db3ecf-f37f-48ce-e380-cc933c85839b"
      },
      "source": [
        "print(max_depth_params)\n",
        "print(criterion_params)\n",
        "print(min_samples_split)\n",
        "print(min_samples_leaf) "
      ],
      "execution_count": null,
      "outputs": [
        {
          "output_type": "stream",
          "name": "stdout",
          "text": [
            "[1, 11, 21, 31, 41, 51, 61, 71, 81, 91]\n",
            "['gini', 'entropy']\n",
            "[2, 12, 22, 32, 42, 52, 62, 72, 82, 92]\n",
            "[1, 11, 21, 31, 41, 51, 61, 71, 81, 91]\n"
          ]
        }
      ]
    },
    {
      "cell_type": "code",
      "metadata": {
        "id": "knyaKytlS1Bj"
      },
      "source": [
        "# best_params, best_score, all_params_and_score = DT_GridsearchCV(max_depth_params, criterion_params, min_samples_split, min_samples_leaf,DecisionTreeClassifier,data_X, data_y)"
      ],
      "execution_count": null,
      "outputs": []
    },
    {
      "cell_type": "code",
      "metadata": {
        "id": "K6uVjMvFewJQ"
      },
      "source": [
        "#all_params_and_score"
      ],
      "execution_count": null,
      "outputs": []
    },
    {
      "cell_type": "code",
      "metadata": {
        "id": "7Mi-8Jyse7Hd"
      },
      "source": [
        "#len(all_params_and_score)"
      ],
      "execution_count": null,
      "outputs": []
    },
    {
      "cell_type": "code",
      "metadata": {
        "id": "_xg3pxOUe_rS"
      },
      "source": [
        "# np.savetxt(\"resultsDT.csv\", all_params_and_score, delimiter=',')"
      ],
      "execution_count": null,
      "outputs": []
    },
    {
      "cell_type": "code",
      "metadata": {
        "id": "F7f_FWYPfapQ"
      },
      "source": [
        "#all_params_and_score = np.array(all_params_and_score)"
      ],
      "execution_count": null,
      "outputs": []
    },
    {
      "cell_type": "markdown",
      "metadata": {
        "id": "baX8AMKG1ev0"
      },
      "source": [
        "##Sample growing subsets of the training/validation data"
      ]
    },
    {
      "cell_type": "code",
      "metadata": {
        "id": "MaAuGOE36XV7"
      },
      "source": [
        "def percent_data_vs_score(data_X, data_y, classifier, percent):\n",
        "  score_list = []\n",
        "  for num in percent:\n",
        "    score = k_foldCV(data_X, data_y, classifier, 5, percent_use=num)\n",
        "    score_list.append(score)\n",
        "  return score_list"
      ],
      "execution_count": null,
      "outputs": []
    },
    {
      "cell_type": "markdown",
      "metadata": {
        "id": "dav6tQpJAb0J"
      },
      "source": [
        "###KNN"
      ]
    },
    {
      "cell_type": "code",
      "metadata": {
        "colab": {
          "base_uri": "https://localhost:8080/",
          "height": 1000
        },
        "id": "hVtdIM-5AefU",
        "outputId": "715d6bdc-8032-4aa6-a728-866f7e0fba60"
      },
      "source": [
        "#The best accuracy is 0.8296,given by the model with 29 neighbors and uniform weight method\n",
        "adult_KNN = KNeighborsClassifier(n_neighbors=29)\n",
        "adult_KNN = adult_KNN.fit(data_X, data_y)\n",
        "percent = np.linspace(0.1, 1, 10)\n",
        "\n",
        "adult_KNN_score_list = percent_data_vs_score(data_X, data_y, adult_KNN, percent)"
      ],
      "execution_count": null,
      "outputs": [
        {
          "output_type": "stream",
          "name": "stdout",
          "text": [
            "num of total data entries: 23884\n",
            "num of data used: 2388\n",
            "model: KNeighborsClassifier(algorithm='auto', leaf_size=30, metric='minkowski',\n",
            "                     metric_params=None, n_jobs=None, n_neighbors=29, p=2,\n",
            "                     weights='uniform')\n",
            "fold 1 starts:\n",
            "fold 1 score:  0.8238993710691824\n",
            "_______________________________________\n",
            "fold 2 starts:\n",
            "fold 2 score:  0.8427672955974843\n",
            "_______________________________________\n",
            "fold 3 starts:\n",
            "fold 3 score:  0.8155136268343816\n",
            "_______________________________________\n",
            "fold 4 starts:\n",
            "fold 4 score:  0.8322851153039832\n",
            "_______________________________________\n",
            "fold 5 starts:\n",
            "fold 5 score:  0.8333333333333334\n",
            "_______________________________________\n",
            "CV complete\n",
            "best_score is: 0.8427672955974843\n",
            "lowest_score is: 0.8155136268343816\n",
            "avg score is: 0.829559748427673\n",
            "num of total data entries: 23884\n",
            "num of data used: 4776\n",
            "model: KNeighborsClassifier(algorithm='auto', leaf_size=30, metric='minkowski',\n",
            "                     metric_params=None, n_jobs=None, n_neighbors=29, p=2,\n",
            "                     weights='uniform')\n",
            "fold 1 starts:\n",
            "fold 1 score:  0.8272251308900523\n",
            "_______________________________________\n",
            "fold 2 starts:\n",
            "fold 2 score:  0.8167539267015707\n",
            "_______________________________________\n",
            "fold 3 starts:\n",
            "fold 3 score:  0.8272251308900523\n",
            "_______________________________________\n",
            "fold 4 starts:\n",
            "fold 4 score:  0.8052356020942408\n",
            "_______________________________________\n",
            "fold 5 starts:\n",
            "fold 5 score:  0.8158995815899581\n",
            "_______________________________________\n",
            "CV complete\n",
            "best_score is: 0.8272251308900523\n",
            "lowest_score is: 0.8052356020942408\n",
            "avg score is: 0.8184678744331748\n",
            "num of total data entries: 23884\n",
            "num of data used: 7165\n",
            "model: KNeighborsClassifier(algorithm='auto', leaf_size=30, metric='minkowski',\n",
            "                     metric_params=None, n_jobs=None, n_neighbors=29, p=2,\n",
            "                     weights='uniform')\n",
            "fold 1 starts:\n"
          ]
        },
        {
          "output_type": "error",
          "ename": "KeyboardInterrupt",
          "evalue": "ignored",
          "traceback": [
            "\u001b[0;31m---------------------------------------------------------------------------\u001b[0m",
            "\u001b[0;31mKeyboardInterrupt\u001b[0m                         Traceback (most recent call last)",
            "\u001b[0;32m<ipython-input-44-60dfd9612bc9>\u001b[0m in \u001b[0;36m<module>\u001b[0;34m()\u001b[0m\n\u001b[1;32m      4\u001b[0m \u001b[0mpercent\u001b[0m \u001b[0;34m=\u001b[0m \u001b[0mnp\u001b[0m\u001b[0;34m.\u001b[0m\u001b[0mlinspace\u001b[0m\u001b[0;34m(\u001b[0m\u001b[0;36m0.1\u001b[0m\u001b[0;34m,\u001b[0m \u001b[0;36m1\u001b[0m\u001b[0;34m,\u001b[0m \u001b[0;36m10\u001b[0m\u001b[0;34m)\u001b[0m\u001b[0;34m\u001b[0m\u001b[0;34m\u001b[0m\u001b[0m\n\u001b[1;32m      5\u001b[0m \u001b[0;34m\u001b[0m\u001b[0m\n\u001b[0;32m----> 6\u001b[0;31m \u001b[0madult_KNN_score_list\u001b[0m \u001b[0;34m=\u001b[0m \u001b[0mpercent_data_vs_score\u001b[0m\u001b[0;34m(\u001b[0m\u001b[0mdata_X\u001b[0m\u001b[0;34m,\u001b[0m \u001b[0mdata_y\u001b[0m\u001b[0;34m,\u001b[0m \u001b[0madult_KNN\u001b[0m\u001b[0;34m,\u001b[0m \u001b[0mpercent\u001b[0m\u001b[0;34m)\u001b[0m\u001b[0;34m\u001b[0m\u001b[0;34m\u001b[0m\u001b[0m\n\u001b[0m",
            "\u001b[0;32m<ipython-input-43-3cbb24f74af4>\u001b[0m in \u001b[0;36mpercent_data_vs_score\u001b[0;34m(data_X, data_y, classifier, percent)\u001b[0m\n\u001b[1;32m      2\u001b[0m   \u001b[0mscore_list\u001b[0m \u001b[0;34m=\u001b[0m \u001b[0;34m[\u001b[0m\u001b[0;34m]\u001b[0m\u001b[0;34m\u001b[0m\u001b[0;34m\u001b[0m\u001b[0m\n\u001b[1;32m      3\u001b[0m   \u001b[0;32mfor\u001b[0m \u001b[0mnum\u001b[0m \u001b[0;32min\u001b[0m \u001b[0mpercent\u001b[0m\u001b[0;34m:\u001b[0m\u001b[0;34m\u001b[0m\u001b[0;34m\u001b[0m\u001b[0m\n\u001b[0;32m----> 4\u001b[0;31m     \u001b[0mscore\u001b[0m \u001b[0;34m=\u001b[0m \u001b[0mk_foldCV\u001b[0m\u001b[0;34m(\u001b[0m\u001b[0mdata_X\u001b[0m\u001b[0;34m,\u001b[0m \u001b[0mdata_y\u001b[0m\u001b[0;34m,\u001b[0m \u001b[0mclassifier\u001b[0m\u001b[0;34m,\u001b[0m \u001b[0;36m5\u001b[0m\u001b[0;34m,\u001b[0m \u001b[0mpercent_use\u001b[0m\u001b[0;34m=\u001b[0m\u001b[0mnum\u001b[0m\u001b[0;34m)\u001b[0m\u001b[0;34m\u001b[0m\u001b[0;34m\u001b[0m\u001b[0m\n\u001b[0m\u001b[1;32m      5\u001b[0m     \u001b[0mscore_list\u001b[0m\u001b[0;34m.\u001b[0m\u001b[0mappend\u001b[0m\u001b[0;34m(\u001b[0m\u001b[0mscore\u001b[0m\u001b[0;34m)\u001b[0m\u001b[0;34m\u001b[0m\u001b[0;34m\u001b[0m\u001b[0m\n\u001b[1;32m      6\u001b[0m   \u001b[0;32mreturn\u001b[0m \u001b[0mscore_list\u001b[0m\u001b[0;34m\u001b[0m\u001b[0;34m\u001b[0m\u001b[0m\n",
            "\u001b[0;32m<ipython-input-39-27d3c7f50021>\u001b[0m in \u001b[0;36mk_foldCV\u001b[0;34m(data_X, data_Y, classifier, k, percent_use)\u001b[0m\n\u001b[1;32m     29\u001b[0m \u001b[0;34m\u001b[0m\u001b[0m\n\u001b[1;32m     30\u001b[0m       \u001b[0mclassifier\u001b[0m\u001b[0;34m.\u001b[0m\u001b[0mfit\u001b[0m\u001b[0;34m(\u001b[0m\u001b[0mtraining_x\u001b[0m\u001b[0;34m,\u001b[0m \u001b[0mtraining_y\u001b[0m\u001b[0;34m)\u001b[0m\u001b[0;34m\u001b[0m\u001b[0;34m\u001b[0m\u001b[0m\n\u001b[0;32m---> 31\u001b[0;31m       \u001b[0mcur_score\u001b[0m \u001b[0;34m=\u001b[0m \u001b[0mclassifier\u001b[0m\u001b[0;34m.\u001b[0m\u001b[0mscore\u001b[0m\u001b[0;34m(\u001b[0m\u001b[0mvalidation_x\u001b[0m\u001b[0;34m,\u001b[0m \u001b[0mvalidation_y\u001b[0m\u001b[0;34m)\u001b[0m\u001b[0;34m\u001b[0m\u001b[0;34m\u001b[0m\u001b[0m\n\u001b[0m\u001b[1;32m     32\u001b[0m \u001b[0;34m\u001b[0m\u001b[0m\n\u001b[1;32m     33\u001b[0m       \u001b[0mprint\u001b[0m\u001b[0;34m(\u001b[0m\u001b[0;34m\"fold 1 score: \"\u001b[0m\u001b[0;34m,\u001b[0m \u001b[0mcur_score\u001b[0m\u001b[0;34m)\u001b[0m\u001b[0;34m\u001b[0m\u001b[0;34m\u001b[0m\u001b[0m\n",
            "\u001b[0;32m/usr/local/lib/python3.7/dist-packages/sklearn/base.py\u001b[0m in \u001b[0;36mscore\u001b[0;34m(self, X, y, sample_weight)\u001b[0m\n\u001b[1;32m    367\u001b[0m         \"\"\"\n\u001b[1;32m    368\u001b[0m         \u001b[0;32mfrom\u001b[0m \u001b[0;34m.\u001b[0m\u001b[0mmetrics\u001b[0m \u001b[0;32mimport\u001b[0m \u001b[0maccuracy_score\u001b[0m\u001b[0;34m\u001b[0m\u001b[0;34m\u001b[0m\u001b[0m\n\u001b[0;32m--> 369\u001b[0;31m         \u001b[0;32mreturn\u001b[0m \u001b[0maccuracy_score\u001b[0m\u001b[0;34m(\u001b[0m\u001b[0my\u001b[0m\u001b[0;34m,\u001b[0m \u001b[0mself\u001b[0m\u001b[0;34m.\u001b[0m\u001b[0mpredict\u001b[0m\u001b[0;34m(\u001b[0m\u001b[0mX\u001b[0m\u001b[0;34m)\u001b[0m\u001b[0;34m,\u001b[0m \u001b[0msample_weight\u001b[0m\u001b[0;34m=\u001b[0m\u001b[0msample_weight\u001b[0m\u001b[0;34m)\u001b[0m\u001b[0;34m\u001b[0m\u001b[0;34m\u001b[0m\u001b[0m\n\u001b[0m\u001b[1;32m    370\u001b[0m \u001b[0;34m\u001b[0m\u001b[0m\n\u001b[1;32m    371\u001b[0m \u001b[0;34m\u001b[0m\u001b[0m\n",
            "\u001b[0;32m/usr/local/lib/python3.7/dist-packages/sklearn/neighbors/_classification.py\u001b[0m in \u001b[0;36mpredict\u001b[0;34m(self, X)\u001b[0m\n\u001b[1;32m    171\u001b[0m         \u001b[0mX\u001b[0m \u001b[0;34m=\u001b[0m \u001b[0mcheck_array\u001b[0m\u001b[0;34m(\u001b[0m\u001b[0mX\u001b[0m\u001b[0;34m,\u001b[0m \u001b[0maccept_sparse\u001b[0m\u001b[0;34m=\u001b[0m\u001b[0;34m'csr'\u001b[0m\u001b[0;34m)\u001b[0m\u001b[0;34m\u001b[0m\u001b[0;34m\u001b[0m\u001b[0m\n\u001b[1;32m    172\u001b[0m \u001b[0;34m\u001b[0m\u001b[0m\n\u001b[0;32m--> 173\u001b[0;31m         \u001b[0mneigh_dist\u001b[0m\u001b[0;34m,\u001b[0m \u001b[0mneigh_ind\u001b[0m \u001b[0;34m=\u001b[0m \u001b[0mself\u001b[0m\u001b[0;34m.\u001b[0m\u001b[0mkneighbors\u001b[0m\u001b[0;34m(\u001b[0m\u001b[0mX\u001b[0m\u001b[0;34m)\u001b[0m\u001b[0;34m\u001b[0m\u001b[0;34m\u001b[0m\u001b[0m\n\u001b[0m\u001b[1;32m    174\u001b[0m         \u001b[0mclasses_\u001b[0m \u001b[0;34m=\u001b[0m \u001b[0mself\u001b[0m\u001b[0;34m.\u001b[0m\u001b[0mclasses_\u001b[0m\u001b[0;34m\u001b[0m\u001b[0;34m\u001b[0m\u001b[0m\n\u001b[1;32m    175\u001b[0m         \u001b[0m_y\u001b[0m \u001b[0;34m=\u001b[0m \u001b[0mself\u001b[0m\u001b[0;34m.\u001b[0m\u001b[0m_y\u001b[0m\u001b[0;34m\u001b[0m\u001b[0;34m\u001b[0m\u001b[0m\n",
            "\u001b[0;32m/usr/local/lib/python3.7/dist-packages/sklearn/neighbors/_base.py\u001b[0m in \u001b[0;36mkneighbors\u001b[0;34m(self, X, n_neighbors, return_distance)\u001b[0m\n\u001b[1;32m    662\u001b[0m                 delayed_query(\n\u001b[1;32m    663\u001b[0m                     self._tree, X[s], n_neighbors, return_distance)\n\u001b[0;32m--> 664\u001b[0;31m                 \u001b[0;32mfor\u001b[0m \u001b[0ms\u001b[0m \u001b[0;32min\u001b[0m \u001b[0mgen_even_slices\u001b[0m\u001b[0;34m(\u001b[0m\u001b[0mX\u001b[0m\u001b[0;34m.\u001b[0m\u001b[0mshape\u001b[0m\u001b[0;34m[\u001b[0m\u001b[0;36m0\u001b[0m\u001b[0;34m]\u001b[0m\u001b[0;34m,\u001b[0m \u001b[0mn_jobs\u001b[0m\u001b[0;34m)\u001b[0m\u001b[0;34m\u001b[0m\u001b[0;34m\u001b[0m\u001b[0m\n\u001b[0m\u001b[1;32m    665\u001b[0m             )\n\u001b[1;32m    666\u001b[0m         \u001b[0;32melse\u001b[0m\u001b[0;34m:\u001b[0m\u001b[0;34m\u001b[0m\u001b[0;34m\u001b[0m\u001b[0m\n",
            "\u001b[0;32m/usr/local/lib/python3.7/dist-packages/joblib/parallel.py\u001b[0m in \u001b[0;36m__call__\u001b[0;34m(self, iterable)\u001b[0m\n\u001b[1;32m   1039\u001b[0m             \u001b[0;31m# remaining jobs.\u001b[0m\u001b[0;34m\u001b[0m\u001b[0;34m\u001b[0m\u001b[0;34m\u001b[0m\u001b[0m\n\u001b[1;32m   1040\u001b[0m             \u001b[0mself\u001b[0m\u001b[0;34m.\u001b[0m\u001b[0m_iterating\u001b[0m \u001b[0;34m=\u001b[0m \u001b[0;32mFalse\u001b[0m\u001b[0;34m\u001b[0m\u001b[0;34m\u001b[0m\u001b[0m\n\u001b[0;32m-> 1041\u001b[0;31m             \u001b[0;32mif\u001b[0m \u001b[0mself\u001b[0m\u001b[0;34m.\u001b[0m\u001b[0mdispatch_one_batch\u001b[0m\u001b[0;34m(\u001b[0m\u001b[0miterator\u001b[0m\u001b[0;34m)\u001b[0m\u001b[0;34m:\u001b[0m\u001b[0;34m\u001b[0m\u001b[0;34m\u001b[0m\u001b[0m\n\u001b[0m\u001b[1;32m   1042\u001b[0m                 \u001b[0mself\u001b[0m\u001b[0;34m.\u001b[0m\u001b[0m_iterating\u001b[0m \u001b[0;34m=\u001b[0m \u001b[0mself\u001b[0m\u001b[0;34m.\u001b[0m\u001b[0m_original_iterator\u001b[0m \u001b[0;32mis\u001b[0m \u001b[0;32mnot\u001b[0m \u001b[0;32mNone\u001b[0m\u001b[0;34m\u001b[0m\u001b[0;34m\u001b[0m\u001b[0m\n\u001b[1;32m   1043\u001b[0m \u001b[0;34m\u001b[0m\u001b[0m\n",
            "\u001b[0;32m/usr/local/lib/python3.7/dist-packages/joblib/parallel.py\u001b[0m in \u001b[0;36mdispatch_one_batch\u001b[0;34m(self, iterator)\u001b[0m\n\u001b[1;32m    857\u001b[0m                 \u001b[0;32mreturn\u001b[0m \u001b[0;32mFalse\u001b[0m\u001b[0;34m\u001b[0m\u001b[0;34m\u001b[0m\u001b[0m\n\u001b[1;32m    858\u001b[0m             \u001b[0;32melse\u001b[0m\u001b[0;34m:\u001b[0m\u001b[0;34m\u001b[0m\u001b[0;34m\u001b[0m\u001b[0m\n\u001b[0;32m--> 859\u001b[0;31m                 \u001b[0mself\u001b[0m\u001b[0;34m.\u001b[0m\u001b[0m_dispatch\u001b[0m\u001b[0;34m(\u001b[0m\u001b[0mtasks\u001b[0m\u001b[0;34m)\u001b[0m\u001b[0;34m\u001b[0m\u001b[0;34m\u001b[0m\u001b[0m\n\u001b[0m\u001b[1;32m    860\u001b[0m                 \u001b[0;32mreturn\u001b[0m \u001b[0;32mTrue\u001b[0m\u001b[0;34m\u001b[0m\u001b[0;34m\u001b[0m\u001b[0m\n\u001b[1;32m    861\u001b[0m \u001b[0;34m\u001b[0m\u001b[0m\n",
            "\u001b[0;32m/usr/local/lib/python3.7/dist-packages/joblib/parallel.py\u001b[0m in \u001b[0;36m_dispatch\u001b[0;34m(self, batch)\u001b[0m\n\u001b[1;32m    775\u001b[0m         \u001b[0;32mwith\u001b[0m \u001b[0mself\u001b[0m\u001b[0;34m.\u001b[0m\u001b[0m_lock\u001b[0m\u001b[0;34m:\u001b[0m\u001b[0;34m\u001b[0m\u001b[0;34m\u001b[0m\u001b[0m\n\u001b[1;32m    776\u001b[0m             \u001b[0mjob_idx\u001b[0m \u001b[0;34m=\u001b[0m \u001b[0mlen\u001b[0m\u001b[0;34m(\u001b[0m\u001b[0mself\u001b[0m\u001b[0;34m.\u001b[0m\u001b[0m_jobs\u001b[0m\u001b[0;34m)\u001b[0m\u001b[0;34m\u001b[0m\u001b[0;34m\u001b[0m\u001b[0m\n\u001b[0;32m--> 777\u001b[0;31m             \u001b[0mjob\u001b[0m \u001b[0;34m=\u001b[0m \u001b[0mself\u001b[0m\u001b[0;34m.\u001b[0m\u001b[0m_backend\u001b[0m\u001b[0;34m.\u001b[0m\u001b[0mapply_async\u001b[0m\u001b[0;34m(\u001b[0m\u001b[0mbatch\u001b[0m\u001b[0;34m,\u001b[0m \u001b[0mcallback\u001b[0m\u001b[0;34m=\u001b[0m\u001b[0mcb\u001b[0m\u001b[0;34m)\u001b[0m\u001b[0;34m\u001b[0m\u001b[0;34m\u001b[0m\u001b[0m\n\u001b[0m\u001b[1;32m    778\u001b[0m             \u001b[0;31m# A job can complete so quickly than its callback is\u001b[0m\u001b[0;34m\u001b[0m\u001b[0;34m\u001b[0m\u001b[0;34m\u001b[0m\u001b[0m\n\u001b[1;32m    779\u001b[0m             \u001b[0;31m# called before we get here, causing self._jobs to\u001b[0m\u001b[0;34m\u001b[0m\u001b[0;34m\u001b[0m\u001b[0;34m\u001b[0m\u001b[0m\n",
            "\u001b[0;32m/usr/local/lib/python3.7/dist-packages/joblib/_parallel_backends.py\u001b[0m in \u001b[0;36mapply_async\u001b[0;34m(self, func, callback)\u001b[0m\n\u001b[1;32m    206\u001b[0m     \u001b[0;32mdef\u001b[0m \u001b[0mapply_async\u001b[0m\u001b[0;34m(\u001b[0m\u001b[0mself\u001b[0m\u001b[0;34m,\u001b[0m \u001b[0mfunc\u001b[0m\u001b[0;34m,\u001b[0m \u001b[0mcallback\u001b[0m\u001b[0;34m=\u001b[0m\u001b[0;32mNone\u001b[0m\u001b[0;34m)\u001b[0m\u001b[0;34m:\u001b[0m\u001b[0;34m\u001b[0m\u001b[0;34m\u001b[0m\u001b[0m\n\u001b[1;32m    207\u001b[0m         \u001b[0;34m\"\"\"Schedule a func to be run\"\"\"\u001b[0m\u001b[0;34m\u001b[0m\u001b[0;34m\u001b[0m\u001b[0m\n\u001b[0;32m--> 208\u001b[0;31m         \u001b[0mresult\u001b[0m \u001b[0;34m=\u001b[0m \u001b[0mImmediateResult\u001b[0m\u001b[0;34m(\u001b[0m\u001b[0mfunc\u001b[0m\u001b[0;34m)\u001b[0m\u001b[0;34m\u001b[0m\u001b[0;34m\u001b[0m\u001b[0m\n\u001b[0m\u001b[1;32m    209\u001b[0m         \u001b[0;32mif\u001b[0m \u001b[0mcallback\u001b[0m\u001b[0;34m:\u001b[0m\u001b[0;34m\u001b[0m\u001b[0;34m\u001b[0m\u001b[0m\n\u001b[1;32m    210\u001b[0m             \u001b[0mcallback\u001b[0m\u001b[0;34m(\u001b[0m\u001b[0mresult\u001b[0m\u001b[0;34m)\u001b[0m\u001b[0;34m\u001b[0m\u001b[0;34m\u001b[0m\u001b[0m\n",
            "\u001b[0;32m/usr/local/lib/python3.7/dist-packages/joblib/_parallel_backends.py\u001b[0m in \u001b[0;36m__init__\u001b[0;34m(self, batch)\u001b[0m\n\u001b[1;32m    570\u001b[0m         \u001b[0;31m# Don't delay the application, to avoid keeping the input\u001b[0m\u001b[0;34m\u001b[0m\u001b[0;34m\u001b[0m\u001b[0;34m\u001b[0m\u001b[0m\n\u001b[1;32m    571\u001b[0m         \u001b[0;31m# arguments in memory\u001b[0m\u001b[0;34m\u001b[0m\u001b[0;34m\u001b[0m\u001b[0;34m\u001b[0m\u001b[0m\n\u001b[0;32m--> 572\u001b[0;31m         \u001b[0mself\u001b[0m\u001b[0;34m.\u001b[0m\u001b[0mresults\u001b[0m \u001b[0;34m=\u001b[0m \u001b[0mbatch\u001b[0m\u001b[0;34m(\u001b[0m\u001b[0;34m)\u001b[0m\u001b[0;34m\u001b[0m\u001b[0;34m\u001b[0m\u001b[0m\n\u001b[0m\u001b[1;32m    573\u001b[0m \u001b[0;34m\u001b[0m\u001b[0m\n\u001b[1;32m    574\u001b[0m     \u001b[0;32mdef\u001b[0m \u001b[0mget\u001b[0m\u001b[0;34m(\u001b[0m\u001b[0mself\u001b[0m\u001b[0;34m)\u001b[0m\u001b[0;34m:\u001b[0m\u001b[0;34m\u001b[0m\u001b[0;34m\u001b[0m\u001b[0m\n",
            "\u001b[0;32m/usr/local/lib/python3.7/dist-packages/joblib/parallel.py\u001b[0m in \u001b[0;36m__call__\u001b[0;34m(self)\u001b[0m\n\u001b[1;32m    261\u001b[0m         \u001b[0;32mwith\u001b[0m \u001b[0mparallel_backend\u001b[0m\u001b[0;34m(\u001b[0m\u001b[0mself\u001b[0m\u001b[0;34m.\u001b[0m\u001b[0m_backend\u001b[0m\u001b[0;34m,\u001b[0m \u001b[0mn_jobs\u001b[0m\u001b[0;34m=\u001b[0m\u001b[0mself\u001b[0m\u001b[0;34m.\u001b[0m\u001b[0m_n_jobs\u001b[0m\u001b[0;34m)\u001b[0m\u001b[0;34m:\u001b[0m\u001b[0;34m\u001b[0m\u001b[0;34m\u001b[0m\u001b[0m\n\u001b[1;32m    262\u001b[0m             return [func(*args, **kwargs)\n\u001b[0;32m--> 263\u001b[0;31m                     for func, args, kwargs in self.items]\n\u001b[0m\u001b[1;32m    264\u001b[0m \u001b[0;34m\u001b[0m\u001b[0m\n\u001b[1;32m    265\u001b[0m     \u001b[0;32mdef\u001b[0m \u001b[0m__reduce__\u001b[0m\u001b[0;34m(\u001b[0m\u001b[0mself\u001b[0m\u001b[0;34m)\u001b[0m\u001b[0;34m:\u001b[0m\u001b[0;34m\u001b[0m\u001b[0;34m\u001b[0m\u001b[0m\n",
            "\u001b[0;32m/usr/local/lib/python3.7/dist-packages/joblib/parallel.py\u001b[0m in \u001b[0;36m<listcomp>\u001b[0;34m(.0)\u001b[0m\n\u001b[1;32m    261\u001b[0m         \u001b[0;32mwith\u001b[0m \u001b[0mparallel_backend\u001b[0m\u001b[0;34m(\u001b[0m\u001b[0mself\u001b[0m\u001b[0;34m.\u001b[0m\u001b[0m_backend\u001b[0m\u001b[0;34m,\u001b[0m \u001b[0mn_jobs\u001b[0m\u001b[0;34m=\u001b[0m\u001b[0mself\u001b[0m\u001b[0;34m.\u001b[0m\u001b[0m_n_jobs\u001b[0m\u001b[0;34m)\u001b[0m\u001b[0;34m:\u001b[0m\u001b[0;34m\u001b[0m\u001b[0;34m\u001b[0m\u001b[0m\n\u001b[1;32m    262\u001b[0m             return [func(*args, **kwargs)\n\u001b[0;32m--> 263\u001b[0;31m                     for func, args, kwargs in self.items]\n\u001b[0m\u001b[1;32m    264\u001b[0m \u001b[0;34m\u001b[0m\u001b[0m\n\u001b[1;32m    265\u001b[0m     \u001b[0;32mdef\u001b[0m \u001b[0m__reduce__\u001b[0m\u001b[0;34m(\u001b[0m\u001b[0mself\u001b[0m\u001b[0;34m)\u001b[0m\u001b[0;34m:\u001b[0m\u001b[0;34m\u001b[0m\u001b[0;34m\u001b[0m\u001b[0m\n",
            "\u001b[0;32m/usr/local/lib/python3.7/dist-packages/sklearn/neighbors/_base.py\u001b[0m in \u001b[0;36m_tree_query_parallel_helper\u001b[0;34m(tree, *args, **kwargs)\u001b[0m\n\u001b[1;32m    489\u001b[0m     \u001b[0munder\u001b[0m \u001b[0mPyPy\u001b[0m\u001b[0;34m.\u001b[0m\u001b[0;34m\u001b[0m\u001b[0;34m\u001b[0m\u001b[0m\n\u001b[1;32m    490\u001b[0m     \"\"\"\n\u001b[0;32m--> 491\u001b[0;31m     \u001b[0;32mreturn\u001b[0m \u001b[0mtree\u001b[0m\u001b[0;34m.\u001b[0m\u001b[0mquery\u001b[0m\u001b[0;34m(\u001b[0m\u001b[0;34m*\u001b[0m\u001b[0margs\u001b[0m\u001b[0;34m,\u001b[0m \u001b[0;34m**\u001b[0m\u001b[0mkwargs\u001b[0m\u001b[0;34m)\u001b[0m\u001b[0;34m\u001b[0m\u001b[0;34m\u001b[0m\u001b[0m\n\u001b[0m\u001b[1;32m    492\u001b[0m \u001b[0;34m\u001b[0m\u001b[0m\n\u001b[1;32m    493\u001b[0m \u001b[0;34m\u001b[0m\u001b[0m\n",
            "\u001b[0;31mKeyboardInterrupt\u001b[0m: "
          ]
        }
      ]
    },
    {
      "cell_type": "markdown",
      "metadata": {
        "id": "68ln9tb8AQlz"
      },
      "source": [
        "###decision tree"
      ]
    },
    {
      "cell_type": "code",
      "metadata": {
        "colab": {
          "base_uri": "https://localhost:8080/"
        },
        "id": "yZ-DIAqu7HkV",
        "outputId": "d1773ca3-51d2-4927-a3e0-319d61b0f623"
      },
      "source": [
        "#max depth equal to 11, min sample spliteuqal to 42, min samples leaf equal to 11, and entropy as criterion.\n",
        "adult_tree = tree.DecisionTreeClassifier(criterion = 'entropy', max_depth = 11, min_samples_split = 42, min_samples_leaf = 11)\n",
        "adult_tree = adult_tree.fit(data_X, data_y)\n",
        "percent = np.linspace(0.1, 1, 10)\n",
        "\n",
        "adult_DT_score_list = percent_data_vs_score(data_X, data_y, adult_tree, percent)"
      ],
      "execution_count": null,
      "outputs": [
        {
          "output_type": "stream",
          "name": "stdout",
          "text": [
            "num of total data entries: 30161\n",
            "num of data used: 3016\n",
            "model: DecisionTreeClassifier(ccp_alpha=0.0, class_weight=None, criterion='entropy',\n",
            "                       max_depth=11, max_features=None, max_leaf_nodes=None,\n",
            "                       min_impurity_decrease=0.0, min_impurity_split=None,\n",
            "                       min_samples_leaf=11, min_samples_split=42,\n",
            "                       min_weight_fraction_leaf=0.0, presort='deprecated',\n",
            "                       random_state=None, splitter='best')\n",
            "fold 1 starts:\n",
            "fold 1 score:  0.8076285240464345\n",
            "_______________________________________\n",
            "fold 2 starts:\n",
            "fold 2 score:  0.8175787728026535\n",
            "_______________________________________\n",
            "fold 3 starts:\n",
            "fold 3 score:  0.8159203980099502\n",
            "_______________________________________\n",
            "fold 4 starts:\n",
            "fold 4 score:  0.8109452736318408\n",
            "_______________________________________\n",
            "fold 5 starts:\n",
            "fold 5 score:  0.8327814569536424\n",
            "_______________________________________\n",
            "CV complete\n",
            "best_score is: 0.8327814569536424\n",
            "lowest_score is: 0.8076285240464345\n",
            "avg score is: 0.8169708850889043\n",
            "num of total data entries: 30161\n",
            "num of data used: 6032\n",
            "model: DecisionTreeClassifier(ccp_alpha=0.0, class_weight=None, criterion='entropy',\n",
            "                       max_depth=11, max_features=None, max_leaf_nodes=None,\n",
            "                       min_impurity_decrease=0.0, min_impurity_split=None,\n",
            "                       min_samples_leaf=11, min_samples_split=42,\n",
            "                       min_weight_fraction_leaf=0.0, presort='deprecated',\n",
            "                       random_state=None, splitter='best')\n",
            "fold 1 starts:\n",
            "fold 1 score:  0.8374792703150912\n",
            "_______________________________________\n",
            "fold 2 starts:\n",
            "fold 2 score:  0.8200663349917081\n",
            "_______________________________________\n",
            "fold 3 starts:\n",
            "fold 3 score:  0.8283582089552238\n",
            "_______________________________________\n",
            "fold 4 starts:\n",
            "fold 4 score:  0.8532338308457711\n",
            "_______________________________________\n",
            "fold 5 starts:\n",
            "fold 5 score:  0.8360927152317881\n",
            "_______________________________________\n",
            "CV complete\n",
            "best_score is: 0.8532338308457711\n",
            "lowest_score is: 0.8200663349917081\n",
            "avg score is: 0.8350460720679165\n",
            "num of total data entries: 30161\n",
            "num of data used: 9048\n",
            "model: DecisionTreeClassifier(ccp_alpha=0.0, class_weight=None, criterion='entropy',\n",
            "                       max_depth=11, max_features=None, max_leaf_nodes=None,\n",
            "                       min_impurity_decrease=0.0, min_impurity_split=None,\n",
            "                       min_samples_leaf=11, min_samples_split=42,\n",
            "                       min_weight_fraction_leaf=0.0, presort='deprecated',\n",
            "                       random_state=None, splitter='best')\n",
            "fold 1 starts:\n",
            "fold 1 score:  0.8391376451077943\n",
            "_______________________________________\n",
            "fold 2 starts:\n",
            "fold 2 score:  0.8269762299613046\n",
            "_______________________________________\n",
            "fold 3 starts:\n",
            "fold 3 score:  0.8512990602542841\n",
            "_______________________________________\n",
            "fold 4 starts:\n",
            "fold 4 score:  0.8253178551686015\n",
            "_______________________________________\n",
            "fold 5 starts:\n",
            "fold 5 score:  0.8565121412803532\n",
            "_______________________________________\n",
            "CV complete\n",
            "best_score is: 0.8565121412803532\n",
            "lowest_score is: 0.8253178551686015\n",
            "avg score is: 0.8398485863544675\n",
            "num of total data entries: 30161\n",
            "num of data used: 12064\n",
            "model: DecisionTreeClassifier(ccp_alpha=0.0, class_weight=None, criterion='entropy',\n",
            "                       max_depth=11, max_features=None, max_leaf_nodes=None,\n",
            "                       min_impurity_decrease=0.0, min_impurity_split=None,\n",
            "                       min_samples_leaf=11, min_samples_split=42,\n",
            "                       min_weight_fraction_leaf=0.0, presort='deprecated',\n",
            "                       random_state=None, splitter='best')\n",
            "fold 1 starts:\n",
            "fold 1 score:  0.8370646766169154\n",
            "_______________________________________\n",
            "fold 2 starts:\n",
            "fold 2 score:  0.8424543946932007\n",
            "_______________________________________\n",
            "fold 3 starts:\n",
            "fold 3 score:  0.8449419568822554\n",
            "_______________________________________\n",
            "fold 4 starts:\n",
            "fold 4 score:  0.8412106135986733\n",
            "_______________________________________\n",
            "fold 5 starts:\n",
            "fold 5 score:  0.8439569536423841\n",
            "_______________________________________\n",
            "CV complete\n",
            "best_score is: 0.8449419568822554\n",
            "lowest_score is: 0.8370646766169154\n",
            "avg score is: 0.8419257190866858\n",
            "num of total data entries: 30161\n",
            "num of data used: 15080\n",
            "model: DecisionTreeClassifier(ccp_alpha=0.0, class_weight=None, criterion='entropy',\n",
            "                       max_depth=11, max_features=None, max_leaf_nodes=None,\n",
            "                       min_impurity_decrease=0.0, min_impurity_split=None,\n",
            "                       min_samples_leaf=11, min_samples_split=42,\n",
            "                       min_weight_fraction_leaf=0.0, presort='deprecated',\n",
            "                       random_state=None, splitter='best')\n",
            "fold 1 starts:\n",
            "fold 1 score:  0.8405172413793104\n",
            "_______________________________________\n",
            "fold 2 starts:\n",
            "fold 2 score:  0.8557692307692307\n",
            "_______________________________________\n",
            "fold 3 starts:\n",
            "fold 3 score:  0.8531167108753316\n",
            "_______________________________________\n",
            "fold 4 starts:\n",
            "fold 4 score:  0.8421750663129973\n",
            "_______________________________________\n",
            "fold 5 starts:\n",
            "fold 5 score:  0.8441644562334217\n",
            "_______________________________________\n",
            "CV complete\n",
            "best_score is: 0.8557692307692307\n",
            "lowest_score is: 0.8405172413793104\n",
            "avg score is: 0.8471485411140585\n",
            "num of total data entries: 30161\n",
            "num of data used: 18096\n",
            "model: DecisionTreeClassifier(ccp_alpha=0.0, class_weight=None, criterion='entropy',\n",
            "                       max_depth=11, max_features=None, max_leaf_nodes=None,\n",
            "                       min_impurity_decrease=0.0, min_impurity_split=None,\n",
            "                       min_samples_leaf=11, min_samples_split=42,\n",
            "                       min_weight_fraction_leaf=0.0, presort='deprecated',\n",
            "                       random_state=None, splitter='best')\n",
            "fold 1 starts:\n",
            "fold 1 score:  0.8405636916275214\n",
            "_______________________________________\n",
            "fold 2 starts:\n",
            "fold 2 score:  0.8496822326609561\n",
            "_______________________________________\n",
            "fold 3 starts:\n",
            "fold 3 score:  0.8458137607073777\n",
            "_______________________________________\n",
            "fold 4 starts:\n",
            "fold 4 score:  0.8458137607073777\n",
            "_______________________________________\n",
            "fold 5 starts:\n",
            "fold 5 score:  0.8549723756906077\n",
            "_______________________________________\n",
            "CV complete\n",
            "best_score is: 0.8549723756906077\n",
            "lowest_score is: 0.8405636916275214\n",
            "avg score is: 0.8473691642787682\n",
            "num of total data entries: 30161\n",
            "num of data used: 21112\n",
            "model: DecisionTreeClassifier(ccp_alpha=0.0, class_weight=None, criterion='entropy',\n",
            "                       max_depth=11, max_features=None, max_leaf_nodes=None,\n",
            "                       min_impurity_decrease=0.0, min_impurity_split=None,\n",
            "                       min_samples_leaf=11, min_samples_split=42,\n",
            "                       min_weight_fraction_leaf=0.0, presort='deprecated',\n",
            "                       random_state=None, splitter='best')\n",
            "fold 1 starts:\n",
            "fold 1 score:  0.8379914732354334\n",
            "_______________________________________\n",
            "fold 2 starts:\n",
            "fold 2 score:  0.8493604926575082\n",
            "_______________________________________\n",
            "fold 3 starts:\n",
            "fold 3 score:  0.844860255802937\n",
            "_______________________________________\n",
            "fold 4 starts:\n",
            "fold 4 score:  0.8529133112269067\n",
            "_______________________________________\n",
            "fold 5 starts:\n",
            "fold 5 score:  0.8484848484848485\n",
            "_______________________________________\n",
            "CV complete\n",
            "best_score is: 0.8529133112269067\n",
            "lowest_score is: 0.8379914732354334\n",
            "avg score is: 0.8467220762815268\n",
            "num of total data entries: 30161\n",
            "num of data used: 24128\n",
            "model: DecisionTreeClassifier(ccp_alpha=0.0, class_weight=None, criterion='entropy',\n",
            "                       max_depth=11, max_features=None, max_leaf_nodes=None,\n",
            "                       min_impurity_decrease=0.0, min_impurity_split=None,\n",
            "                       min_samples_leaf=11, min_samples_split=42,\n",
            "                       min_weight_fraction_leaf=0.0, presort='deprecated',\n",
            "                       random_state=None, splitter='best')\n",
            "fold 1 starts:\n",
            "fold 1 score:  0.8418652849740933\n",
            "_______________________________________\n",
            "fold 2 starts:\n",
            "fold 2 score:  0.8511917098445596\n",
            "_______________________________________\n",
            "fold 3 starts:\n",
            "fold 3 score:  0.849119170984456\n",
            "_______________________________________\n",
            "fold 4 starts:\n",
            "fold 4 score:  0.8545077720207254\n",
            "_______________________________________\n",
            "fold 5 starts:\n",
            "fold 5 score:  0.8560480530240265\n",
            "_______________________________________\n",
            "CV complete\n",
            "best_score is: 0.8560480530240265\n",
            "lowest_score is: 0.8418652849740933\n",
            "avg score is: 0.8505463981695722\n",
            "num of total data entries: 30161\n",
            "num of data used: 27144\n",
            "model: DecisionTreeClassifier(ccp_alpha=0.0, class_weight=None, criterion='entropy',\n",
            "                       max_depth=11, max_features=None, max_leaf_nodes=None,\n",
            "                       min_impurity_decrease=0.0, min_impurity_split=None,\n",
            "                       min_samples_leaf=11, min_samples_split=42,\n",
            "                       min_weight_fraction_leaf=0.0, presort='deprecated',\n",
            "                       random_state=None, splitter='best')\n",
            "fold 1 starts:\n",
            "fold 1 score:  0.843036109064112\n",
            "_______________________________________\n",
            "fold 2 starts:\n",
            "fold 2 score:  0.8485630066322771\n",
            "_______________________________________\n",
            "fold 3 starts:\n",
            "fold 3 score:  0.8526160648489315\n",
            "_______________________________________\n",
            "fold 4 starts:\n",
            "fold 4 score:  0.849852616064849\n",
            "_______________________________________\n",
            "fold 5 starts:\n",
            "fold 5 score:  0.8573269513991163\n",
            "_______________________________________\n",
            "CV complete\n",
            "best_score is: 0.8573269513991163\n",
            "lowest_score is: 0.843036109064112\n",
            "avg score is: 0.8502789496018572\n",
            "num of total data entries: 30161\n",
            "num of data used: 30161\n",
            "model: DecisionTreeClassifier(ccp_alpha=0.0, class_weight=None, criterion='entropy',\n",
            "                       max_depth=11, max_features=None, max_leaf_nodes=None,\n",
            "                       min_impurity_decrease=0.0, min_impurity_split=None,\n",
            "                       min_samples_leaf=11, min_samples_split=42,\n",
            "                       min_weight_fraction_leaf=0.0, presort='deprecated',\n",
            "                       random_state=None, splitter='best')\n",
            "fold 1 starts:\n",
            "fold 1 score:  0.8488063660477454\n",
            "_______________________________________\n",
            "fold 2 starts:\n",
            "fold 2 score:  0.8444960212201591\n",
            "_______________________________________\n",
            "fold 3 starts:\n",
            "fold 3 score:  0.8524535809018567\n",
            "_______________________________________\n",
            "fold 4 starts:\n",
            "fold 4 score:  0.855106100795756\n",
            "_______________________________________\n",
            "fold 5 starts:\n",
            "fold 5 score:  0.8499917122492956\n",
            "_______________________________________\n",
            "CV complete\n",
            "best_score is: 0.855106100795756\n",
            "lowest_score is: 0.8444960212201591\n",
            "avg score is: 0.8501707562429625\n"
          ]
        }
      ]
    },
    {
      "cell_type": "code",
      "metadata": {
        "colab": {
          "base_uri": "https://localhost:8080/",
          "height": 298
        },
        "id": "MYtEWndD-mKU",
        "outputId": "13f2733d-0f3c-4791-ce61-c30ee4c55abe"
      },
      "source": [
        "plt.title(\"% of adult dataset versus accuracy\")\n",
        "x_axis = np.linspace(1, 100, 10)\n",
        "plt.plot(x_axis, adult_KNN_score_list)\n",
        "plt.plot(x_axis, adult_DT_score_list)\n",
        "plt.legend(['KNN', 'DT'])\n",
        "plt.ylim([0.7, 0.9])"
      ],
      "execution_count": null,
      "outputs": [
        {
          "output_type": "execute_result",
          "data": {
            "text/plain": [
              "(0.7, 0.9)"
            ]
          },
          "metadata": {},
          "execution_count": 199
        },
        {
          "output_type": "display_data",
          "data": {
            "image/png": "[encoded data removed]",
            "text/plain": [
              "<Figure size 432x288 with 1 Axes>"
            ]
          },
          "metadata": {
            "needs_background": "light"
          }
        }
      ]
    },
    {
      "cell_type": "markdown",
      "metadata": {
        "id": "cyTFSUH8_S-9"
      },
      "source": [
        "# Breast Cancer Dataset"
      ]
    },
    {
      "cell_type": "markdown",
      "metadata": {
        "id": "Kkz1uwqXPIHv"
      },
      "source": [
        "## Preprocessing"
      ]
    },
    {
      "cell_type": "code",
      "metadata": {
        "id": "U8-axuqzO-o8"
      },
      "source": [
        "names = ['Sample code number', 'Clump Thickness', 'Uniformity of Cell Size', 'Uniformity of Cell Shape',\n",
        "                   'Marginal Adhesion', 'Single Epithelial Cell Size', 'Bare Nuclei', 'Bland Chromatin',\n",
        "                   'Normal Nucleoli', 'Mitoses', 'Class']\n",
        "\n",
        "data = pd.read_csv(\"breast-cancer-wisconsin.data\",\n",
        "                  names=names)\n",
        "data = data.replace(to_replace=\"?\", value=np.NaN)\n",
        "data = data.dropna()\n",
        "data['Bare Nuclei'] = data['Bare Nuclei'].astype('int')\n",
        "x = np.array(data.iloc[:, 1:10])\n",
        "y = np.array(data.iloc[:, 10:])\n",
        "y = y.reshape(-1, )\n",
        "y[y==4] = 1\n",
        "y[y==2] = 0"
      ],
      "execution_count": null,
      "outputs": []
    },
    {
      "cell_type": "code",
      "metadata": {
        "colab": {
          "base_uri": "https://localhost:8080/"
        },
        "id": "wSs8-kHFcva4",
        "outputId": "9b5a1ace-f4cc-41e3-a27b-28fba46f3356"
      },
      "source": [
        "count = 0\n",
        "for i in y:\n",
        "  if i == 0:\n",
        "    count +=1 \n",
        "print(count)"
      ],
      "execution_count": null,
      "outputs": [
        {
          "output_type": "stream",
          "name": "stdout",
          "text": [
            "444\n"
          ]
        }
      ]
    },
    {
      "cell_type": "code",
      "metadata": {
        "colab": {
          "base_uri": "https://localhost:8080/"
        },
        "id": "_tfo_drqc2yV",
        "outputId": "f0e2d1a4-de0d-4d1a-f474-f0306f696b05"
      },
      "source": [
        "count = 0\n",
        "for i in y:\n",
        "  if i == 1:\n",
        "    count +=1 \n",
        "print(count)"
      ],
      "execution_count": null,
      "outputs": [
        {
          "output_type": "stream",
          "name": "stdout",
          "text": [
            "239\n"
          ]
        }
      ]
    },
    {
      "cell_type": "code",
      "metadata": {
        "colab": {
          "base_uri": "https://localhost:8080/",
          "height": 453
        },
        "id": "rPKdApjpO-o9",
        "outputId": "4fc5b2c8-7e4e-48fe-ba12-5a7a176fdc70"
      },
      "source": [
        "data"
      ],
      "execution_count": null,
      "outputs": [
        {
          "output_type": "execute_result",
          "data": {
            "text/html": [
              "<div>\n",
              "<style scoped>\n",
              "    .dataframe tbody tr th:only-of-type {\n",
              "        vertical-align: middle;\n",
              "    }\n",
              "\n",
              "    .dataframe tbody tr th {\n",
              "        vertical-align: top;\n",
              "    }\n",
              "\n",
              "    .dataframe thead th {\n",
              "        text-align: right;\n",
              "    }\n",
              "</style>\n",
              "<table border=\"1\" class=\"dataframe\">\n",
              "  <thead>\n",
              "    <tr style=\"text-align: right;\">\n",
              "      <th></th>\n",
              "      <th>Sample code number</th>\n",
              "      <th>Clump Thickness</th>\n",
              "      <th>Uniformity of Cell Size</th>\n",
              "      <th>Uniformity of Cell Shape</th>\n",
              "      <th>Marginal Adhesion</th>\n",
              "      <th>Single Epithelial Cell Size</th>\n",
              "      <th>Bare Nuclei</th>\n",
              "      <th>Bland Chromatin</th>\n",
              "      <th>Normal Nucleoli</th>\n",
              "      <th>Mitoses</th>\n",
              "      <th>Class</th>\n",
              "    </tr>\n",
              "  </thead>\n",
              "  <tbody>\n",
              "    <tr>\n",
              "      <th>0</th>\n",
              "      <td>1000025</td>\n",
              "      <td>5</td>\n",
              "      <td>1</td>\n",
              "      <td>1</td>\n",
              "      <td>1</td>\n",
              "      <td>2</td>\n",
              "      <td>1</td>\n",
              "      <td>3</td>\n",
              "      <td>1</td>\n",
              "      <td>1</td>\n",
              "      <td>2</td>\n",
              "    </tr>\n",
              "    <tr>\n",
              "      <th>1</th>\n",
              "      <td>1002945</td>\n",
              "      <td>5</td>\n",
              "      <td>4</td>\n",
              "      <td>4</td>\n",
              "      <td>5</td>\n",
              "      <td>7</td>\n",
              "      <td>10</td>\n",
              "      <td>3</td>\n",
              "      <td>2</td>\n",
              "      <td>1</td>\n",
              "      <td>2</td>\n",
              "    </tr>\n",
              "    <tr>\n",
              "      <th>2</th>\n",
              "      <td>1015425</td>\n",
              "      <td>3</td>\n",
              "      <td>1</td>\n",
              "      <td>1</td>\n",
              "      <td>1</td>\n",
              "      <td>2</td>\n",
              "      <td>2</td>\n",
              "      <td>3</td>\n",
              "      <td>1</td>\n",
              "      <td>1</td>\n",
              "      <td>2</td>\n",
              "    </tr>\n",
              "    <tr>\n",
              "      <th>3</th>\n",
              "      <td>1016277</td>\n",
              "      <td>6</td>\n",
              "      <td>8</td>\n",
              "      <td>8</td>\n",
              "      <td>1</td>\n",
              "      <td>3</td>\n",
              "      <td>4</td>\n",
              "      <td>3</td>\n",
              "      <td>7</td>\n",
              "      <td>1</td>\n",
              "      <td>2</td>\n",
              "    </tr>\n",
              "    <tr>\n",
              "      <th>4</th>\n",
              "      <td>1017023</td>\n",
              "      <td>4</td>\n",
              "      <td>1</td>\n",
              "      <td>1</td>\n",
              "      <td>3</td>\n",
              "      <td>2</td>\n",
              "      <td>1</td>\n",
              "      <td>3</td>\n",
              "      <td>1</td>\n",
              "      <td>1</td>\n",
              "      <td>2</td>\n",
              "    </tr>\n",
              "    <tr>\n",
              "      <th>...</th>\n",
              "      <td>...</td>\n",
              "      <td>...</td>\n",
              "      <td>...</td>\n",
              "      <td>...</td>\n",
              "      <td>...</td>\n",
              "      <td>...</td>\n",
              "      <td>...</td>\n",
              "      <td>...</td>\n",
              "      <td>...</td>\n",
              "      <td>...</td>\n",
              "      <td>...</td>\n",
              "    </tr>\n",
              "    <tr>\n",
              "      <th>694</th>\n",
              "      <td>776715</td>\n",
              "      <td>3</td>\n",
              "      <td>1</td>\n",
              "      <td>1</td>\n",
              "      <td>1</td>\n",
              "      <td>3</td>\n",
              "      <td>2</td>\n",
              "      <td>1</td>\n",
              "      <td>1</td>\n",
              "      <td>1</td>\n",
              "      <td>2</td>\n",
              "    </tr>\n",
              "    <tr>\n",
              "      <th>695</th>\n",
              "      <td>841769</td>\n",
              "      <td>2</td>\n",
              "      <td>1</td>\n",
              "      <td>1</td>\n",
              "      <td>1</td>\n",
              "      <td>2</td>\n",
              "      <td>1</td>\n",
              "      <td>1</td>\n",
              "      <td>1</td>\n",
              "      <td>1</td>\n",
              "      <td>2</td>\n",
              "    </tr>\n",
              "    <tr>\n",
              "      <th>696</th>\n",
              "      <td>888820</td>\n",
              "      <td>5</td>\n",
              "      <td>10</td>\n",
              "      <td>10</td>\n",
              "      <td>3</td>\n",
              "      <td>7</td>\n",
              "      <td>3</td>\n",
              "      <td>8</td>\n",
              "      <td>10</td>\n",
              "      <td>2</td>\n",
              "      <td>4</td>\n",
              "    </tr>\n",
              "    <tr>\n",
              "      <th>697</th>\n",
              "      <td>897471</td>\n",
              "      <td>4</td>\n",
              "      <td>8</td>\n",
              "      <td>6</td>\n",
              "      <td>4</td>\n",
              "      <td>3</td>\n",
              "      <td>4</td>\n",
              "      <td>10</td>\n",
              "      <td>6</td>\n",
              "      <td>1</td>\n",
              "      <td>4</td>\n",
              "    </tr>\n",
              "    <tr>\n",
              "      <th>698</th>\n",
              "      <td>897471</td>\n",
              "      <td>4</td>\n",
              "      <td>8</td>\n",
              "      <td>8</td>\n",
              "      <td>5</td>\n",
              "      <td>4</td>\n",
              "      <td>5</td>\n",
              "      <td>10</td>\n",
              "      <td>4</td>\n",
              "      <td>1</td>\n",
              "      <td>4</td>\n",
              "    </tr>\n",
              "  </tbody>\n",
              "</table>\n",
              "<p>683 rows × 11 columns</p>\n",
              "</div>"
            ],
            "text/plain": [
              "     Sample code number  Clump Thickness  ...  Mitoses  Class\n",
              "0               1000025                5  ...        1      2\n",
              "1               1002945                5  ...        1      2\n",
              "2               1015425                3  ...        1      2\n",
              "3               1016277                6  ...        1      2\n",
              "4               1017023                4  ...        1      2\n",
              "..                  ...              ...  ...      ...    ...\n",
              "694              776715                3  ...        1      2\n",
              "695              841769                2  ...        1      2\n",
              "696              888820                5  ...        2      4\n",
              "697              897471                4  ...        1      4\n",
              "698              897471                4  ...        1      4\n",
              "\n",
              "[683 rows x 11 columns]"
            ]
          },
          "metadata": {},
          "execution_count": 176
        }
      ]
    },
    {
      "cell_type": "code",
      "metadata": {
        "id": "GY2x8lKPO-o9"
      },
      "source": [
        "from sklearn.model_selection import train_test_split\n",
        "attributes = ['Sample code number', 'Clump Thickness', 'Uniformity of Cell Size', 'Uniformity of Cell Shape',\n",
        "                   'Marginal Adhesion', 'Single Epithelial Cell Size', 'Bare Nuclei', 'Bland Chromatin',\n",
        "                   'Normal Nucleoli', 'Mitoses']\n",
        "X = data[attributes]\n",
        "y = data['Class']\n",
        "X_train, X_test, y_train, y_test = train_test_split(X, y, test_size=0.15, random_state=10, shuffle = True)"
      ],
      "execution_count": null,
      "outputs": []
    },
    {
      "cell_type": "code",
      "metadata": {
        "colab": {
          "base_uri": "https://localhost:8080/"
        },
        "id": "AU97ouMyO-o9",
        "outputId": "0e3d1bdf-76ef-49c0-96a9-2cfd892a31b2"
      },
      "source": [
        "print(X_train.shape, X_test.shape)\n",
        "print(y_train.shape, y_test.shape)\n",
        "# 580 training, 103 testing"
      ],
      "execution_count": null,
      "outputs": [
        {
          "output_type": "stream",
          "name": "stdout",
          "text": [
            "(580, 10) (103, 10)\n",
            "(580,) (103,)\n"
          ]
        }
      ]
    },
    {
      "cell_type": "code",
      "metadata": {
        "id": "0N1nX7WEuc6d"
      },
      "source": [
        "\n",
        "def k_foldCV_with_F1(data_X, data_Y, classifier, k=5, percent_use = 1):\n",
        "  \n",
        "\n",
        "  used_num = int(len(data_X) * percent_use)\n",
        "  print(\"num of total data entries: {}\".format(len(data_X)))\n",
        "  print(\"num of data used: {}\".format(used_num))\n",
        "  # print(\"num of total data entries: {}\".format(len(data_X))\n",
        "  # print(\"num of data used: {} \".format(used_num))\n",
        "\n",
        "  data_x = data_X[:used_num]\n",
        "  data_y = data_Y[:used_num]\n",
        "\n",
        "  start = 0\n",
        "  data_size = len(data_x) // k\n",
        "  best_score = 0\n",
        "  lowest_score = 999\n",
        "  avg_acc = 0\n",
        "  avg_precision = 0\n",
        "  avg_recall = 0\n",
        "  avg_F1 = 0\n",
        "  print(\"model: {}\".format(classifier))\n",
        "  ## split the data into k sets\n",
        "  for i in range(k):\n",
        "    if i == 0:\n",
        "      validation_x = data_x[0:data_size]\n",
        "      validation_y = data_y[0:data_size]\n",
        "      training_x = data_x[data_size:]\n",
        "      training_y = data_y[data_size:]\n",
        "      print(\"fold 1 starts:\")\n",
        "      \n",
        "\n",
        "      classifier.fit(training_x, training_y)\n",
        "      cur_score = classifier.score(validation_x, validation_y)\n",
        "      prediction_y = classifier.predict(validation_x)\n",
        "      # validation_y\n",
        "      \n",
        "      F1_score = f1_score(validation_y, prediction_y)\n",
        "      Precision = precision_score(validation_y, prediction_y)\n",
        "      Recall = recall_score(validation_y, prediction_y)\n",
        "      \n",
        "\n",
        "      print(\"fold 1 score: \", cur_score)\n",
        "      best_score = max(best_score, cur_score)\n",
        "      lowest_score = min(lowest_score, cur_score)\n",
        "      start += data_size\n",
        "      avg_acc += cur_score\n",
        "      avg_F1 += F1_score\n",
        "      avg_precision += Precision \n",
        "      avg_recall += Recall\n",
        "      print(\"_______________________________________\")\n",
        "    elif i != 0 and i != k-1:\n",
        "      validation_x = data_x[start:start + data_size]\n",
        "      validation_y = data_y[start:start + data_size]\n",
        "      training_x = np.concatenate((data_x[0:start], data_x[start+data_size:]), axis = 0)\n",
        "      training_y = np.concatenate((data_y[0:start], data_y[start+data_size:]), axis = 0) \n",
        "      print(\"fold {} starts:\".format(i+1))\n",
        "\n",
        "\n",
        "      classifier.fit(training_x, training_y)\n",
        "      cur_score = classifier.score(validation_x, validation_y)\n",
        "      prediction_y = classifier.predict(validation_x)\n",
        "      # classifier.fit(training_x, training_y)\n",
        "      # cur_score = classifier.score(validation_x, validation_y)\n",
        "      # prediction_y = classifier.predict(validation_x)\n",
        "      # validation_y\n",
        "      \n",
        "      F1_score = f1_score(validation_y, prediction_y)\n",
        "      Precision = precision_score(validation_y, prediction_y)\n",
        "      Recall = recall_score(validation_y, prediction_y)\n",
        "      print(\"fold {} score: \".format(i+1), cur_score)\n",
        "      best_score = max(best_score, cur_score)\n",
        "      lowest_score = min(lowest_score, cur_score)\n",
        "      start += data_size\n",
        "      avg_acc += cur_score\n",
        "      avg_F1 += F1_score\n",
        "      avg_precision += Precision \n",
        "      avg_recall += Recall\n",
        "      print(\"_______________________________________\")\n",
        "    else:\n",
        "      validation_x = data_x[start:]\n",
        "      validation_y = data_y[start:]\n",
        "      training_x = data_x[0:start]\n",
        "      training_y = data_y[0:start]\n",
        "      print(\"fold {} starts:\".format(i+1))\n",
        "\n",
        "      classifier.fit(training_x, training_y)\n",
        "      cur_score = classifier.score(validation_x, validation_y)\n",
        "      prediction_y = classifier.predict(validation_x)\n",
        "      # classifier.fit(training_x, training_y)\n",
        "      # cur_score = classifier.score(validation_x, validation_y)\n",
        "      # prediction_y = classifier.predict(validation_x)\n",
        "      # validation_y\n",
        "      \n",
        "      F1_score = f1_score(validation_y, prediction_y)\n",
        "      Precision = precision_score(validation_y, prediction_y)\n",
        "      Recall = recall_score(validation_y, prediction_y)\n",
        "      print(\"fold {} score: \".format(i+1), cur_score)\n",
        "      best_score = max(best_score, cur_score)\n",
        "      lowest_score = min(lowest_score, cur_score)\n",
        "      avg_acc += cur_score\n",
        "      avg_F1 += F1_score\n",
        "      avg_precision += Precision \n",
        "      avg_recall += Recall\n",
        "      print(\"_______________________________________\")\n",
        "  avg_acc = avg_acc / k\n",
        "  avg_F1  = avg_F1 / k \n",
        "  avg_precision = avg_precision / k\n",
        "  avg_recall = avg_recall / k\n",
        "  print(\"CV complete\")\n",
        "  print(\"best_score is:\", best_score)\n",
        "  print(\"lowest_score is:\", lowest_score)\n",
        "  print(\"avg score is:\", avg_acc)\n",
        "  print(\"avg precision is:\", avg_precision)\n",
        "  print(\"avg recall is:\", avg_recall)\n",
        "  print(\"avg F1 is:\", avg_F1)\n",
        "  return avg_acc, avg_precision, avg_recall, avg_F1"
      ],
      "execution_count": null,
      "outputs": []
    },
    {
      "cell_type": "code",
      "metadata": {
        "id": "ntEGkNhtZYim"
      },
      "source": [
        "DT_clf = DecisionTreeClassifier(max_depth=11, criterion='entropy', min_samples_split=42,min_samples_leaf=11)\n",
        "# best dTree for the first dataset\n"
      ],
      "execution_count": null,
      "outputs": []
    },
    {
      "cell_type": "code",
      "metadata": {
        "id": "PHMG1DhsyJKi"
      },
      "source": [
        "# micro, macro \n",
        "DT_clf.fit(data_X, data_y)\n",
        "pred_y = DT_clf.predict(test_X)\n"
      ],
      "execution_count": null,
      "outputs": []
    },
    {
      "cell_type": "code",
      "metadata": {
        "colab": {
          "base_uri": "https://localhost:8080/"
        },
        "id": "V4C2wIL0ySdy",
        "outputId": "aebbd80e-2a58-43e7-9d21-61ef9f0342f5"
      },
      "source": [
        "k = classification_report(test_y, pred_y,output_dict=True)\n",
        "k"
      ],
      "execution_count": null,
      "outputs": [
        {
          "output_type": "execute_result",
          "data": {
            "text/plain": [
              "{'0': {'f1-score': 0.9101223324200208,\n",
              "  'precision': 0.874842347355145,\n",
              "  'recall': 0.9483673797651601,\n",
              "  'support': 12434},\n",
              " '1': {'f1-score': 0.649616368286445,\n",
              "  'precision': 0.7707961442342021,\n",
              "  'recall': 0.5613624544981799,\n",
              "  'support': 3846},\n",
              " 'accuracy': 0.856941031941032,\n",
              " 'macro avg': {'f1-score': 0.7798693503532329,\n",
              "  'precision': 0.8228192457946735,\n",
              "  'recall': 0.7548649171316699,\n",
              "  'support': 16280},\n",
              " 'weighted avg': {'f1-score': 0.8485801986326909,\n",
              "  'precision': 0.8502623905244848,\n",
              "  'recall': 0.856941031941032,\n",
              "  'support': 16280}}"
            ]
          },
          "metadata": {},
          "execution_count": 56
        }
      ]
    },
    {
      "cell_type": "code",
      "metadata": {
        "id": "TJpkGWfKzxje"
      },
      "source": [
        "Knn_clf =  KNeighborsClassifier(n_neighbors=47, weights='uniform')\n",
        "# best knn for the first data set"
      ],
      "execution_count": null,
      "outputs": []
    },
    {
      "cell_type": "code",
      "metadata": {
        "colab": {
          "base_uri": "https://localhost:8080/"
        },
        "id": "YgTCyKKD0PZt",
        "outputId": "44b8992c-7051-4f9a-8c83-f04a0f4fcc8e"
      },
      "source": [
        "Knn_clf.fit(data_X, data_y)\n",
        "pred_y_knn = Knn_clf.predict(test_X)\n",
        "k2 = classification_report(test_y, pred_y_knn, output_dict = True)\n",
        "k2"
      ],
      "execution_count": null,
      "outputs": [
        {
          "output_type": "execute_result",
          "data": {
            "text/plain": [
              "{'0': {'f1-score': 0.8946063967898029,\n",
              "  'precision': 0.875625721986908,\n",
              "  'recall': 0.9144281807945954,\n",
              "  'support': 12434},\n",
              " '1': {'f1-score': 0.6248424590393502,\n",
              "  'precision': 0.6770864946889226,\n",
              "  'recall': 0.5800832033281331,\n",
              "  'support': 3846},\n",
              " 'accuracy': 0.8354422604422604,\n",
              " 'macro avg': {'f1-score': 0.7597244279145765,\n",
              "  'precision': 0.7763561083379154,\n",
              "  'recall': 0.7472556920613642,\n",
              "  'support': 16280},\n",
              " 'weighted avg': {'f1-score': 0.8308771520362255,\n",
              "  'precision': 0.8287226588303938,\n",
              "  'recall': 0.8354422604422604,\n",
              "  'support': 16280}}"
            ]
          },
          "metadata": {},
          "execution_count": 60
        }
      ]
    },
    {
      "cell_type": "code",
      "metadata": {
        "colab": {
          "base_uri": "https://localhost:8080/"
        },
        "id": "g8cQq34u0KVm",
        "outputId": "79f8f2d8-b1ca-47d6-f169-600f94159587"
      },
      "source": [
        " k_foldCV_with_F1(data_X, data_y, Knn_clf, k=5, percent_use = 1)"
      ],
      "execution_count": null,
      "outputs": [
        {
          "output_type": "stream",
          "name": "stdout",
          "text": [
            "num of total data entries: 23884\n",
            "num of data used: 23884\n",
            "model: KNeighborsClassifier(algorithm='auto', leaf_size=30, metric='minkowski',\n",
            "                     metric_params=None, n_jobs=None, n_neighbors=47, p=2,\n",
            "                     weights='uniform')\n",
            "fold 1 starts:\n",
            "fold 1 score:  0.8241206030150754\n",
            "_______________________________________\n",
            "fold 2 starts:\n",
            "fold 2 score:  0.830820770519263\n",
            "_______________________________________\n",
            "fold 3 starts:\n",
            "fold 3 score:  0.8257956448911222\n",
            "_______________________________________\n",
            "fold 4 starts:\n",
            "fold 4 score:  0.8327051926298158\n",
            "_______________________________________\n",
            "fold 5 starts:\n",
            "fold 5 score:  0.8389121338912134\n",
            "_______________________________________\n",
            "CV complete\n",
            "best_score is: 0.8389121338912134\n",
            "lowest_score is: 0.8241206030150754\n",
            "avg score is: 0.830470868989298\n",
            "avg precision is: 0.6879483766307892\n",
            "avg recall is: 0.575582390888312\n",
            "avg F1 is: 0.6266486529431872\n"
          ]
        },
        {
          "output_type": "execute_result",
          "data": {
            "text/plain": [
              "(0.830470868989298, 0.6879483766307892, 0.575582390888312, 0.6266486529431872)"
            ]
          },
          "metadata": {},
          "execution_count": 58
        }
      ]
    },
    {
      "cell_type": "code",
      "metadata": {
        "colab": {
          "base_uri": "https://localhost:8080/"
        },
        "id": "PL1m6BajweqT",
        "outputId": "4c5be7db-a638-437e-c5cd-e7daf16a0f49"
      },
      "source": [
        " k_foldCV_with_F1(data_X, data_y, DT_clf, k=5, percent_use = 1)\n",
        " "
      ],
      "execution_count": null,
      "outputs": [
        {
          "output_type": "stream",
          "name": "stdout",
          "text": [
            "num of total data entries: 23884\n",
            "num of data used: 23884\n",
            "model: DecisionTreeClassifier(ccp_alpha=0.0, class_weight=None, criterion='entropy',\n",
            "                       max_depth=11, max_features=None, max_leaf_nodes=None,\n",
            "                       min_impurity_decrease=0.0, min_impurity_split=None,\n",
            "                       min_samples_leaf=11, min_samples_split=42,\n",
            "                       min_weight_fraction_leaf=0.0, presort='deprecated',\n",
            "                       random_state=None, splitter='best')\n",
            "fold 1 starts:\n",
            "fold 1 score:  0.8417085427135679\n",
            "_______________________________________\n",
            "fold 2 starts:\n",
            "fold 2 score:  0.8517587939698492\n",
            "_______________________________________\n",
            "fold 3 starts:\n",
            "fold 3 score:  0.8505025125628141\n",
            "_______________________________________\n",
            "fold 4 starts:\n",
            "fold 4 score:  0.8536432160804021\n",
            "_______________________________________\n",
            "fold 5 starts:\n",
            "fold 5 score:  0.8543933054393306\n",
            "_______________________________________\n",
            "CV complete\n",
            "best_score is: 0.8543933054393306\n",
            "lowest_score is: 0.8417085427135679\n",
            "avg score is: 0.8504012741531927\n",
            "avg precision is: 0.7655865041804016\n",
            "avg recall is: 0.5718345044486546\n",
            "avg F1 is: 0.6537342037413836\n"
          ]
        },
        {
          "output_type": "execute_result",
          "data": {
            "text/plain": [
              "(0.8504012741531927,\n",
              " 0.7655865041804016,\n",
              " 0.5718345044486546,\n",
              " 0.6537342037413836)"
            ]
          },
          "metadata": {},
          "execution_count": 52
        }
      ]
    },
    {
      "cell_type": "markdown",
      "metadata": {
        "id": "cORVOEN0WV5R"
      },
      "source": [
        "## Decision tree max depth 1 - 101"
      ]
    },
    {
      "cell_type": "code",
      "metadata": {
        "id": "8knE9YQyVpGS"
      },
      "source": [
        "max_depth_params = [i for i in range(1,101, 10)]\n",
        "criterion_params = [\"gini\", \"entropy\"]\n",
        "min_samples_split = [i for i in range(2, 102, 10)]\n",
        "min_samples_leaf = [i for i in range(1, 101, 10)]\n",
        "\n",
        "\n",
        "def DT_GridsearchCV(max_depth_params, criterion_params, min_samples_split, min_samples_leaf, classifier, data_x, data_y):\n",
        "  best_params = []\n",
        "  best_score = 0\n",
        "  counter = 1\n",
        "  all_params_and_score = []\n",
        "  for depth in max_depth_params:\n",
        "    for crit in criterion_params:\n",
        "      for num_sample_split in min_samples_split:\n",
        "        for min_leaf in min_samples_leaf:\n",
        "          cur_params = [depth, crit, num_sample_split, min_leaf]\n",
        "          dtree_clf = classifier(criterion = crit,\n",
        "                                max_depth = depth,\n",
        "                                min_samples_split = num_sample_split,\n",
        "                                 min_samples_leaf = min_leaf \n",
        "                                 )\n",
        "         \n",
        "          score = k_foldCV(data_x, data_y, dtree_clf, k=3)\n",
        "          cur_score = [depth, crit, num_sample_split,min_leaf, score]\n",
        "          all_params_and_score.append(cur_score)\n",
        "          if score >= best_score:\n",
        "            \n",
        "            best_score = score \n",
        "            best_params = cur_params\n",
        "          counter += 1\n",
        "  print(\"best params are: depth = {}, crit = {}, min_sample_split = {}, min_samples_leaf = {},  with_score= {}\".format(best_params[0], best_params[1], best_params[2], best_params[3], best_score))\n",
        "  return best_params, best_score, all_params_and_score"
      ],
      "execution_count": null,
      "outputs": []
    },
    {
      "cell_type": "code",
      "metadata": {
        "colab": {
          "base_uri": "https://localhost:8080/"
        },
        "id": "g7N1CgZbrwjB",
        "outputId": "c37d800d-75fe-4f75-f73e-ba3603c2ffd7"
      },
      "source": [
        "best_params, best_score, all_params_and_score = DT_GridsearchCV(max_depth_params, criterion_params, min_samples_split, min_samples_leaf,DecisionTreeClassifier, X_train, y_train)"
      ],
      "execution_count": null,
      "outputs": [
        {
          "output_type": "stream",
          "name": "stdout",
          "text": [
            "best params are: depth = 31, crit = entropy, min_sample_split = 2, min_samples_leaf = 1,  with_score= 0.9500293787725015\n"
          ]
        }
      ]
    },
    {
      "cell_type": "code",
      "metadata": {
        "id": "hyzO8H_7sAIH"
      },
      "source": [
        "all_params_and_score = np.array(all_params_and_score)\n",
        "all_params_and_score_df = pd.DataFrame(all_params_and_score, columns=['max_depth_params', 'criterion_params', 'min_samples_split', 'min_samples_leaf', 'f1_score'])\n",
        "all_params_and_score_df.to_csv(\"bc_result.csv\")"
      ],
      "execution_count": null,
      "outputs": []
    },
    {
      "cell_type": "code",
      "metadata": {
        "colab": {
          "base_uri": "https://localhost:8080/"
        },
        "id": "mSYrNKVwcUlY",
        "outputId": "55f1dcd4-0952-4017-a852-d6b14d9e9a89"
      },
      "source": [
        "print(max_depth_params)\n",
        "print(criterion_params)\n",
        "print(min_samples_split)\n",
        "print(min_samples_leaf)"
      ],
      "execution_count": null,
      "outputs": [
        {
          "output_type": "stream",
          "name": "stdout",
          "text": [
            "[1, 11, 21, 31, 41, 51, 61, 71, 81, 91]\n",
            "['gini', 'entropy']\n",
            "[2, 12, 22, 32, 42, 52, 62, 72, 82, 92]\n",
            "[1, 11, 21, 31, 41, 51, 61, 71, 81, 91]\n"
          ]
        }
      ]
    },
    {
      "cell_type": "code",
      "metadata": {
        "id": "ksWruQ06uIov"
      },
      "source": [
        "bc_result = pd.read_csv('bc_result.csv')"
      ],
      "execution_count": null,
      "outputs": []
    },
    {
      "cell_type": "code",
      "metadata": {
        "id": "drz3sscVuOc2"
      },
      "source": [
        "import matplotlib.pyplot as plt\n",
        "import seaborn as sns"
      ],
      "execution_count": null,
      "outputs": []
    },
    {
      "cell_type": "code",
      "metadata": {
        "id": "bLWdbsDcuXmr"
      },
      "source": [
        "gini = bc_result.loc[bc_result['criterion_params'] == 'gini']\n",
        "entropy = bc_result.loc[bc_result['criterion_params'] == 'entropy']\n",
        "gini_modified = gini[:]\n",
        "gini_modified = gini_modified.drop(gini_modified[gini_modified['max_depth_params'] == 1].index)\n",
        "entropy_modified = entropy[:]\n",
        "entropy_modified = entropy_modified.drop(entropy_modified[entropy_modified['max_depth_params'] == 1].index)"
      ],
      "execution_count": null,
      "outputs": []
    },
    {
      "cell_type": "code",
      "metadata": {
        "colab": {
          "base_uri": "https://localhost:8080/",
          "height": 280
        },
        "id": "mdD_YP_j-VF-",
        "outputId": "c60782ce-e110-4f39-88e2-867b3f986e7f"
      },
      "source": [
        "sns.boxplot( x=gini_modified[\"max_depth_params\"], y=gini_modified[\"f1_score\"],showfliers = True);"
      ],
      "execution_count": null,
      "outputs": [
        {
          "output_type": "display_data",
          "data": {
            "image/png": "[encoded data removed]",
            "text/plain": [
              "<Figure size 432x288 with 1 Axes>"
            ]
          },
          "metadata": {
            "needs_background": "light"
          }
        }
      ]
    },
    {
      "cell_type": "code",
      "metadata": {
        "colab": {
          "base_uri": "https://localhost:8080/",
          "height": 280
        },
        "id": "zJX6hXFM-tfs",
        "outputId": "445d6314-900f-49dd-ad7c-f0d6e147d8c6"
      },
      "source": [
        "sns.boxplot( x=gini_modified[\"min_samples_split\"], y=gini_modified[\"f1_score\"],showfliers = True);"
      ],
      "execution_count": null,
      "outputs": [
        {
          "output_type": "display_data",
          "data": {
            "image/png": "[encoded data removed]",
            "text/plain": [
              "<Figure size 432x288 with 1 Axes>"
            ]
          },
          "metadata": {
            "needs_background": "light"
          }
        }
      ]
    },
    {
      "cell_type": "code",
      "metadata": {
        "colab": {
          "base_uri": "https://localhost:8080/",
          "height": 280
        },
        "id": "zsnfGW2Z-uFj",
        "outputId": "47c51803-1562-453b-e77a-0a45bff9b356"
      },
      "source": [
        "sns.boxplot( x=gini_modified[\"min_samples_leaf\"], y=gini_modified[\"f1_score\"],showfliers = True);"
      ],
      "execution_count": null,
      "outputs": [
        {
          "output_type": "display_data",
          "data": {
            "image/png": "[encoded data removed]",
            "text/plain": [
              "<Figure size 432x288 with 1 Axes>"
            ]
          },
          "metadata": {
            "needs_background": "light"
          }
        }
      ]
    },
    {
      "cell_type": "code",
      "metadata": {
        "colab": {
          "base_uri": "https://localhost:8080/",
          "height": 280
        },
        "id": "Al7RZoC6XNnA",
        "outputId": "f80057f2-e460-4eee-ea03-0f3dac4b3fd6"
      },
      "source": [
        "sns.boxplot( x=entropy_modified[\"max_depth_params\"], y=entropy_modified[\"f1_score\"],showfliers = True);"
      ],
      "execution_count": null,
      "outputs": [
        {
          "output_type": "display_data",
          "data": {
            "image/png": "[encoded data removed]",
            "text/plain": [
              "<Figure size 432x288 with 1 Axes>"
            ]
          },
          "metadata": {
            "needs_background": "light"
          }
        }
      ]
    },
    {
      "cell_type": "code",
      "metadata": {
        "colab": {
          "base_uri": "https://localhost:8080/",
          "height": 297
        },
        "id": "aq3-BP1bXSDO",
        "outputId": "056df73b-0dc4-4cc2-b297-56850a5eda4e"
      },
      "source": [
        "sns.boxplot( x=entropy_modified[\"min_samples_split\"], y=entropy_modified[\"f1_score\"],showfliers = True)"
      ],
      "execution_count": null,
      "outputs": [
        {
          "output_type": "execute_result",
          "data": {
            "text/plain": [
              "<matplotlib.axes._subplots.AxesSubplot at 0x7f33073c3a50>"
            ]
          },
          "metadata": {},
          "execution_count": 114
        },
        {
          "output_type": "display_data",
          "data": {
            "image/png": "[encoded data removed]",
            "text/plain": [
              "<Figure size 432x288 with 1 Axes>"
            ]
          },
          "metadata": {
            "needs_background": "light"
          }
        }
      ]
    },
    {
      "cell_type": "code",
      "metadata": {
        "colab": {
          "base_uri": "https://localhost:8080/",
          "height": 280
        },
        "id": "nAqaPFNLXTrP",
        "outputId": "56dd6a5d-2747-44f4-e3c7-5708651d86f6"
      },
      "source": [
        "sns.boxplot( x=entropy_modified[\"min_samples_leaf\"], y=entropy_modified[\"f1_score\"],showfliers = True);"
      ],
      "execution_count": null,
      "outputs": [
        {
          "output_type": "display_data",
          "data": {
            "image/png": "[encoded data removed]",
            "text/plain": [
              "<Figure size 432x288 with 1 Axes>"
            ]
          },
          "metadata": {
            "needs_background": "light"
          }
        }
      ]
    },
    {
      "cell_type": "markdown",
      "metadata": {
        "id": "5tnO4bFA4OCf"
      },
      "source": [
        "## Decision tree max depth 2 - 11"
      ]
    },
    {
      "cell_type": "code",
      "metadata": {
        "id": "GrJM7B8H4NSU"
      },
      "source": [
        "max_depth_params = [i for i in range(2,12)]\n",
        "criterion_params = [\"gini\", \"entropy\"]\n",
        "min_samples_split = [i for i in range(2, 102, 10)]\n",
        "min_samples_leaf = [i for i in range(1, 101, 10)]"
      ],
      "execution_count": null,
      "outputs": []
    },
    {
      "cell_type": "code",
      "metadata": {
        "colab": {
          "base_uri": "https://localhost:8080/"
        },
        "id": "822vgF_J4bjt",
        "outputId": "4315467a-2773-44b6-9d79-a180f94eea9b"
      },
      "source": [
        "best_params, best_score, all_params_and_score = DT_GridsearchCV(max_depth_params, criterion_params, min_samples_split, min_samples_leaf,DecisionTreeClassifier, X_train, y_train)"
      ],
      "execution_count": null,
      "outputs": [
        {
          "output_type": "stream",
          "name": "stdout",
          "text": [
            "best params are: depth = 9, crit = entropy, min_sample_split = 2, min_samples_leaf = 1,  with_score= 0.946592952655663\n"
          ]
        }
      ]
    },
    {
      "cell_type": "code",
      "metadata": {
        "id": "9QSaKd1j43Nf"
      },
      "source": [
        "all_params_and_score = np.array(all_params_and_score)\n",
        "all_params_and_score_df = pd.DataFrame(all_params_and_score, columns=['max_depth_params', 'criterion_params', 'min_samples_split', 'min_samples_leaf', 'f1_score'])\n",
        "all_params_and_score_df.to_csv(\"bc_result_2.csv\")\n",
        "bc_result2 = pd.read_csv('bc_result_2.csv')\n",
        "gini = bc_result.loc[bc_result2['criterion_params'] == 'gini']\n",
        "entropy = bc_result.loc[bc_result2['criterion_params'] == 'entropy']\n",
        "gini_modified = gini[:]\n",
        "gini_modified = gini_modified.drop(gini_modified[gini_modified['max_depth_params'] == 1].index)\n",
        "entropy_modified = entropy[:]\n",
        "entropy_modified = entropy_modified.drop(entropy_modified[entropy_modified['max_depth_params'] == 1].index)"
      ],
      "execution_count": null,
      "outputs": []
    },
    {
      "cell_type": "code",
      "metadata": {
        "colab": {
          "base_uri": "https://localhost:8080/",
          "height": 280
        },
        "id": "0wVNcUG94_ok",
        "outputId": "04a6788b-7f79-40d8-ab10-12cdda1f215c"
      },
      "source": [
        "sns.boxplot( x=gini_modified[\"max_depth_params\"], y=gini_modified[\"f1_score\"],showfliers = True);"
      ],
      "execution_count": null,
      "outputs": [
        {
          "output_type": "display_data",
          "data": {
            "image/png": "[encoded data removed]",
            "text/plain": [
              "<Figure size 432x288 with 1 Axes>"
            ]
          },
          "metadata": {
            "needs_background": "light"
          }
        }
      ]
    },
    {
      "cell_type": "code",
      "metadata": {
        "colab": {
          "base_uri": "https://localhost:8080/",
          "height": 280
        },
        "id": "Fdky3VMY5BAO",
        "outputId": "df43029a-4075-427b-a22c-661eaed19cad"
      },
      "source": [
        "sns.boxplot( x=gini_modified[\"min_samples_split\"], y=gini_modified[\"f1_score\"],showfliers = True);"
      ],
      "execution_count": null,
      "outputs": [
        {
          "output_type": "display_data",
          "data": {
            "image/png": "[encoded data removed]",
            "text/plain": [
              "<Figure size 432x288 with 1 Axes>"
            ]
          },
          "metadata": {
            "needs_background": "light"
          }
        }
      ]
    },
    {
      "cell_type": "code",
      "metadata": {
        "colab": {
          "base_uri": "https://localhost:8080/",
          "height": 280
        },
        "id": "Wb9zFAOa5BfT",
        "outputId": "b0414a9d-1952-4aad-fc48-d12999a0f708"
      },
      "source": [
        "sns.boxplot( x=gini_modified[\"min_samples_leaf\"], y=gini_modified[\"f1_score\"],showfliers = True);"
      ],
      "execution_count": null,
      "outputs": [
        {
          "output_type": "display_data",
          "data": {
            "image/png": "[encoded data removed]",
            "text/plain": [
              "<Figure size 432x288 with 1 Axes>"
            ]
          },
          "metadata": {
            "needs_background": "light"
          }
        }
      ]
    },
    {
      "cell_type": "code",
      "metadata": {
        "colab": {
          "base_uri": "https://localhost:8080/",
          "height": 280
        },
        "id": "ARqOhUJC5B-D",
        "outputId": "a8b15290-71db-439a-dc4b-ec14a14f1183"
      },
      "source": [
        "sns.boxplot( x=entropy_modified[\"max_depth_params\"], y=entropy_modified[\"f1_score\"],showfliers = True);"
      ],
      "execution_count": null,
      "outputs": [
        {
          "output_type": "display_data",
          "data": {
            "image/png": "[encoded data removed]",
            "text/plain": [
              "<Figure size 432x288 with 1 Axes>"
            ]
          },
          "metadata": {
            "needs_background": "light"
          }
        }
      ]
    },
    {
      "cell_type": "code",
      "metadata": {
        "colab": {
          "base_uri": "https://localhost:8080/",
          "height": 280
        },
        "id": "iqNDKpyj5CN1",
        "outputId": "cd1ce5bd-fac9-4475-c31c-b81616d17a9f"
      },
      "source": [
        "sns.boxplot( x=entropy_modified[\"min_samples_split\"], y=entropy_modified[\"f1_score\"],showfliers = True);"
      ],
      "execution_count": null,
      "outputs": [
        {
          "output_type": "display_data",
          "data": {
            "image/png": "[encoded data removed]",
            "text/plain": [
              "<Figure size 432x288 with 1 Axes>"
            ]
          },
          "metadata": {
            "needs_background": "light"
          }
        }
      ]
    },
    {
      "cell_type": "code",
      "metadata": {
        "colab": {
          "base_uri": "https://localhost:8080/",
          "height": 280
        },
        "id": "_mcyyP185CXh",
        "outputId": "a6d41af0-2014-4b1e-8f6a-0e4d8a8a1d81"
      },
      "source": [
        "sns.boxplot( x=entropy_modified[\"min_samples_leaf\"], y=entropy_modified[\"f1_score\"],showfliers = True);"
      ],
      "execution_count": null,
      "outputs": [
        {
          "output_type": "display_data",
          "data": {
            "image/png": "[encoded data removed]",
            "text/plain": [
              "<Figure size 432x288 with 1 Axes>"
            ]
          },
          "metadata": {
            "needs_background": "light"
          }
        }
      ]
    },
    {
      "cell_type": "markdown",
      "metadata": {
        "id": "wgrHM_7-tvF1"
      },
      "source": [
        "## KNN\n"
      ]
    },
    {
      "cell_type": "code",
      "metadata": {
        "id": "ud1lgpbmtxd0"
      },
      "source": [
        "neigh = KNeighborsClassifier(n_neighbors=2)"
      ],
      "execution_count": null,
      "outputs": []
    },
    {
      "cell_type": "code",
      "metadata": {
        "id": "tXfb8HQ3t3SZ"
      },
      "source": [
        "weights = ['uniform', 'distance']\n",
        "max_n_neighbours = 50\n",
        "def KNN_gridsearchCV(weights, max_n_neighbours, classifier, data_X, data_y, percent_use):\n",
        "  res = []\n",
        "  best_score = 0\n",
        "  best_neigh = 0\n",
        "  best_w = 'temp'\n",
        "  count = 1\n",
        "  for i in range(2, max_n_neighbours, 1):\n",
        "    for w in weights:\n",
        "      print(\"trial {} starts:\".format(count))\n",
        "      neigh = classifier(n_neighbors=i, weights=w)\n",
        "      score = k_foldCV(data_X, data_y, neigh, k=3, percent_use = percent_use)\n",
        "      res.append([i, w, score])\n",
        "      count += 1\n",
        "      if score >= best_score:\n",
        "        best_score = score\n",
        "        best_neigh = i\n",
        "        best_w = w\n",
        "      \n",
        "  print(\"best_score is : {}\".format(best_score))\n",
        "  print(\"best_selected_neighbour is {}\".format(best_neigh))\n",
        "  print('best weight method is {}'.format(best_w))\n",
        "  return best_score, best_neigh, best_w, res\n"
      ],
      "execution_count": null,
      "outputs": []
    },
    {
      "cell_type": "code",
      "metadata": {
        "id": "k0BjN8uot6r0"
      },
      "source": [
        "best_score, best_neigh, best_w, KNN_res_arr = KNN_gridsearchCV(weights, max_n_neighbours, KNeighborsClassifier, X_train, y_train, percent_use =0.8)"
      ],
      "execution_count": null,
      "outputs": []
    },
    {
      "cell_type": "code",
      "metadata": {
        "id": "Dk9kgk6Ht_ai"
      },
      "source": [
        "KNN_res_arr = np.array(KNN_res_arr)\n",
        "KNN_res_arr"
      ],
      "execution_count": null,
      "outputs": []
    },
    {
      "cell_type": "code",
      "metadata": {
        "id": "PB9V4p0cuCkS"
      },
      "source": [
        "KNN_res_arr_df = pd.DataFrame(KNN_res_arr, columns=['num_neighbours', 'weighted_method', 'accuracy'])\n",
        "KNN_res_arr_df.to_csv(\"KNN_res_bc.csv\")"
      ],
      "execution_count": null,
      "outputs": []
    },
    {
      "cell_type": "code",
      "metadata": {
        "id": "5YilE1GVwEtq"
      },
      "source": [
        "knn_bc = pd.read_csv('KNN_res_bc.csv')\n",
        "knn_bc = knn_bc.drop(['Unnamed: 0'], axis = 1)"
      ],
      "execution_count": null,
      "outputs": []
    },
    {
      "cell_type": "code",
      "metadata": {
        "id": "pudJkRetwxaG"
      },
      "source": [
        "knn_bc"
      ],
      "execution_count": null,
      "outputs": []
    },
    {
      "cell_type": "code",
      "metadata": {
        "colab": {
          "base_uri": "https://localhost:8080/",
          "height": 284
        },
        "id": "WNpX58uhxOmS",
        "outputId": "c481fb9c-0ef6-4d1c-dbe7-41d747602bdd"
      },
      "source": [
        "Index= list(range(2,50))\n",
        "Cols = ['uniform', 'distance']\n",
        "df = pd.DataFrame(knn_bc['accuracy'].to_numpy().reshape(48,2), index=Index, columns=Cols)\n",
        "sns.heatmap(df,cmap=\"YlGnBu\")"
      ],
      "execution_count": null,
      "outputs": [
        {
          "output_type": "execute_result",
          "data": {
            "text/plain": [
              "<matplotlib.axes._subplots.AxesSubplot at 0x7fcf36d8a990>"
            ]
          },
          "metadata": {},
          "execution_count": 104
        },
        {
          "output_type": "display_data",
          "data": {
            "image/png": "[encoded data removed]",
            "text/plain": [
              "<Figure size 432x288 with 2 Axes>"
            ]
          },
          "metadata": {
            "needs_background": "light"
          }
        }
      ]
    },
    {
      "cell_type": "code",
      "metadata": {
        "id": "yTBz-lMKff6B"
      },
      "source": [
        "\n",
        "all_params_and_score_df = pd.DataFrame(all_params_and_score, columns=['max_depth_params', 'criterion_params', 'min_samples_split', 'min_samples_leaf', 'accuracy'])"
      ],
      "execution_count": null,
      "outputs": []
    },
    {
      "cell_type": "code",
      "metadata": {
        "id": "Iu4KDFzpgOhZ"
      },
      "source": [
        "all_params_and_score_df.to_csv(\"all_params_and_accDT.csv\")"
      ],
      "execution_count": null,
      "outputs": []
    },
    {
      "cell_type": "markdown",
      "metadata": {
        "id": "oZ9sn38zHVH5"
      },
      "source": [
        "## KNN"
      ]
    },
    {
      "cell_type": "code",
      "metadata": {
        "id": "u_7ZlVrbHUXk"
      },
      "source": [
        "from sklearn.neighbors import KNeighborsClassifier\n",
        "neigh = KNeighborsClassifier(n_neighbors=2)\n",
        "# for i in range(10):\n",
        "#   k_foldCV(data_X, data_Y, neigh, k=5, percent_use = 0.1):\n",
        "# neigh.fit(data_X, data_y)\n",
        "k_foldCV(data_X, data_y, neigh, k=5, percent_use = 1)"
      ],
      "execution_count": null,
      "outputs": []
    },
    {
      "cell_type": "code",
      "metadata": {
        "id": "632-3FCVbSh7"
      },
      "source": [
        "KNeighborsClassifier?\n"
      ],
      "execution_count": null,
      "outputs": []
    },
    {
      "cell_type": "code",
      "metadata": {
        "id": "tDbTLS3ob_Ep"
      },
      "source": [
        "weights = ['uniform', 'distance']\n",
        "max_n_neighbours = 50\n",
        "def KNN_gridsearchCV(weights, max_n_neighbours, classifier, data_X, data_y, percent_use):\n",
        "  res = []\n",
        "  best_score = 0\n",
        "  best_neigh = 0\n",
        "  best_w = 'temp'\n",
        "  count = 1\n",
        "  for i in range(2, max_n_neighbours, 1):\n",
        "    for w in weights:\n",
        "      print(\"trial {} starts:\".format(count))\n",
        "      neigh = classifier(n_neighbors=i, weights=w)\n",
        "      score = k_foldCV(data_X, data_y, neigh, k=3, percent_use = percent_use)\n",
        "      res.append([i, w, score])\n",
        "      count += 1\n",
        "      if score >= best_score:\n",
        "        best_score = score\n",
        "        best_neigh = i\n",
        "        best_w = w\n",
        "      \n",
        "  print(\"best_score is : {}\".format(best_score))\n",
        "  print(\"best_selected_neighbour is {}\".format(best_neigh))\n",
        "  print('best weight method is {}'.format(best_w))\n",
        "  return best_score, best_neigh, best_w, res\n",
        "\n",
        "  "
      ],
      "execution_count": null,
      "outputs": []
    },
    {
      "cell_type": "code",
      "metadata": {
        "colab": {
          "base_uri": "https://localhost:8080/"
        },
        "id": "U7MAFcYNda4_",
        "outputId": "339e1321-7805-47fe-ed7b-7c38c4d619e3"
      },
      "source": [
        "best_score, best_neigh, best_w, KNN_res_arr = KNN_gridsearchCV(weights, max_n_neighbours, KNeighborsClassifier, data_X, data_y, percent_use =0.8)"
      ],
      "execution_count": null,
      "outputs": [
        {
          "output_type": "stream",
          "name": "stdout",
          "text": [
            "trial 1 starts:\n",
            "num of total data entries: 30161\n",
            "num of data used: 24128\n",
            "model: KNeighborsClassifier(algorithm='auto', leaf_size=30, metric='minkowski',\n",
            "                     metric_params=None, n_jobs=None, n_neighbors=2, p=2,\n",
            "                     weights='uniform')\n",
            "fold 1 starts:\n",
            "fold 1 score:  0.7984332255657797\n",
            "_______________________________________\n",
            "fold 2 starts:\n",
            "fold 2 score:  0.8051479731410097\n",
            "_______________________________________\n",
            "fold 3 starts:\n",
            "fold 3 score:  0.796494281452014\n",
            "_______________________________________\n",
            "CV complete\n",
            "best_score is: 0.8051479731410097\n",
            "lowest_score is: 0.796494281452014\n",
            "avg score is: 0.8000251600529346\n",
            "trial 2 starts:\n",
            "num of total data entries: 30161\n",
            "num of data used: 24128\n",
            "model: KNeighborsClassifier(algorithm='auto', leaf_size=30, metric='minkowski',\n",
            "                     metric_params=None, n_jobs=None, n_neighbors=2, p=2,\n",
            "                     weights='distance')\n",
            "fold 1 starts:\n",
            "fold 1 score:  0.7826411340462571\n",
            "_______________________________________\n",
            "fold 2 starts:\n",
            "fold 2 score:  0.7881124098482964\n",
            "_______________________________________\n",
            "fold 3 starts:\n",
            "fold 3 score:  0.783689706613625\n",
            "_______________________________________\n",
            "CV complete\n",
            "best_score is: 0.7881124098482964\n",
            "lowest_score is: 0.7826411340462571\n",
            "avg score is: 0.7848144168360595\n",
            "trial 3 starts:\n",
            "num of total data entries: 30161\n",
            "num of data used: 24128\n",
            "model: KNeighborsClassifier(algorithm='auto', leaf_size=30, metric='minkowski',\n",
            "                     metric_params=None, n_jobs=None, n_neighbors=3, p=2,\n",
            "                     weights='uniform')\n",
            "fold 1 starts:\n",
            "fold 1 score:  0.8078836110420293\n",
            "_______________________________________\n",
            "fold 2 starts:\n",
            "fold 2 score:  0.8107435961203681\n",
            "_______________________________________\n",
            "fold 3 starts:\n",
            "fold 3 score:  0.8107906514172054\n",
            "_______________________________________\n",
            "CV complete\n",
            "best_score is: 0.8107906514172054\n",
            "lowest_score is: 0.8078836110420293\n",
            "avg score is: 0.8098059528598677\n",
            "trial 4 starts:\n",
            "num of total data entries: 30161\n",
            "num of data used: 24128\n",
            "model: KNeighborsClassifier(algorithm='auto', leaf_size=30, metric='minkowski',\n",
            "                     metric_params=None, n_jobs=None, n_neighbors=3, p=2,\n",
            "                     weights='distance')\n",
            "fold 1 starts:\n",
            "fold 1 score:  0.8004227804028848\n",
            "_______________________________________\n",
            "fold 2 starts:\n",
            "fold 2 score:  0.8026610295946282\n",
            "_______________________________________\n",
            "fold 3 starts:\n",
            "fold 3 score:  0.8020885131775236\n",
            "_______________________________________\n",
            "CV complete\n",
            "best_score is: 0.8026610295946282\n",
            "lowest_score is: 0.8004227804028848\n",
            "avg score is: 0.8017241077250121\n",
            "trial 5 starts:\n",
            "num of total data entries: 30161\n",
            "num of data used: 24128\n",
            "model: KNeighborsClassifier(algorithm='auto', leaf_size=30, metric='minkowski',\n",
            "                     metric_params=None, n_jobs=None, n_neighbors=4, p=2,\n",
            "                     weights='uniform')\n",
            "fold 1 starts:\n",
            "fold 1 score:  0.8154687888584929\n",
            "_______________________________________\n",
            "fold 2 starts:\n",
            "fold 2 score:  0.8145983586172594\n",
            "_______________________________________\n",
            "fold 3 starts:\n",
            "fold 3 score:  0.8150174042764794\n",
            "_______________________________________\n",
            "CV complete\n",
            "best_score is: 0.8154687888584929\n",
            "lowest_score is: 0.8145983586172594\n",
            "avg score is: 0.8150281839174106\n",
            "trial 6 starts:\n",
            "num of total data entries: 30161\n",
            "num of data used: 24128\n",
            "model: KNeighborsClassifier(algorithm='auto', leaf_size=30, metric='minkowski',\n",
            "                     metric_params=None, n_jobs=None, n_neighbors=4, p=2,\n",
            "                     weights='distance')\n",
            "fold 1 starts:\n",
            "fold 1 score:  0.8036558070131808\n",
            "_______________________________________\n",
            "fold 2 starts:\n",
            "fold 2 score:  0.8047749316090524\n",
            "_______________________________________\n",
            "fold 3 starts:\n",
            "fold 3 score:  0.8068125310790651\n",
            "_______________________________________\n",
            "CV complete\n",
            "best_score is: 0.8068125310790651\n",
            "lowest_score is: 0.8036558070131808\n",
            "avg score is: 0.8050810899004328\n",
            "trial 7 starts:\n",
            "num of total data entries: 30161\n",
            "num of data used: 24128\n",
            "model: KNeighborsClassifier(algorithm='auto', leaf_size=30, metric='minkowski',\n",
            "                     metric_params=None, n_jobs=None, n_neighbors=5, p=2,\n",
            "                     weights='uniform')\n",
            "fold 1 starts:\n",
            "fold 1 score:  0.8157174832131311\n",
            "_______________________________________\n",
            "fold 2 starts:\n",
            "fold 2 score:  0.8168366078090027\n",
            "_______________________________________\n",
            "fold 3 starts:\n",
            "fold 3 score:  0.820611636001989\n",
            "_______________________________________\n",
            "CV complete\n",
            "best_score is: 0.820611636001989\n",
            "lowest_score is: 0.8157174832131311\n",
            "avg score is: 0.817721909008041\n",
            "trial 8 starts:\n",
            "num of total data entries: 30161\n",
            "num of data used: 24128\n",
            "model: KNeighborsClassifier(algorithm='auto', leaf_size=30, metric='minkowski',\n",
            "                     metric_params=None, n_jobs=None, n_neighbors=5, p=2,\n",
            "                     weights='distance')\n",
            "fold 1 starts:\n",
            "fold 1 score:  0.8077592638647103\n",
            "_______________________________________\n",
            "fold 2 starts:\n",
            "fold 2 score:  0.8083809997513056\n",
            "_______________________________________\n",
            "fold 3 starts:\n",
            "fold 3 score:  0.8121581302834411\n",
            "_______________________________________\n",
            "CV complete\n",
            "best_score is: 0.8121581302834411\n",
            "lowest_score is: 0.8077592638647103\n",
            "avg score is: 0.8094327979664856\n",
            "trial 9 starts:\n",
            "num of total data entries: 30161\n",
            "num of data used: 24128\n",
            "model: KNeighborsClassifier(algorithm='auto', leaf_size=30, metric='minkowski',\n",
            "                     metric_params=None, n_jobs=None, n_neighbors=6, p=2,\n",
            "                     weights='uniform')\n",
            "fold 1 starts:\n",
            "fold 1 score:  0.8193235513553843\n",
            "_______________________________________\n",
            "fold 2 starts:\n",
            "fold 2 score:  0.8185774682914698\n",
            "_______________________________________\n",
            "fold 3 starts:\n",
            "fold 3 score:  0.8223520636499254\n",
            "_______________________________________\n",
            "CV complete\n",
            "best_score is: 0.8223520636499254\n",
            "lowest_score is: 0.8185774682914698\n",
            "avg score is: 0.8200843610989265\n",
            "trial 10 starts:\n",
            "num of total data entries: 30161\n",
            "num of data used: 24128\n",
            "model: KNeighborsClassifier(algorithm='auto', leaf_size=30, metric='minkowski',\n",
            "                     metric_params=None, n_jobs=None, n_neighbors=6, p=2,\n",
            "                     weights='distance')\n",
            "fold 1 starts:\n",
            "fold 1 score:  0.8104949017657299\n",
            "_______________________________________\n",
            "fold 2 starts:\n",
            "fold 2 score:  0.8101218602337726\n",
            "_______________________________________\n",
            "fold 3 starts:\n",
            "fold 3 score:  0.8160119343610144\n",
            "_______________________________________\n",
            "CV complete\n",
            "best_score is: 0.8160119343610144\n",
            "lowest_score is: 0.8101218602337726\n",
            "avg score is: 0.8122095654535056\n",
            "trial 11 starts:\n",
            "num of total data entries: 30161\n",
            "num of data used: 24128\n",
            "model: KNeighborsClassifier(algorithm='auto', leaf_size=30, metric='minkowski',\n",
            "                     metric_params=None, n_jobs=None, n_neighbors=7, p=2,\n",
            "                     weights='uniform')\n",
            "fold 1 starts:\n",
            "fold 1 score:  0.8191992041780651\n",
            "_______________________________________\n",
            "fold 2 starts:\n",
            "fold 2 score:  0.8210644118378513\n",
            "_______________________________________\n",
            "fold 3 starts:\n",
            "fold 3 score:  0.8258329189457981\n",
            "_______________________________________\n",
            "CV complete\n",
            "best_score is: 0.8258329189457981\n",
            "lowest_score is: 0.8191992041780651\n",
            "avg score is: 0.8220321783205716\n",
            "trial 12 starts:\n",
            "num of total data entries: 30161\n",
            "num of data used: 24128\n",
            "model: KNeighborsClassifier(algorithm='auto', leaf_size=30, metric='minkowski',\n",
            "                     metric_params=None, n_jobs=None, n_neighbors=7, p=2,\n",
            "                     weights='distance')\n",
            "fold 1 starts:\n",
            "fold 1 score:  0.8131061924894305\n",
            "_______________________________________\n",
            "fold 2 starts:\n",
            "fold 2 score:  0.8123601094255161\n",
            "_______________________________________\n",
            "fold 3 starts:\n",
            "fold 3 score:  0.8166335156638488\n",
            "_______________________________________\n",
            "CV complete\n",
            "best_score is: 0.8166335156638488\n",
            "lowest_score is: 0.8123601094255161\n",
            "avg score is: 0.8140332725262652\n",
            "trial 13 starts:\n",
            "num of total data entries: 30161\n",
            "num of data used: 24128\n",
            "model: KNeighborsClassifier(algorithm='auto', leaf_size=30, metric='minkowski',\n",
            "                     metric_params=None, n_jobs=None, n_neighbors=8, p=2,\n",
            "                     weights='uniform')\n",
            "fold 1 starts:\n",
            "fold 1 score:  0.8238000497388709\n",
            "_______________________________________\n",
            "fold 2 starts:\n",
            "fold 2 score:  0.8242974384481472\n",
            "_______________________________________\n",
            "fold 3 starts:\n",
            "fold 3 score:  0.8279462953754351\n",
            "_______________________________________\n",
            "CV complete\n",
            "best_score is: 0.8279462953754351\n",
            "lowest_score is: 0.8238000497388709\n",
            "avg score is: 0.825347927854151\n",
            "trial 14 starts:\n",
            "num of total data entries: 30161\n",
            "num of data used: 24128\n",
            "model: KNeighborsClassifier(algorithm='auto', leaf_size=30, metric='minkowski',\n",
            "                     metric_params=None, n_jobs=None, n_neighbors=8, p=2,\n",
            "                     weights='distance')\n",
            "fold 1 starts:\n",
            "fold 1 score:  0.8141009699079831\n",
            "_______________________________________\n",
            "fold 2 starts:\n",
            "fold 2 score:  0.8124844566028351\n",
            "_______________________________________\n",
            "fold 3 starts:\n",
            "fold 3 score:  0.8202386872202884\n",
            "_______________________________________\n",
            "CV complete\n",
            "best_score is: 0.8202386872202884\n",
            "lowest_score is: 0.8124844566028351\n",
            "avg score is: 0.8156080379103688\n",
            "trial 15 starts:\n",
            "num of total data entries: 30161\n",
            "num of data used: 24128\n",
            "model: KNeighborsClassifier(algorithm='auto', leaf_size=30, metric='minkowski',\n",
            "                     metric_params=None, n_jobs=None, n_neighbors=9, p=2,\n",
            "                     weights='uniform')\n",
            "fold 1 starts:\n",
            "fold 1 score:  0.8235513553842327\n",
            "_______________________________________\n",
            "fold 2 starts:\n",
            "fold 2 score:  0.8209400646605322\n",
            "_______________________________________\n",
            "fold 3 starts:\n",
            "fold 3 score:  0.8279462953754351\n",
            "_______________________________________\n",
            "CV complete\n",
            "best_score is: 0.8279462953754351\n",
            "lowest_score is: 0.8209400646605322\n",
            "avg score is: 0.8241459051400666\n",
            "trial 16 starts:\n",
            "num of total data entries: 30161\n",
            "num of data used: 24128\n",
            "model: KNeighborsClassifier(algorithm='auto', leaf_size=30, metric='minkowski',\n",
            "                     metric_params=None, n_jobs=None, n_neighbors=9, p=2,\n",
            "                     weights='distance')\n",
            "fold 1 starts:\n",
            "fold 1 score:  0.8158418303904501\n",
            "_______________________________________\n",
            "fold 2 starts:\n",
            "fold 2 score:  0.8143496642626212\n",
            "_______________________________________\n",
            "fold 3 starts:\n",
            "fold 3 score:  0.8207359522625559\n",
            "_______________________________________\n",
            "CV complete\n",
            "best_score is: 0.8207359522625559\n",
            "lowest_score is: 0.8143496642626212\n",
            "avg score is: 0.8169758156385424\n",
            "trial 17 starts:\n",
            "num of total data entries: 30161\n",
            "num of data used: 24128\n",
            "model: KNeighborsClassifier(algorithm='auto', leaf_size=30, metric='minkowski',\n",
            "                     metric_params=None, n_jobs=None, n_neighbors=10, p=2,\n",
            "                     weights='uniform')\n",
            "fold 1 starts:\n",
            "fold 1 score:  0.825665257398657\n",
            "_______________________________________\n",
            "fold 2 starts:\n",
            "fold 2 score:  0.8233026610295946\n",
            "_______________________________________\n",
            "fold 3 starts:\n",
            "fold 3 score:  0.8274490303331675\n",
            "_______________________________________\n",
            "CV complete\n",
            "best_score is: 0.8274490303331675\n",
            "lowest_score is: 0.8233026610295946\n",
            "avg score is: 0.8254723162538063\n",
            "trial 18 starts:\n",
            "num of total data entries: 30161\n",
            "num of data used: 24128\n",
            "model: KNeighborsClassifier(algorithm='auto', leaf_size=30, metric='minkowski',\n",
            "                     metric_params=None, n_jobs=None, n_neighbors=10, p=2,\n",
            "                     weights='distance')\n",
            "fold 1 starts:\n",
            "fold 1 score:  0.8177070380502363\n",
            "_______________________________________\n",
            "fold 2 starts:\n",
            "fold 2 score:  0.8158418303904501\n",
            "_______________________________________\n",
            "fold 3 starts:\n",
            "fold 3 score:  0.8222277473893586\n",
            "_______________________________________\n",
            "CV complete\n",
            "best_score is: 0.8222277473893586\n",
            "lowest_score is: 0.8158418303904501\n",
            "avg score is: 0.8185922052766816\n",
            "trial 19 starts:\n",
            "num of total data entries: 30161\n",
            "num of data used: 24128\n",
            "model: KNeighborsClassifier(algorithm='auto', leaf_size=30, metric='minkowski',\n",
            "                     metric_params=None, n_jobs=None, n_neighbors=11, p=2,\n",
            "                     weights='uniform')\n",
            "fold 1 starts:\n",
            "fold 1 score:  0.8219348420790848\n",
            "_______________________________________\n",
            "fold 2 starts:\n",
            "fold 2 score:  0.8254165630440189\n",
            "_______________________________________\n",
            "fold 3 starts:\n",
            "fold 3 score:  0.8267031327697663\n",
            "_______________________________________\n",
            "CV complete\n",
            "best_score is: 0.8267031327697663\n",
            "lowest_score is: 0.8219348420790848\n",
            "avg score is: 0.82468484596429\n",
            "trial 20 starts:\n",
            "num of total data entries: 30161\n",
            "num of data used: 24128\n",
            "model: KNeighborsClassifier(algorithm='auto', leaf_size=30, metric='minkowski',\n",
            "                     metric_params=None, n_jobs=None, n_neighbors=11, p=2,\n",
            "                     weights='distance')\n",
            "fold 1 starts:\n",
            "fold 1 score:  0.8183287739368317\n",
            "_______________________________________\n",
            "fold 2 starts:\n",
            "fold 2 score:  0.8174583436955981\n",
            "_______________________________________\n",
            "fold 3 starts:\n",
            "fold 3 score:  0.8222277473893586\n",
            "_______________________________________\n",
            "CV complete\n",
            "best_score is: 0.8222277473893586\n",
            "lowest_score is: 0.8174583436955981\n",
            "avg score is: 0.8193382883405961\n",
            "trial 21 starts:\n",
            "num of total data entries: 30161\n",
            "num of data used: 24128\n",
            "model: KNeighborsClassifier(algorithm='auto', leaf_size=30, metric='minkowski',\n",
            "                     metric_params=None, n_jobs=None, n_neighbors=12, p=2,\n",
            "                     weights='uniform')\n",
            "fold 1 starts:\n",
            "fold 1 score:  0.82392439691619\n",
            "_______________________________________\n",
            "fold 2 starts:\n",
            "fold 2 score:  0.8252922158666999\n",
            "_______________________________________\n",
            "fold 3 starts:\n",
            "fold 3 score:  0.8289408254599702\n",
            "_______________________________________\n",
            "CV complete\n",
            "best_score is: 0.8289408254599702\n",
            "lowest_score is: 0.82392439691619\n",
            "avg score is: 0.8260524794142867\n",
            "trial 22 starts:\n",
            "num of total data entries: 30161\n",
            "num of data used: 24128\n",
            "model: KNeighborsClassifier(algorithm='auto', leaf_size=30, metric='minkowski',\n",
            "                     metric_params=None, n_jobs=None, n_neighbors=12, p=2,\n",
            "                     weights='distance')\n",
            "fold 1 starts:\n",
            "fold 1 score:  0.817333996518279\n",
            "_______________________________________\n",
            "fold 2 starts:\n",
            "fold 2 score:  0.8164635662770455\n",
            "_______________________________________\n",
            "fold 3 starts:\n",
            "fold 3 score:  0.8224763799104923\n",
            "_______________________________________\n",
            "CV complete\n",
            "best_score is: 0.8224763799104923\n",
            "lowest_score is: 0.8164635662770455\n",
            "avg score is: 0.818757980901939\n",
            "trial 23 starts:\n",
            "num of total data entries: 30161\n",
            "num of data used: 24128\n",
            "model: KNeighborsClassifier(algorithm='auto', leaf_size=30, metric='minkowski',\n",
            "                     metric_params=None, n_jobs=None, n_neighbors=13, p=2,\n",
            "                     weights='uniform')\n",
            "fold 1 starts:\n",
            "fold 1 score:  0.8231783138522756\n",
            "_______________________________________\n",
            "fold 2 starts:\n",
            "fold 2 score:  0.8224322307883611\n",
            "_______________________________________\n",
            "fold 3 starts:\n",
            "fold 3 score:  0.8295624067628046\n",
            "_______________________________________\n",
            "CV complete\n",
            "best_score is: 0.8295624067628046\n",
            "lowest_score is: 0.8224322307883611\n",
            "avg score is: 0.8250576504678137\n",
            "trial 24 starts:\n",
            "num of total data entries: 30161\n",
            "num of data used: 24128\n",
            "model: KNeighborsClassifier(algorithm='auto', leaf_size=30, metric='minkowski',\n",
            "                     metric_params=None, n_jobs=None, n_neighbors=13, p=2,\n",
            "                     weights='distance')\n",
            "fold 1 starts:\n",
            "fold 1 score:  0.8194478985327033\n",
            "_______________________________________\n",
            "fold 2 starts:\n",
            "fold 2 score:  0.8177070380502363\n",
            "_______________________________________\n",
            "fold 3 starts:\n",
            "fold 3 score:  0.8247140726006962\n",
            "_______________________________________\n",
            "CV complete\n",
            "best_score is: 0.8247140726006962\n",
            "lowest_score is: 0.8177070380502363\n",
            "avg score is: 0.8206230030612119\n",
            "trial 25 starts:\n",
            "num of total data entries: 30161\n",
            "num of data used: 24128\n",
            "model: KNeighborsClassifier(algorithm='auto', leaf_size=30, metric='minkowski',\n",
            "                     metric_params=None, n_jobs=None, n_neighbors=14, p=2,\n",
            "                     weights='uniform')\n",
            "fold 1 starts:\n",
            "fold 1 score:  0.8234270082069137\n",
            "_______________________________________\n",
            "fold 2 starts:\n",
            "fold 2 score:  0.824048744093509\n",
            "_______________________________________\n",
            "fold 3 starts:\n",
            "fold 3 score:  0.8279462953754351\n",
            "_______________________________________\n",
            "CV complete\n",
            "best_score is: 0.8279462953754351\n",
            "lowest_score is: 0.8234270082069137\n",
            "avg score is: 0.8251406825586193\n",
            "trial 26 starts:\n",
            "num of total data entries: 30161\n",
            "num of data used: 24128\n",
            "model: KNeighborsClassifier(algorithm='auto', leaf_size=30, metric='minkowski',\n",
            "                     metric_params=None, n_jobs=None, n_neighbors=14, p=2,\n",
            "                     weights='distance')\n",
            "fold 1 starts:\n",
            "fold 1 score:  0.8209400646605322\n",
            "_______________________________________\n",
            "fold 2 starts:\n",
            "fold 2 score:  0.8179557324048744\n",
            "_______________________________________\n",
            "fold 3 starts:\n",
            "fold 3 score:  0.8262058677274987\n",
            "_______________________________________\n",
            "CV complete\n",
            "best_score is: 0.8262058677274987\n",
            "lowest_score is: 0.8179557324048744\n",
            "avg score is: 0.8217005549309685\n",
            "trial 27 starts:\n",
            "num of total data entries: 30161\n",
            "num of data used: 24128\n",
            "model: KNeighborsClassifier(algorithm='auto', leaf_size=30, metric='minkowski',\n",
            "                     metric_params=None, n_jobs=None, n_neighbors=15, p=2,\n",
            "                     weights='uniform')\n",
            "fold 1 starts:\n",
            "fold 1 score:  0.8257896045759762\n",
            "_______________________________________\n",
            "fold 2 starts:\n",
            "fold 2 score:  0.8226809251429993\n",
            "_______________________________________\n",
            "fold 3 starts:\n",
            "fold 3 score:  0.8311785181501741\n",
            "_______________________________________\n",
            "CV complete\n",
            "best_score is: 0.8311785181501741\n",
            "lowest_score is: 0.8226809251429993\n",
            "avg score is: 0.82654968262305\n",
            "trial 28 starts:\n",
            "num of total data entries: 30161\n",
            "num of data used: 24128\n",
            "model: KNeighborsClassifier(algorithm='auto', leaf_size=30, metric='minkowski',\n",
            "                     metric_params=None, n_jobs=None, n_neighbors=15, p=2,\n",
            "                     weights='distance')\n",
            "fold 1 starts:\n",
            "fold 1 score:  0.8204426759512559\n",
            "_______________________________________\n",
            "fold 2 starts:\n",
            "fold 2 score:  0.8187018154687888\n",
            "_______________________________________\n",
            "fold 3 starts:\n",
            "fold 3 score:  0.8275733465937345\n",
            "_______________________________________\n",
            "CV complete\n",
            "best_score is: 0.8275733465937345\n",
            "lowest_score is: 0.8187018154687888\n",
            "avg score is: 0.8222392793379264\n",
            "trial 29 starts:\n",
            "num of total data entries: 30161\n",
            "num of data used: 24128\n",
            "model: KNeighborsClassifier(algorithm='auto', leaf_size=30, metric='minkowski',\n",
            "                     metric_params=None, n_jobs=None, n_neighbors=16, p=2,\n",
            "                     weights='uniform')\n",
            "fold 1 starts:\n",
            "fold 1 score:  0.8252922158666999\n",
            "_______________________________________\n",
            "fold 2 starts:\n",
            "fold 2 score:  0.8261626461079333\n",
            "_______________________________________\n",
            "fold 3 starts:\n",
            "fold 3 score:  0.8293137742416709\n",
            "_______________________________________\n",
            "CV complete\n",
            "best_score is: 0.8293137742416709\n",
            "lowest_score is: 0.8252922158666999\n",
            "avg score is: 0.826922878738768\n",
            "trial 30 starts:\n",
            "num of total data entries: 30161\n",
            "num of data used: 24128\n",
            "model: KNeighborsClassifier(algorithm='auto', leaf_size=30, metric='minkowski',\n",
            "                     metric_params=None, n_jobs=None, n_neighbors=16, p=2,\n",
            "                     weights='distance')\n",
            "fold 1 starts:\n",
            "fold 1 score:  0.8229296194976374\n",
            "_______________________________________\n",
            "fold 2 starts:\n",
            "fold 2 score:  0.8190748570007461\n",
            "_______________________________________\n",
            "fold 3 starts:\n",
            "fold 3 score:  0.8281949278965689\n",
            "_______________________________________\n",
            "CV complete\n",
            "best_score is: 0.8281949278965689\n",
            "lowest_score is: 0.8190748570007461\n",
            "avg score is: 0.823399801464984\n",
            "trial 31 starts:\n",
            "num of total data entries: 30161\n",
            "num of data used: 24128\n",
            "model: KNeighborsClassifier(algorithm='auto', leaf_size=30, metric='minkowski',\n",
            "                     metric_params=None, n_jobs=None, n_neighbors=17, p=2,\n",
            "                     weights='uniform')\n",
            "fold 1 starts:\n",
            "fold 1 score:  0.8267843819945287\n",
            "_______________________________________\n",
            "fold 2 starts:\n",
            "fold 2 score:  0.8257896045759762\n",
            "_______________________________________\n",
            "fold 3 starts:\n",
            "fold 3 score:  0.833291894579811\n",
            "_______________________________________\n",
            "CV complete\n",
            "best_score is: 0.833291894579811\n",
            "lowest_score is: 0.8257896045759762\n",
            "avg score is: 0.8286219603834386\n",
            "trial 32 starts:\n",
            "num of total data entries: 30161\n",
            "num of data used: 24128\n",
            "model: KNeighborsClassifier(algorithm='auto', leaf_size=30, metric='minkowski',\n",
            "                     metric_params=None, n_jobs=None, n_neighbors=17, p=2,\n",
            "                     weights='distance')\n",
            "fold 1 starts:\n",
            "fold 1 score:  0.8220591892564039\n",
            "_______________________________________\n",
            "fold 2 starts:\n",
            "fold 2 score:  0.8213131061924894\n",
            "_______________________________________\n",
            "fold 3 starts:\n",
            "fold 3 score:  0.8294380905022377\n",
            "_______________________________________\n",
            "CV complete\n",
            "best_score is: 0.8294380905022377\n",
            "lowest_score is: 0.8213131061924894\n",
            "avg score is: 0.824270128650377\n",
            "trial 33 starts:\n",
            "num of total data entries: 30161\n",
            "num of data used: 24128\n",
            "model: KNeighborsClassifier(algorithm='auto', leaf_size=30, metric='minkowski',\n",
            "                     metric_params=None, n_jobs=None, n_neighbors=18, p=2,\n",
            "                     weights='uniform')\n",
            "fold 1 starts:\n",
            "fold 1 score:  0.8267843819945287\n",
            "_______________________________________\n",
            "fold 2 starts:\n",
            "fold 2 score:  0.8257896045759762\n",
            "_______________________________________\n",
            "fold 3 starts:\n",
            "fold 3 score:  0.8309298856290402\n",
            "_______________________________________\n",
            "CV complete\n",
            "best_score is: 0.8309298856290402\n",
            "lowest_score is: 0.8257896045759762\n",
            "avg score is: 0.8278346240665151\n",
            "trial 34 starts:\n",
            "num of total data entries: 30161\n",
            "num of data used: 24128\n",
            "model: KNeighborsClassifier(algorithm='auto', leaf_size=30, metric='minkowski',\n",
            "                     metric_params=None, n_jobs=None, n_neighbors=18, p=2,\n",
            "                     weights='distance')\n",
            "fold 1 starts:\n",
            "fold 1 score:  0.8236757025615519\n",
            "_______________________________________\n",
            "fold 2 starts:\n",
            "fold 2 score:  0.8191992041780651\n",
            "_______________________________________\n",
            "fold 3 starts:\n",
            "fold 3 score:  0.829065141720537\n",
            "_______________________________________\n",
            "CV complete\n",
            "best_score is: 0.829065141720537\n",
            "lowest_score is: 0.8191992041780651\n",
            "avg score is: 0.8239800161533847\n",
            "trial 35 starts:\n",
            "num of total data entries: 30161\n",
            "num of data used: 24128\n",
            "model: KNeighborsClassifier(algorithm='auto', leaf_size=30, metric='minkowski',\n",
            "                     metric_params=None, n_jobs=None, n_neighbors=19, p=2,\n",
            "                     weights='uniform')\n",
            "fold 1 starts:\n",
            "fold 1 score:  0.8254165630440189\n",
            "_______________________________________\n",
            "fold 2 starts:\n",
            "fold 2 score:  0.8275304650584432\n",
            "_______________________________________\n",
            "fold 3 starts:\n",
            "fold 3 score:  0.8314271506713078\n",
            "_______________________________________\n",
            "CV complete\n",
            "best_score is: 0.8314271506713078\n",
            "lowest_score is: 0.8254165630440189\n",
            "avg score is: 0.8281247262579233\n",
            "trial 36 starts:\n",
            "num of total data entries: 30161\n",
            "num of data used: 24128\n",
            "model: KNeighborsClassifier(algorithm='auto', leaf_size=30, metric='minkowski',\n",
            "                     metric_params=None, n_jobs=None, n_neighbors=19, p=2,\n",
            "                     weights='distance')\n",
            "fold 1 starts:\n",
            "fold 1 score:  0.8235513553842327\n",
            "_______________________________________\n",
            "fold 2 starts:\n",
            "fold 2 score:  0.8208157174832131\n",
            "_______________________________________\n",
            "fold 3 starts:\n",
            "fold 3 score:  0.8289408254599702\n",
            "_______________________________________\n",
            "CV complete\n",
            "best_score is: 0.8289408254599702\n",
            "lowest_score is: 0.8208157174832131\n",
            "avg score is: 0.8244359661091387\n",
            "trial 37 starts:\n",
            "num of total data entries: 30161\n",
            "num of data used: 24128\n",
            "model: KNeighborsClassifier(algorithm='auto', leaf_size=30, metric='minkowski',\n",
            "                     metric_params=None, n_jobs=None, n_neighbors=20, p=2,\n",
            "                     weights='uniform')\n",
            "fold 1 starts:\n",
            "fold 1 score:  0.8254165630440189\n",
            "_______________________________________\n",
            "fold 2 starts:\n",
            "fold 2 score:  0.8270330763491669\n",
            "_______________________________________\n",
            "fold 3 starts:\n",
            "fold 3 score:  0.8288165091994033\n",
            "_______________________________________\n",
            "CV complete\n",
            "best_score is: 0.8288165091994033\n",
            "lowest_score is: 0.8254165630440189\n",
            "avg score is: 0.8270887161975297\n",
            "trial 38 starts:\n",
            "num of total data entries: 30161\n",
            "num of data used: 24128\n",
            "model: KNeighborsClassifier(algorithm='auto', leaf_size=30, metric='minkowski',\n",
            "                     metric_params=None, n_jobs=None, n_neighbors=20, p=2,\n",
            "                     weights='distance')\n",
            "fold 1 starts:\n",
            "fold 1 score:  0.8230539666749564\n",
            "_______________________________________\n",
            "fold 2 starts:\n",
            "fold 2 score:  0.8203183287739368\n",
            "_______________________________________\n",
            "fold 3 starts:\n",
            "fold 3 score:  0.8288165091994033\n",
            "_______________________________________\n",
            "CV complete\n",
            "best_score is: 0.8288165091994033\n",
            "lowest_score is: 0.8203183287739368\n",
            "avg score is: 0.8240629348827655\n",
            "trial 39 starts:\n",
            "num of total data entries: 30161\n",
            "num of data used: 24128\n",
            "model: KNeighborsClassifier(algorithm='auto', leaf_size=30, metric='minkowski',\n",
            "                     metric_params=None, n_jobs=None, n_neighbors=21, p=2,\n",
            "                     weights='uniform')\n",
            "fold 1 starts:\n",
            "fold 1 score:  0.8264113404625715\n",
            "_______________________________________\n",
            "fold 2 starts:\n",
            "fold 2 score:  0.8262869932852525\n",
            "_______________________________________\n",
            "fold 3 starts:\n",
            "fold 3 score:  0.8305569368473397\n",
            "_______________________________________\n",
            "CV complete\n",
            "best_score is: 0.8305569368473397\n",
            "lowest_score is: 0.8262869932852525\n",
            "avg score is: 0.8277517568650546\n",
            "trial 40 starts:\n",
            "num of total data entries: 30161\n",
            "num of data used: 24128\n",
            "model: KNeighborsClassifier(algorithm='auto', leaf_size=30, metric='minkowski',\n",
            "                     metric_params=None, n_jobs=None, n_neighbors=21, p=2,\n",
            "                     weights='distance')\n",
            "fold 1 starts:\n",
            "fold 1 score:  0.8247948271574235\n",
            "_______________________________________\n",
            "fold 2 starts:\n",
            "fold 2 score:  0.8210644118378513\n",
            "_______________________________________\n",
            "fold 3 starts:\n",
            "fold 3 score:  0.8293137742416709\n",
            "_______________________________________\n",
            "CV complete\n",
            "best_score is: 0.8293137742416709\n",
            "lowest_score is: 0.8210644118378513\n",
            "avg score is: 0.8250576710789819\n",
            "trial 41 starts:\n",
            "num of total data entries: 30161\n",
            "num of data used: 24128\n",
            "model: KNeighborsClassifier(algorithm='auto', leaf_size=30, metric='minkowski',\n",
            "                     metric_params=None, n_jobs=None, n_neighbors=22, p=2,\n",
            "                     weights='uniform')\n",
            "fold 1 starts:\n",
            "fold 1 score:  0.8262869932852525\n",
            "_______________________________________\n",
            "fold 2 starts:\n",
            "fold 2 score:  0.8269087291718478\n",
            "_______________________________________\n",
            "fold 3 starts:\n",
            "fold 3 score:  0.8300596718050721\n",
            "_______________________________________\n",
            "CV complete\n",
            "best_score is: 0.8300596718050721\n",
            "lowest_score is: 0.8262869932852525\n",
            "avg score is: 0.8277517980873906\n",
            "trial 42 starts:\n",
            "num of total data entries: 30161\n",
            "num of data used: 24128\n",
            "model: KNeighborsClassifier(algorithm='auto', leaf_size=30, metric='minkowski',\n",
            "                     metric_params=None, n_jobs=None, n_neighbors=22, p=2,\n",
            "                     weights='distance')\n",
            "fold 1 starts:\n",
            "fold 1 score:  0.8251678686893807\n",
            "_______________________________________\n",
            "fold 2 starts:\n",
            "fold 2 score:  0.8213131061924894\n",
            "_______________________________________\n",
            "fold 3 starts:\n",
            "fold 3 score:  0.8285678766782695\n",
            "_______________________________________\n",
            "CV complete\n",
            "best_score is: 0.8285678766782695\n",
            "lowest_score is: 0.8213131061924894\n",
            "avg score is: 0.82501628385338\n",
            "trial 43 starts:\n",
            "num of total data entries: 30161\n",
            "num of data used: 24128\n",
            "model: KNeighborsClassifier(algorithm='auto', leaf_size=30, metric='minkowski',\n",
            "                     metric_params=None, n_jobs=None, n_neighbors=23, p=2,\n",
            "                     weights='uniform')\n",
            "fold 1 starts:\n",
            "fold 1 score:  0.8259139517532952\n",
            "_______________________________________\n",
            "fold 2 starts:\n",
            "fold 2 score:  0.8257896045759762\n",
            "_______________________________________\n",
            "fold 3 starts:\n",
            "fold 3 score:  0.8286921929388364\n",
            "_______________________________________\n",
            "CV complete\n",
            "best_score is: 0.8286921929388364\n",
            "lowest_score is: 0.8257896045759762\n",
            "avg score is: 0.8267985830893693\n",
            "trial 44 starts:\n",
            "num of total data entries: 30161\n",
            "num of data used: 24128\n",
            "model: KNeighborsClassifier(algorithm='auto', leaf_size=30, metric='minkowski',\n",
            "                     metric_params=None, n_jobs=None, n_neighbors=23, p=2,\n",
            "                     weights='distance')\n",
            "fold 1 starts:\n",
            "fold 1 score:  0.8266600348172096\n",
            "_______________________________________\n",
            "fold 2 starts:\n",
            "fold 2 score:  0.822183536433723\n",
            "_______________________________________\n",
            "fold 3 starts:\n",
            "fold 3 score:  0.8278219791148682\n",
            "_______________________________________\n",
            "CV complete\n",
            "best_score is: 0.8278219791148682\n",
            "lowest_score is: 0.822183536433723\n",
            "avg score is: 0.8255551834552669\n",
            "trial 45 starts:\n",
            "num of total data entries: 30161\n",
            "num of data used: 24128\n",
            "model: KNeighborsClassifier(algorithm='auto', leaf_size=30, metric='minkowski',\n",
            "                     metric_params=None, n_jobs=None, n_neighbors=24, p=2,\n",
            "                     weights='uniform')\n",
            "fold 1 starts:\n",
            "fold 1 score:  0.8252922158666999\n",
            "_______________________________________\n",
            "fold 2 starts:\n",
            "fold 2 score:  0.8271574235264859\n",
            "_______________________________________\n",
            "fold 3 starts:\n",
            "fold 3 score:  0.8288165091994033\n",
            "_______________________________________\n",
            "CV complete\n",
            "best_score is: 0.8288165091994033\n",
            "lowest_score is: 0.8252922158666999\n",
            "avg score is: 0.8270887161975297\n",
            "trial 46 starts:\n",
            "num of total data entries: 30161\n",
            "num of data used: 24128\n",
            "model: KNeighborsClassifier(algorithm='auto', leaf_size=30, metric='minkowski',\n",
            "                     metric_params=None, n_jobs=None, n_neighbors=24, p=2,\n",
            "                     weights='distance')\n",
            "fold 1 starts:\n",
            "fold 1 score:  0.8265356876398906\n",
            "_______________________________________\n",
            "fold 2 starts:\n",
            "fold 2 score:  0.8226809251429993\n",
            "_______________________________________\n",
            "fold 3 starts:\n",
            "fold 3 score:  0.8305569368473397\n",
            "_______________________________________\n",
            "CV complete\n",
            "best_score is: 0.8305569368473397\n",
            "lowest_score is: 0.8226809251429993\n",
            "avg score is: 0.8265911832100765\n",
            "trial 47 starts:\n",
            "num of total data entries: 30161\n",
            "num of data used: 24128\n",
            "model: KNeighborsClassifier(algorithm='auto', leaf_size=30, metric='minkowski',\n",
            "                     metric_params=None, n_jobs=None, n_neighbors=25, p=2,\n",
            "                     weights='uniform')\n",
            "fold 1 starts:\n",
            "fold 1 score:  0.8265356876398906\n",
            "_______________________________________\n",
            "fold 2 starts:\n",
            "fold 2 score:  0.825665257398657\n",
            "_______________________________________\n",
            "fold 3 starts:\n",
            "fold 3 score:  0.8296867230233714\n",
            "_______________________________________\n",
            "CV complete\n",
            "best_score is: 0.8296867230233714\n",
            "lowest_score is: 0.825665257398657\n",
            "avg score is: 0.827295889353973\n",
            "trial 48 starts:\n",
            "num of total data entries: 30161\n",
            "num of data used: 24128\n",
            "model: KNeighborsClassifier(algorithm='auto', leaf_size=30, metric='minkowski',\n",
            "                     metric_params=None, n_jobs=None, n_neighbors=25, p=2,\n",
            "                     weights='distance')\n",
            "fold 1 starts:\n",
            "fold 1 score:  0.8282765481223576\n",
            "_______________________________________\n",
            "fold 2 starts:\n",
            "fold 2 score:  0.8226809251429993\n",
            "_______________________________________\n",
            "fold 3 starts:\n",
            "fold 3 score:  0.8300596718050721\n",
            "_______________________________________\n",
            "CV complete\n",
            "best_score is: 0.8300596718050721\n",
            "lowest_score is: 0.8226809251429993\n",
            "avg score is: 0.8270057150234763\n",
            "trial 49 starts:\n",
            "num of total data entries: 30161\n",
            "num of data used: 24128\n",
            "model: KNeighborsClassifier(algorithm='auto', leaf_size=30, metric='minkowski',\n",
            "                     metric_params=None, n_jobs=None, n_neighbors=26, p=2,\n",
            "                     weights='uniform')\n",
            "fold 1 starts:\n",
            "fold 1 score:  0.8277791594130813\n",
            "_______________________________________\n",
            "fold 2 starts:\n",
            "fold 2 score:  0.8265356876398906\n",
            "_______________________________________\n",
            "fold 3 starts:\n",
            "fold 3 score:  0.8321730482347091\n",
            "_______________________________________\n",
            "CV complete\n",
            "best_score is: 0.8321730482347091\n",
            "lowest_score is: 0.8265356876398906\n",
            "avg score is: 0.828829298429227\n",
            "trial 50 starts:\n",
            "num of total data entries: 30161\n",
            "num of data used: 24128\n",
            "model: KNeighborsClassifier(algorithm='auto', leaf_size=30, metric='minkowski',\n",
            "                     metric_params=None, n_jobs=None, n_neighbors=26, p=2,\n",
            "                     weights='distance')\n",
            "fold 1 starts:\n",
            "fold 1 score:  0.8279035065904004\n",
            "_______________________________________\n",
            "fold 2 starts:\n",
            "fold 2 score:  0.8230539666749564\n",
            "_______________________________________\n",
            "fold 3 starts:\n",
            "fold 3 score:  0.8308055693684734\n",
            "_______________________________________\n",
            "CV complete\n",
            "best_score is: 0.8308055693684734\n",
            "lowest_score is: 0.8230539666749564\n",
            "avg score is: 0.82725434754461\n",
            "trial 51 starts:\n",
            "num of total data entries: 30161\n",
            "num of data used: 24128\n",
            "model: KNeighborsClassifier(algorithm='auto', leaf_size=30, metric='minkowski',\n",
            "                     metric_params=None, n_jobs=None, n_neighbors=27, p=2,\n",
            "                     weights='uniform')\n",
            "fold 1 starts:\n",
            "fold 1 score:  0.8280278537677195\n",
            "_______________________________________\n",
            "fold 2 starts:\n",
            "fold 2 score:  0.825540910221338\n",
            "_______________________________________\n",
            "fold 3 starts:\n",
            "fold 3 score:  0.8331675783192442\n",
            "_______________________________________\n",
            "CV complete\n",
            "best_score is: 0.8331675783192442\n",
            "lowest_score is: 0.825540910221338\n",
            "avg score is: 0.8289121141027672\n",
            "trial 52 starts:\n",
            "num of total data entries: 30161\n",
            "num of data used: 24128\n",
            "model: KNeighborsClassifier(algorithm='auto', leaf_size=30, metric='minkowski',\n",
            "                     metric_params=None, n_jobs=None, n_neighbors=27, p=2,\n",
            "                     weights='distance')\n",
            "fold 1 starts:\n",
            "fold 1 score:  0.8280278537677195\n",
            "_______________________________________\n",
            "fold 2 starts:\n",
            "fold 2 score:  0.8242974384481472\n",
            "_______________________________________\n",
            "fold 3 starts:\n",
            "fold 3 score:  0.8316757831924416\n",
            "_______________________________________\n",
            "CV complete\n",
            "best_score is: 0.8316757831924416\n",
            "lowest_score is: 0.8242974384481472\n",
            "avg score is: 0.8280003584694361\n",
            "trial 53 starts:\n",
            "num of total data entries: 30161\n",
            "num of data used: 24128\n",
            "model: KNeighborsClassifier(algorithm='auto', leaf_size=30, metric='minkowski',\n",
            "                     metric_params=None, n_jobs=None, n_neighbors=28, p=2,\n",
            "                     weights='uniform')\n",
            "fold 1 starts:\n",
            "fold 1 score:  0.8264113404625715\n",
            "_______________________________________\n",
            "fold 2 starts:\n",
            "fold 2 score:  0.8282765481223576\n",
            "_______________________________________\n",
            "fold 3 starts:\n",
            "fold 3 score:  0.8331675783192442\n",
            "_______________________________________\n",
            "CV complete\n",
            "best_score is: 0.8331675783192442\n",
            "lowest_score is: 0.8264113404625715\n",
            "avg score is: 0.8292851556347244\n",
            "trial 54 starts:\n",
            "num of total data entries: 30161\n",
            "num of data used: 24128\n",
            "model: KNeighborsClassifier(algorithm='auto', leaf_size=30, metric='minkowski',\n",
            "                     metric_params=None, n_jobs=None, n_neighbors=28, p=2,\n",
            "                     weights='distance')\n",
            "fold 1 starts:\n",
            "fold 1 score:  0.8280278537677195\n",
            "_______________________________________\n",
            "fold 2 starts:\n",
            "fold 2 score:  0.8247948271574235\n",
            "_______________________________________\n",
            "fold 3 starts:\n",
            "fold 3 score:  0.8316757831924416\n",
            "_______________________________________\n",
            "CV complete\n",
            "best_score is: 0.8316757831924416\n",
            "lowest_score is: 0.8247948271574235\n",
            "avg score is: 0.8281661547058615\n",
            "trial 55 starts:\n",
            "num of total data entries: 30161\n",
            "num of data used: 24128\n",
            "model: KNeighborsClassifier(algorithm='auto', leaf_size=30, metric='minkowski',\n",
            "                     metric_params=None, n_jobs=None, n_neighbors=29, p=2,\n",
            "                     weights='uniform')\n",
            "fold 1 starts:\n",
            "fold 1 score:  0.8281522009450385\n",
            "_______________________________________\n",
            "fold 2 starts:\n",
            "fold 2 score:  0.8260382989306143\n",
            "_______________________________________\n",
            "fold 3 starts:\n",
            "fold 3 score:  0.8346593734460468\n",
            "_______________________________________\n",
            "CV complete\n",
            "best_score is: 0.8346593734460468\n",
            "lowest_score is: 0.8260382989306143\n",
            "avg score is: 0.8296166244405665\n",
            "trial 56 starts:\n",
            "num of total data entries: 30161\n",
            "num of data used: 24128\n",
            "model: KNeighborsClassifier(algorithm='auto', leaf_size=30, metric='minkowski',\n",
            "                     metric_params=None, n_jobs=None, n_neighbors=29, p=2,\n",
            "                     weights='distance')\n",
            "fold 1 starts:\n",
            "fold 1 score:  0.8285252424769958\n",
            "_______________________________________\n",
            "fold 2 starts:\n",
            "fold 2 score:  0.8245461328027853\n",
            "_______________________________________\n",
            "fold 3 starts:\n",
            "fold 3 score:  0.832297364495276\n",
            "_______________________________________\n",
            "CV complete\n",
            "best_score is: 0.832297364495276\n",
            "lowest_score is: 0.8245461328027853\n",
            "avg score is: 0.8284562465916858\n",
            "trial 57 starts:\n",
            "num of total data entries: 30161\n",
            "num of data used: 24128\n",
            "model: KNeighborsClassifier(algorithm='auto', leaf_size=30, metric='minkowski',\n",
            "                     metric_params=None, n_jobs=None, n_neighbors=30, p=2,\n",
            "                     weights='uniform')\n",
            "fold 1 starts:\n",
            "fold 1 score:  0.8277791594130813\n",
            "_______________________________________\n",
            "fold 2 starts:\n",
            "fold 2 score:  0.8257896045759762\n",
            "_______________________________________\n",
            "fold 3 starts:\n",
            "fold 3 score:  0.8337891596220786\n",
            "_______________________________________\n",
            "CV complete\n",
            "best_score is: 0.8337891596220786\n",
            "lowest_score is: 0.8257896045759762\n",
            "avg score is: 0.8291193078703788\n",
            "trial 58 starts:\n",
            "num of total data entries: 30161\n",
            "num of data used: 24128\n",
            "model: KNeighborsClassifier(algorithm='auto', leaf_size=30, metric='minkowski',\n",
            "                     metric_params=None, n_jobs=None, n_neighbors=30, p=2,\n",
            "                     weights='distance')\n",
            "fold 1 starts:\n",
            "fold 1 score:  0.8280278537677195\n",
            "_______________________________________\n",
            "fold 2 starts:\n",
            "fold 2 score:  0.825540910221338\n",
            "_______________________________________\n",
            "fold 3 starts:\n",
            "fold 3 score:  0.8320487319741422\n",
            "_______________________________________\n",
            "CV complete\n",
            "best_score is: 0.8320487319741422\n",
            "lowest_score is: 0.825540910221338\n",
            "avg score is: 0.8285391653210666\n",
            "trial 59 starts:\n",
            "num of total data entries: 30161\n",
            "num of data used: 24128\n",
            "model: KNeighborsClassifier(algorithm='auto', leaf_size=30, metric='minkowski',\n",
            "                     metric_params=None, n_jobs=None, n_neighbors=31, p=2,\n",
            "                     weights='uniform')\n",
            "fold 1 starts:\n",
            "fold 1 score:  0.8264113404625715\n",
            "_______________________________________\n",
            "fold 2 starts:\n",
            "fold 2 score:  0.8236757025615519\n",
            "_______________________________________\n",
            "fold 3 starts:\n",
            "fold 3 score:  0.8352809547488812\n",
            "_______________________________________\n",
            "CV complete\n",
            "best_score is: 0.8352809547488812\n",
            "lowest_score is: 0.8236757025615519\n",
            "avg score is: 0.8284559992576682\n",
            "trial 60 starts:\n",
            "num of total data entries: 30161\n",
            "num of data used: 24128\n",
            "model: KNeighborsClassifier(algorithm='auto', leaf_size=30, metric='minkowski',\n",
            "                     metric_params=None, n_jobs=None, n_neighbors=31, p=2,\n",
            "                     weights='distance')\n",
            "fold 1 starts:\n",
            "fold 1 score:  0.8270330763491669\n",
            "_______________________________________\n",
            "fold 2 starts:\n",
            "fold 2 score:  0.8250435215120617\n",
            "_______________________________________\n",
            "fold 3 starts:\n",
            "fold 3 score:  0.8309298856290402\n",
            "_______________________________________\n",
            "CV complete\n",
            "best_score is: 0.8309298856290402\n",
            "lowest_score is: 0.8250435215120617\n",
            "avg score is: 0.8276688278300895\n",
            "trial 61 starts:\n",
            "num of total data entries: 30161\n",
            "num of data used: 24128\n",
            "model: KNeighborsClassifier(algorithm='auto', leaf_size=30, metric='minkowski',\n",
            "                     metric_params=None, n_jobs=None, n_neighbors=32, p=2,\n",
            "                     weights='uniform')\n",
            "fold 1 starts:\n",
            "fold 1 score:  0.825540910221338\n",
            "_______________________________________\n",
            "fold 2 starts:\n",
            "fold 2 score:  0.8242974384481472\n",
            "_______________________________________\n",
            "fold 3 starts:\n",
            "fold 3 score:  0.8357782197911486\n",
            "_______________________________________\n",
            "CV complete\n",
            "best_score is: 0.8357782197911486\n",
            "lowest_score is: 0.8242974384481472\n",
            "avg score is: 0.8285388561535446\n",
            "trial 62 starts:\n",
            "num of total data entries: 30161\n",
            "num of data used: 24128\n",
            "model: KNeighborsClassifier(algorithm='auto', leaf_size=30, metric='minkowski',\n",
            "                     metric_params=None, n_jobs=None, n_neighbors=32, p=2,\n",
            "                     weights='distance')\n",
            "fold 1 starts:\n",
            "fold 1 score:  0.827281770703805\n",
            "_______________________________________\n",
            "fold 2 starts:\n",
            "fold 2 score:  0.8241730912708282\n",
            "_______________________________________\n",
            "fold 3 starts:\n",
            "fold 3 score:  0.8311785181501741\n",
            "_______________________________________\n",
            "CV complete\n",
            "best_score is: 0.8311785181501741\n",
            "lowest_score is: 0.8241730912708282\n",
            "avg score is: 0.8275444600416023\n",
            "trial 63 starts:\n",
            "num of total data entries: 30161\n",
            "num of data used: 24128\n",
            "model: KNeighborsClassifier(algorithm='auto', leaf_size=30, metric='minkowski',\n",
            "                     metric_params=None, n_jobs=None, n_neighbors=33, p=2,\n",
            "                     weights='uniform')\n",
            "fold 1 starts:\n",
            "fold 1 score:  0.825540910221338\n",
            "_______________________________________\n",
            "fold 2 starts:\n",
            "fold 2 score:  0.8246704799801045\n",
            "_______________________________________\n",
            "fold 3 starts:\n",
            "fold 3 score:  0.8359025360517156\n",
            "_______________________________________\n",
            "CV complete\n",
            "best_score is: 0.8359025360517156\n",
            "lowest_score is: 0.8246704799801045\n",
            "avg score is: 0.8287046420843861\n",
            "trial 64 starts:\n",
            "num of total data entries: 30161\n",
            "num of data used: 24128\n",
            "model: KNeighborsClassifier(algorithm='auto', leaf_size=30, metric='minkowski',\n",
            "                     metric_params=None, n_jobs=None, n_neighbors=33, p=2,\n",
            "                     weights='distance')\n",
            "fold 1 starts:\n",
            "fold 1 score:  0.8266600348172096\n",
            "_______________________________________\n",
            "fold 2 starts:\n",
            "fold 2 score:  0.825665257398657\n",
            "_______________________________________\n",
            "fold 3 starts:\n",
            "fold 3 score:  0.8318000994530085\n",
            "_______________________________________\n",
            "CV complete\n",
            "best_score is: 0.8318000994530085\n",
            "lowest_score is: 0.825665257398657\n",
            "avg score is: 0.8280417972229585\n",
            "trial 65 starts:\n",
            "num of total data entries: 30161\n",
            "num of data used: 24128\n",
            "model: KNeighborsClassifier(algorithm='auto', leaf_size=30, metric='minkowski',\n",
            "                     metric_params=None, n_jobs=None, n_neighbors=34, p=2,\n",
            "                     weights='uniform')\n",
            "fold 1 starts:\n",
            "fold 1 score:  0.8250435215120617\n",
            "_______________________________________\n",
            "fold 2 starts:\n",
            "fold 2 score:  0.8262869932852525\n",
            "_______________________________________\n",
            "fold 3 starts:\n",
            "fold 3 score:  0.8351566384883142\n",
            "_______________________________________\n",
            "CV complete\n",
            "best_score is: 0.8351566384883142\n",
            "lowest_score is: 0.8250435215120617\n",
            "avg score is: 0.8288290510952095\n",
            "trial 66 starts:\n",
            "num of total data entries: 30161\n",
            "num of data used: 24128\n",
            "model: KNeighborsClassifier(algorithm='auto', leaf_size=30, metric='minkowski',\n",
            "                     metric_params=None, n_jobs=None, n_neighbors=34, p=2,\n",
            "                     weights='distance')\n",
            "fold 1 starts:\n",
            "fold 1 score:  0.8269087291718478\n",
            "_______________________________________\n",
            "fold 2 starts:\n",
            "fold 2 score:  0.8244217856254663\n",
            "_______________________________________\n",
            "fold 3 starts:\n",
            "fold 3 score:  0.8330432620586773\n",
            "_______________________________________\n",
            "CV complete\n",
            "best_score is: 0.8330432620586773\n",
            "lowest_score is: 0.8244217856254663\n",
            "avg score is: 0.8281245922853304\n",
            "trial 67 starts:\n",
            "num of total data entries: 30161\n",
            "num of data used: 24128\n",
            "model: KNeighborsClassifier(algorithm='auto', leaf_size=30, metric='minkowski',\n",
            "                     metric_params=None, n_jobs=None, n_neighbors=35, p=2,\n",
            "                     weights='uniform')\n",
            "fold 1 starts:\n",
            "fold 1 score:  0.8245461328027853\n",
            "_______________________________________\n",
            "fold 2 starts:\n",
            "fold 2 score:  0.825665257398657\n",
            "_______________________________________\n",
            "fold 3 starts:\n",
            "fold 3 score:  0.8367727498756837\n",
            "_______________________________________\n",
            "CV complete\n",
            "best_score is: 0.8367727498756837\n",
            "lowest_score is: 0.8245461328027853\n",
            "avg score is: 0.828994713359042\n",
            "trial 68 starts:\n",
            "num of total data entries: 30161\n",
            "num of data used: 24128\n",
            "model: KNeighborsClassifier(algorithm='auto', leaf_size=30, metric='minkowski',\n",
            "                     metric_params=None, n_jobs=None, n_neighbors=35, p=2,\n",
            "                     weights='distance')\n",
            "fold 1 starts:\n",
            "fold 1 score:  0.8262869932852525\n",
            "_______________________________________\n",
            "fold 2 starts:\n",
            "fold 2 score:  0.8247948271574235\n",
            "_______________________________________\n",
            "fold 3 starts:\n",
            "fold 3 score:  0.8325459970164097\n",
            "_______________________________________\n",
            "CV complete\n",
            "best_score is: 0.8325459970164097\n",
            "lowest_score is: 0.8247948271574235\n",
            "avg score is: 0.8278759391530285\n",
            "trial 69 starts:\n",
            "num of total data entries: 30161\n",
            "num of data used: 24128\n",
            "model: KNeighborsClassifier(algorithm='auto', leaf_size=30, metric='minkowski',\n",
            "                     metric_params=None, n_jobs=None, n_neighbors=36, p=2,\n",
            "                     weights='uniform')\n",
            "fold 1 starts:\n",
            "fold 1 score:  0.8245461328027853\n",
            "_______________________________________\n",
            "fold 2 starts:\n",
            "fold 2 score:  0.8264113404625715\n",
            "_______________________________________\n",
            "fold 3 starts:\n",
            "fold 3 score:  0.8354052710094481\n",
            "_______________________________________\n",
            "CV complete\n",
            "best_score is: 0.8354052710094481\n",
            "lowest_score is: 0.8245461328027853\n",
            "avg score is: 0.8287875814249349\n",
            "trial 70 starts:\n",
            "num of total data entries: 30161\n",
            "num of data used: 24128\n",
            "model: KNeighborsClassifier(algorithm='auto', leaf_size=30, metric='minkowski',\n",
            "                     metric_params=None, n_jobs=None, n_neighbors=36, p=2,\n",
            "                     weights='distance')\n",
            "fold 1 starts:\n",
            "fold 1 score:  0.8257896045759762\n",
            "_______________________________________\n",
            "fold 2 starts:\n",
            "fold 2 score:  0.8257896045759762\n",
            "_______________________________________\n",
            "fold 3 starts:\n",
            "fold 3 score:  0.8334162108403779\n",
            "_______________________________________\n",
            "CV complete\n",
            "best_score is: 0.8334162108403779\n",
            "lowest_score is: 0.8257896045759762\n",
            "avg score is: 0.8283318066641101\n",
            "trial 71 starts:\n",
            "num of total data entries: 30161\n",
            "num of data used: 24128\n",
            "model: KNeighborsClassifier(algorithm='auto', leaf_size=30, metric='minkowski',\n",
            "                     metric_params=None, n_jobs=None, n_neighbors=37, p=2,\n",
            "                     weights='uniform')\n",
            "fold 1 starts:\n",
            "fold 1 score:  0.8261626461079333\n",
            "_______________________________________\n",
            "fold 2 starts:\n",
            "fold 2 score:  0.8261626461079333\n",
            "_______________________________________\n",
            "fold 3 starts:\n",
            "fold 3 score:  0.8362754848334162\n",
            "_______________________________________\n",
            "CV complete\n",
            "best_score is: 0.8362754848334162\n",
            "lowest_score is: 0.8261626461079333\n",
            "avg score is: 0.8295335923497609\n",
            "trial 72 starts:\n",
            "num of total data entries: 30161\n",
            "num of data used: 24128\n",
            "model: KNeighborsClassifier(algorithm='auto', leaf_size=30, metric='minkowski',\n",
            "                     metric_params=None, n_jobs=None, n_neighbors=37, p=2,\n",
            "                     weights='distance')\n",
            "fold 1 starts:\n",
            "fold 1 score:  0.8260382989306143\n",
            "_______________________________________\n",
            "fold 2 starts:\n",
            "fold 2 score:  0.8251678686893807\n",
            "_______________________________________\n",
            "fold 3 starts:\n",
            "fold 3 score:  0.8325459970164097\n",
            "_______________________________________\n",
            "CV complete\n",
            "best_score is: 0.8325459970164097\n",
            "lowest_score is: 0.8251678686893807\n",
            "avg score is: 0.827917388212135\n",
            "trial 73 starts:\n",
            "num of total data entries: 30161\n",
            "num of data used: 24128\n",
            "model: KNeighborsClassifier(algorithm='auto', leaf_size=30, metric='minkowski',\n",
            "                     metric_params=None, n_jobs=None, n_neighbors=38, p=2,\n",
            "                     weights='uniform')\n",
            "fold 1 starts:\n",
            "fold 1 score:  0.8238000497388709\n",
            "_______________________________________\n",
            "fold 2 starts:\n",
            "fold 2 score:  0.8261626461079333\n",
            "_______________________________________\n",
            "fold 3 starts:\n",
            "fold 3 score:  0.8368970661362506\n",
            "_______________________________________\n",
            "CV complete\n",
            "best_score is: 0.8368970661362506\n",
            "lowest_score is: 0.8238000497388709\n",
            "avg score is: 0.8289532539943516\n",
            "trial 74 starts:\n",
            "num of total data entries: 30161\n",
            "num of data used: 24128\n",
            "model: KNeighborsClassifier(algorithm='auto', leaf_size=30, metric='minkowski',\n",
            "                     metric_params=None, n_jobs=None, n_neighbors=38, p=2,\n",
            "                     weights='distance')\n",
            "fold 1 starts:\n",
            "fold 1 score:  0.8260382989306143\n",
            "_______________________________________\n",
            "fold 2 starts:\n",
            "fold 2 score:  0.8261626461079333\n",
            "_______________________________________\n",
            "fold 3 starts:\n",
            "fold 3 score:  0.8337891596220786\n",
            "_______________________________________\n",
            "CV complete\n",
            "best_score is: 0.8337891596220786\n",
            "lowest_score is: 0.8260382989306143\n",
            "avg score is: 0.8286633682202087\n",
            "trial 75 starts:\n",
            "num of total data entries: 30161\n",
            "num of data used: 24128\n",
            "model: KNeighborsClassifier(algorithm='auto', leaf_size=30, metric='minkowski',\n",
            "                     metric_params=None, n_jobs=None, n_neighbors=39, p=2,\n",
            "                     weights='uniform')\n",
            "fold 1 starts:\n",
            "fold 1 score:  0.8251678686893807\n",
            "_______________________________________\n",
            "fold 2 starts:\n",
            "fold 2 score:  0.825540910221338\n",
            "_______________________________________\n",
            "fold 3 starts:\n",
            "fold 3 score:  0.8352809547488812\n",
            "_______________________________________\n",
            "CV complete\n",
            "best_score is: 0.8352809547488812\n",
            "lowest_score is: 0.8251678686893807\n",
            "avg score is: 0.8286632445532001\n",
            "trial 76 starts:\n",
            "num of total data entries: 30161\n",
            "num of data used: 24128\n",
            "model: KNeighborsClassifier(algorithm='auto', leaf_size=30, metric='minkowski',\n",
            "                     metric_params=None, n_jobs=None, n_neighbors=39, p=2,\n",
            "                     weights='distance')\n",
            "fold 1 starts:\n",
            "fold 1 score:  0.8259139517532952\n",
            "_______________________________________\n",
            "fold 2 starts:\n",
            "fold 2 score:  0.825665257398657\n",
            "_______________________________________\n",
            "fold 3 starts:\n",
            "fold 3 score:  0.8330432620586773\n",
            "_______________________________________\n",
            "CV complete\n",
            "best_score is: 0.8330432620586773\n",
            "lowest_score is: 0.825665257398657\n",
            "avg score is: 0.8282074904035431\n",
            "trial 77 starts:\n",
            "num of total data entries: 30161\n",
            "num of data used: 24128\n",
            "model: KNeighborsClassifier(algorithm='auto', leaf_size=30, metric='minkowski',\n",
            "                     metric_params=None, n_jobs=None, n_neighbors=40, p=2,\n",
            "                     weights='uniform')\n",
            "fold 1 starts:\n",
            "fold 1 score:  0.8229296194976374\n",
            "_______________________________________\n",
            "fold 2 starts:\n",
            "fold 2 score:  0.8254165630440189\n",
            "_______________________________________\n",
            "fold 3 starts:\n",
            "fold 3 score:  0.8356539035305818\n",
            "_______________________________________\n",
            "CV complete\n",
            "best_score is: 0.8356539035305818\n",
            "lowest_score is: 0.8229296194976374\n",
            "avg score is: 0.8280000286907461\n",
            "trial 78 starts:\n",
            "num of total data entries: 30161\n",
            "num of data used: 24128\n",
            "model: KNeighborsClassifier(algorithm='auto', leaf_size=30, metric='minkowski',\n",
            "                     metric_params=None, n_jobs=None, n_neighbors=40, p=2,\n",
            "                     weights='distance')\n",
            "fold 1 starts:\n",
            "fold 1 score:  0.8262869932852525\n",
            "_______________________________________\n",
            "fold 2 starts:\n",
            "fold 2 score:  0.8265356876398906\n",
            "_______________________________________\n",
            "fold 3 starts:\n",
            "fold 3 score:  0.8331675783192442\n",
            "_______________________________________\n",
            "CV complete\n",
            "best_score is: 0.8331675783192442\n",
            "lowest_score is: 0.8262869932852525\n",
            "avg score is: 0.828663419748129\n",
            "trial 79 starts:\n",
            "num of total data entries: 30161\n",
            "num of data used: 24128\n",
            "model: KNeighborsClassifier(algorithm='auto', leaf_size=30, metric='minkowski',\n",
            "                     metric_params=None, n_jobs=None, n_neighbors=41, p=2,\n",
            "                     weights='uniform')\n",
            "fold 1 starts:\n",
            "fold 1 score:  0.824048744093509\n",
            "_______________________________________\n",
            "fold 2 starts:\n",
            "fold 2 score:  0.8247948271574235\n",
            "_______________________________________\n",
            "fold 3 starts:\n",
            "fold 3 score:  0.8361511685728493\n",
            "_______________________________________\n",
            "CV complete\n",
            "best_score is: 0.8361511685728493\n",
            "lowest_score is: 0.824048744093509\n",
            "avg score is: 0.8283315799412607\n",
            "trial 80 starts:\n",
            "num of total data entries: 30161\n",
            "num of data used: 24128\n",
            "model: KNeighborsClassifier(algorithm='auto', leaf_size=30, metric='minkowski',\n",
            "                     metric_params=None, n_jobs=None, n_neighbors=41, p=2,\n",
            "                     weights='distance')\n",
            "fold 1 starts:\n",
            "fold 1 score:  0.8252922158666999\n",
            "_______________________________________\n",
            "fold 2 starts:\n",
            "fold 2 score:  0.8264113404625715\n",
            "_______________________________________\n",
            "fold 3 starts:\n",
            "fold 3 score:  0.8330432620586773\n",
            "_______________________________________\n",
            "CV complete\n",
            "best_score is: 0.8330432620586773\n",
            "lowest_score is: 0.8252922158666999\n",
            "avg score is: 0.8282489394626497\n",
            "trial 81 starts:\n",
            "num of total data entries: 30161\n",
            "num of data used: 24128\n",
            "model: KNeighborsClassifier(algorithm='auto', leaf_size=30, metric='minkowski',\n",
            "                     metric_params=None, n_jobs=None, n_neighbors=42, p=2,\n",
            "                     weights='uniform')\n",
            "fold 1 starts:\n",
            "fold 1 score:  0.8245461328027853\n",
            "_______________________________________\n",
            "fold 2 starts:\n",
            "fold 2 score:  0.8265356876398906\n",
            "_______________________________________\n",
            "fold 3 starts:\n",
            "fold 3 score:  0.8360268523122825\n",
            "_______________________________________\n",
            "CV complete\n",
            "best_score is: 0.8360268523122825\n",
            "lowest_score is: 0.8245461328027853\n",
            "avg score is: 0.8290362242516528\n",
            "trial 82 starts:\n",
            "num of total data entries: 30161\n",
            "num of data used: 24128\n",
            "model: KNeighborsClassifier(algorithm='auto', leaf_size=30, metric='minkowski',\n",
            "                     metric_params=None, n_jobs=None, n_neighbors=42, p=2,\n",
            "                     weights='distance')\n",
            "fold 1 starts:\n",
            "fold 1 score:  0.8260382989306143\n",
            "_______________________________________\n",
            "fold 2 starts:\n",
            "fold 2 score:  0.8269087291718478\n",
            "_______________________________________\n",
            "fold 3 starts:\n",
            "fold 3 score:  0.8335405271009448\n",
            "_______________________________________\n",
            "CV complete\n",
            "best_score is: 0.8335405271009448\n",
            "lowest_score is: 0.8260382989306143\n",
            "avg score is: 0.8288291850678023\n",
            "trial 83 starts:\n",
            "num of total data entries: 30161\n",
            "num of data used: 24128\n",
            "model: KNeighborsClassifier(algorithm='auto', leaf_size=30, metric='minkowski',\n",
            "                     metric_params=None, n_jobs=None, n_neighbors=43, p=2,\n",
            "                     weights='uniform')\n",
            "fold 1 starts:\n",
            "fold 1 score:  0.8245461328027853\n",
            "_______________________________________\n",
            "fold 2 starts:\n",
            "fold 2 score:  0.8267843819945287\n",
            "_______________________________________\n",
            "fold 3 starts:\n",
            "fold 3 score:  0.8360268523122825\n",
            "_______________________________________\n",
            "CV complete\n",
            "best_score is: 0.8360268523122825\n",
            "lowest_score is: 0.8245461328027853\n",
            "avg score is: 0.8291191223698654\n",
            "trial 84 starts:\n",
            "num of total data entries: 30161\n",
            "num of data used: 24128\n",
            "model: KNeighborsClassifier(algorithm='auto', leaf_size=30, metric='minkowski',\n",
            "                     metric_params=None, n_jobs=None, n_neighbors=43, p=2,\n",
            "                     weights='distance')\n",
            "fold 1 starts:\n",
            "fold 1 score:  0.8247948271574235\n",
            "_______________________________________\n",
            "fold 2 starts:\n",
            "fold 2 score:  0.8264113404625715\n",
            "_______________________________________\n",
            "fold 3 starts:\n",
            "fold 3 score:  0.8337891596220786\n",
            "_______________________________________\n",
            "CV complete\n",
            "best_score is: 0.8337891596220786\n",
            "lowest_score is: 0.8247948271574235\n",
            "avg score is: 0.8283317757473578\n",
            "trial 85 starts:\n",
            "num of total data entries: 30161\n",
            "num of data used: 24128\n",
            "model: KNeighborsClassifier(algorithm='auto', leaf_size=30, metric='minkowski',\n",
            "                     metric_params=None, n_jobs=None, n_neighbors=44, p=2,\n",
            "                     weights='uniform')\n",
            "fold 1 starts:\n",
            "fold 1 score:  0.8250435215120617\n",
            "_______________________________________\n",
            "fold 2 starts:\n",
            "fold 2 score:  0.8276548122357622\n",
            "_______________________________________\n",
            "fold 3 starts:\n",
            "fold 3 score:  0.8359025360517156\n",
            "_______________________________________\n",
            "CV complete\n",
            "best_score is: 0.8359025360517156\n",
            "lowest_score is: 0.8250435215120617\n",
            "avg score is: 0.8295336232665133\n",
            "trial 86 starts:\n",
            "num of total data entries: 30161\n",
            "num of data used: 24128\n",
            "model: KNeighborsClassifier(algorithm='auto', leaf_size=30, metric='minkowski',\n",
            "                     metric_params=None, n_jobs=None, n_neighbors=44, p=2,\n",
            "                     weights='distance')\n",
            "fold 1 starts:\n",
            "fold 1 score:  0.8252922158666999\n",
            "_______________________________________\n",
            "fold 2 starts:\n",
            "fold 2 score:  0.8271574235264859\n",
            "_______________________________________\n",
            "fold 3 starts:\n",
            "fold 3 score:  0.8342864246643461\n",
            "_______________________________________\n",
            "CV complete\n",
            "best_score is: 0.8342864246643461\n",
            "lowest_score is: 0.8252922158666999\n",
            "avg score is: 0.8289120213525106\n",
            "trial 87 starts:\n",
            "num of total data entries: 30161\n",
            "num of data used: 24128\n",
            "model: KNeighborsClassifier(algorithm='auto', leaf_size=30, metric='minkowski',\n",
            "                     metric_params=None, n_jobs=None, n_neighbors=45, p=2,\n",
            "                     weights='uniform')\n",
            "fold 1 starts:\n",
            "fold 1 score:  0.8254165630440189\n",
            "_______________________________________\n",
            "fold 2 starts:\n",
            "fold 2 score:  0.8265356876398906\n",
            "_______________________________________\n",
            "fold 3 starts:\n",
            "fold 3 score:  0.8356539035305818\n",
            "_______________________________________\n",
            "CV complete\n",
            "best_score is: 0.8356539035305818\n",
            "lowest_score is: 0.8254165630440189\n",
            "avg score is: 0.8292020514048305\n",
            "trial 88 starts:\n",
            "num of total data entries: 30161\n",
            "num of data used: 24128\n",
            "model: KNeighborsClassifier(algorithm='auto', leaf_size=30, metric='minkowski',\n",
            "                     metric_params=None, n_jobs=None, n_neighbors=45, p=2,\n",
            "                     weights='distance')\n",
            "fold 1 starts:\n",
            "fold 1 score:  0.8250435215120617\n",
            "_______________________________________\n",
            "fold 2 starts:\n",
            "fold 2 score:  0.8264113404625715\n",
            "_______________________________________\n",
            "fold 3 starts:\n",
            "fold 3 score:  0.8342864246643461\n",
            "_______________________________________\n",
            "CV complete\n",
            "best_score is: 0.8342864246643461\n",
            "lowest_score is: 0.8250435215120617\n",
            "avg score is: 0.8285804288796598\n",
            "trial 89 starts:\n",
            "num of total data entries: 30161\n",
            "num of data used: 24128\n",
            "model: KNeighborsClassifier(algorithm='auto', leaf_size=30, metric='minkowski',\n",
            "                     metric_params=None, n_jobs=None, n_neighbors=46, p=2,\n",
            "                     weights='uniform')\n",
            "fold 1 starts:\n",
            "fold 1 score:  0.8244217856254663\n",
            "_______________________________________\n",
            "fold 2 starts:\n",
            "fold 2 score:  0.8270330763491669\n",
            "_______________________________________\n",
            "fold 3 starts:\n",
            "fold 3 score:  0.8362754848334162\n",
            "_______________________________________\n",
            "CV complete\n",
            "best_score is: 0.8362754848334162\n",
            "lowest_score is: 0.8244217856254663\n",
            "avg score is: 0.8292434489360164\n",
            "trial 90 starts:\n",
            "num of total data entries: 30161\n",
            "num of data used: 24128\n",
            "model: KNeighborsClassifier(algorithm='auto', leaf_size=30, metric='minkowski',\n",
            "                     metric_params=None, n_jobs=None, n_neighbors=46, p=2,\n",
            "                     weights='distance')\n",
            "fold 1 starts:\n",
            "fold 1 score:  0.8251678686893807\n",
            "_______________________________________\n",
            "fold 2 starts:\n",
            "fold 2 score:  0.8274061178811241\n",
            "_______________________________________\n",
            "fold 3 starts:\n",
            "fold 3 score:  0.834410740924913\n",
            "_______________________________________\n",
            "CV complete\n",
            "best_score is: 0.834410740924913\n",
            "lowest_score is: 0.8251678686893807\n",
            "avg score is: 0.8289949091651393\n",
            "trial 91 starts:\n",
            "num of total data entries: 30161\n",
            "num of data used: 24128\n",
            "model: KNeighborsClassifier(algorithm='auto', leaf_size=30, metric='minkowski',\n",
            "                     metric_params=None, n_jobs=None, n_neighbors=47, p=2,\n",
            "                     weights='uniform')\n",
            "fold 1 starts:\n",
            "fold 1 score:  0.825665257398657\n",
            "_______________________________________\n",
            "fold 2 starts:\n",
            "fold 2 score:  0.8269087291718478\n",
            "_______________________________________\n",
            "fold 3 starts:\n",
            "fold 3 score:  0.8357782197911486\n",
            "_______________________________________\n",
            "CV complete\n",
            "best_score is: 0.8357782197911486\n",
            "lowest_score is: 0.825665257398657\n",
            "avg score is: 0.8294507354538845\n",
            "trial 92 starts:\n",
            "num of total data entries: 30161\n",
            "num of data used: 24128\n",
            "model: KNeighborsClassifier(algorithm='auto', leaf_size=30, metric='minkowski',\n",
            "                     metric_params=None, n_jobs=None, n_neighbors=47, p=2,\n",
            "                     weights='distance')\n",
            "fold 1 starts:\n",
            "fold 1 score:  0.8261626461079333\n",
            "_______________________________________\n",
            "fold 2 starts:\n",
            "fold 2 score:  0.8262869932852525\n",
            "_______________________________________\n",
            "fold 3 starts:\n",
            "fold 3 score:  0.8336648433615117\n",
            "_______________________________________\n",
            "CV complete\n",
            "best_score is: 0.8336648433615117\n",
            "lowest_score is: 0.8261626461079333\n",
            "avg score is: 0.828704827584899\n",
            "trial 93 starts:\n",
            "num of total data entries: 30161\n",
            "num of data used: 24128\n",
            "model: KNeighborsClassifier(algorithm='auto', leaf_size=30, metric='minkowski',\n",
            "                     metric_params=None, n_jobs=None, n_neighbors=48, p=2,\n",
            "                     weights='uniform')\n",
            "fold 1 starts:\n",
            "fold 1 score:  0.8246704799801045\n",
            "_______________________________________\n",
            "fold 2 starts:\n",
            "fold 2 score:  0.827281770703805\n",
            "_______________________________________\n",
            "fold 3 starts:\n",
            "fold 3 score:  0.8361511685728493\n",
            "_______________________________________\n",
            "CV complete\n",
            "best_score is: 0.8361511685728493\n",
            "lowest_score is: 0.8246704799801045\n",
            "avg score is: 0.8293678064189196\n",
            "trial 94 starts:\n",
            "num of total data entries: 30161\n",
            "num of data used: 24128\n",
            "model: KNeighborsClassifier(algorithm='auto', leaf_size=30, metric='minkowski',\n",
            "                     metric_params=None, n_jobs=None, n_neighbors=48, p=2,\n",
            "                     weights='distance')\n",
            "fold 1 starts:\n",
            "fold 1 score:  0.825540910221338\n",
            "_______________________________________\n",
            "fold 2 starts:\n",
            "fold 2 score:  0.8270330763491669\n",
            "_______________________________________\n",
            "fold 3 starts:\n",
            "fold 3 score:  0.8345350571854798\n",
            "_______________________________________\n",
            "CV complete\n",
            "best_score is: 0.8345350571854798\n",
            "lowest_score is: 0.825540910221338\n",
            "avg score is: 0.8290363479186617\n",
            "trial 95 starts:\n",
            "num of total data entries: 30161\n",
            "num of data used: 24128\n",
            "model: KNeighborsClassifier(algorithm='auto', leaf_size=30, metric='minkowski',\n",
            "                     metric_params=None, n_jobs=None, n_neighbors=49, p=2,\n",
            "                     weights='uniform')\n",
            "fold 1 starts:\n",
            "fold 1 score:  0.8247948271574235\n",
            "_______________________________________\n",
            "fold 2 starts:\n",
            "fold 2 score:  0.8251678686893807\n",
            "_______________________________________\n",
            "fold 3 starts:\n",
            "fold 3 score:  0.8359025360517156\n",
            "_______________________________________\n",
            "CV complete\n",
            "best_score is: 0.8359025360517156\n",
            "lowest_score is: 0.8247948271574235\n",
            "avg score is: 0.8286217439661732\n",
            "trial 96 starts:\n",
            "num of total data entries: 30161\n",
            "num of data used: 24128\n",
            "model: KNeighborsClassifier(algorithm='auto', leaf_size=30, metric='minkowski',\n",
            "                     metric_params=None, n_jobs=None, n_neighbors=49, p=2,\n",
            "                     weights='distance')\n",
            "fold 1 starts:\n",
            "fold 1 score:  0.8261626461079333\n",
            "_______________________________________\n",
            "fold 2 starts:\n",
            "fold 2 score:  0.825665257398657\n",
            "_______________________________________\n",
            "fold 3 starts:\n",
            "fold 3 score:  0.8335405271009448\n",
            "_______________________________________\n",
            "CV complete\n",
            "best_score is: 0.8335405271009448\n",
            "lowest_score is: 0.825665257398657\n",
            "avg score is: 0.8284561435358451\n",
            "best_score is : 0.8296166244405665\n",
            "best_selected_neighbour is 29\n",
            "best weight method is uniform\n"
          ]
        }
      ]
    },
    {
      "cell_type": "code",
      "metadata": {
        "colab": {
          "base_uri": "https://localhost:8080/"
        },
        "id": "AeYamkK3Dm4p",
        "outputId": "d5a1d709-5136-4429-9ca5-a86a3eebc33c"
      },
      "source": [
        "KNN_res_arr = np.array(KNN_res_arr)\n",
        "KNN_res_arr"
      ],
      "execution_count": null,
      "outputs": [
        {
          "output_type": "execute_result",
          "data": {
            "text/plain": [
              "array([['2', 'uniform', '0.8000251600529346'],\n",
              "       ['2', 'distance', '0.7848144168360595'],\n",
              "       ['3', 'uniform', '0.8098059528598677'],\n",
              "       ['3', 'distance', '0.8017241077250121'],\n",
              "       ['4', 'uniform', '0.8150281839174106'],\n",
              "       ['4', 'distance', '0.8050810899004328'],\n",
              "       ['5', 'uniform', '0.817721909008041'],\n",
              "       ['5', 'distance', '0.8094327979664856'],\n",
              "       ['6', 'uniform', '0.8200843610989265'],\n",
              "       ['6', 'distance', '0.8122095654535056'],\n",
              "       ['7', 'uniform', '0.8220321783205716'],\n",
              "       ['7', 'distance', '0.8140332725262652'],\n",
              "       ['8', 'uniform', '0.825347927854151'],\n",
              "       ['8', 'distance', '0.8156080379103688'],\n",
              "       ['9', 'uniform', '0.8241459051400666'],\n",
              "       ['9', 'distance', '0.8169758156385424'],\n",
              "       ['10', 'uniform', '0.8254723162538063'],\n",
              "       ['10', 'distance', '0.8185922052766816'],\n",
              "       ['11', 'uniform', '0.82468484596429'],\n",
              "       ['11', 'distance', '0.8193382883405961'],\n",
              "       ['12', 'uniform', '0.8260524794142867'],\n",
              "       ['12', 'distance', '0.818757980901939'],\n",
              "       ['13', 'uniform', '0.8250576504678137'],\n",
              "       ['13', 'distance', '0.8206230030612119'],\n",
              "       ['14', 'uniform', '0.8251406825586193'],\n",
              "       ['14', 'distance', '0.8217005549309685'],\n",
              "       ['15', 'uniform', '0.82654968262305'],\n",
              "       ['15', 'distance', '0.8222392793379264'],\n",
              "       ['16', 'uniform', '0.826922878738768'],\n",
              "       ['16', 'distance', '0.823399801464984'],\n",
              "       ['17', 'uniform', '0.8286219603834386'],\n",
              "       ['17', 'distance', '0.824270128650377'],\n",
              "       ['18', 'uniform', '0.8278346240665151'],\n",
              "       ['18', 'distance', '0.8239800161533847'],\n",
              "       ['19', 'uniform', '0.8281247262579233'],\n",
              "       ['19', 'distance', '0.8244359661091387'],\n",
              "       ['20', 'uniform', '0.8270887161975297'],\n",
              "       ['20', 'distance', '0.8240629348827655'],\n",
              "       ['21', 'uniform', '0.8277517568650546'],\n",
              "       ['21', 'distance', '0.8250576710789819'],\n",
              "       ['22', 'uniform', '0.8277517980873906'],\n",
              "       ['22', 'distance', '0.82501628385338'],\n",
              "       ['23', 'uniform', '0.8267985830893693'],\n",
              "       ['23', 'distance', '0.8255551834552669'],\n",
              "       ['24', 'uniform', '0.8270887161975297'],\n",
              "       ['24', 'distance', '0.8265911832100765'],\n",
              "       ['25', 'uniform', '0.827295889353973'],\n",
              "       ['25', 'distance', '0.8270057150234763'],\n",
              "       ['26', 'uniform', '0.828829298429227'],\n",
              "       ['26', 'distance', '0.82725434754461'],\n",
              "       ['27', 'uniform', '0.8289121141027672'],\n",
              "       ['27', 'distance', '0.8280003584694361'],\n",
              "       ['28', 'uniform', '0.8292851556347244'],\n",
              "       ['28', 'distance', '0.8281661547058615'],\n",
              "       ['29', 'uniform', '0.8296166244405665'],\n",
              "       ['29', 'distance', '0.8284562465916858'],\n",
              "       ['30', 'uniform', '0.8291193078703788'],\n",
              "       ['30', 'distance', '0.8285391653210666'],\n",
              "       ['31', 'uniform', '0.8284559992576682'],\n",
              "       ['31', 'distance', '0.8276688278300895'],\n",
              "       ['32', 'uniform', '0.8285388561535446'],\n",
              "       ['32', 'distance', '0.8275444600416023'],\n",
              "       ['33', 'uniform', '0.8287046420843861'],\n",
              "       ['33', 'distance', '0.8280417972229585'],\n",
              "       ['34', 'uniform', '0.8288290510952095'],\n",
              "       ['34', 'distance', '0.8281245922853304'],\n",
              "       ['35', 'uniform', '0.828994713359042'],\n",
              "       ['35', 'distance', '0.8278759391530285'],\n",
              "       ['36', 'uniform', '0.8287875814249349'],\n",
              "       ['36', 'distance', '0.8283318066641101'],\n",
              "       ['37', 'uniform', '0.8295335923497609'],\n",
              "       ['37', 'distance', '0.827917388212135'],\n",
              "       ['38', 'uniform', '0.8289532539943516'],\n",
              "       ['38', 'distance', '0.8286633682202087'],\n",
              "       ['39', 'uniform', '0.8286632445532001'],\n",
              "       ['39', 'distance', '0.8282074904035431'],\n",
              "       ['40', 'uniform', '0.8280000286907461'],\n",
              "       ['40', 'distance', '0.828663419748129'],\n",
              "       ['41', 'uniform', '0.8283315799412607'],\n",
              "       ['41', 'distance', '0.8282489394626497'],\n",
              "       ['42', 'uniform', '0.8290362242516528'],\n",
              "       ['42', 'distance', '0.8288291850678023'],\n",
              "       ['43', 'uniform', '0.8291191223698654'],\n",
              "       ['43', 'distance', '0.8283317757473578'],\n",
              "       ['44', 'uniform', '0.8295336232665133'],\n",
              "       ['44', 'distance', '0.8289120213525106'],\n",
              "       ['45', 'uniform', '0.8292020514048305'],\n",
              "       ['45', 'distance', '0.8285804288796598'],\n",
              "       ['46', 'uniform', '0.8292434489360164'],\n",
              "       ['46', 'distance', '0.8289949091651393'],\n",
              "       ['47', 'uniform', '0.8294507354538845'],\n",
              "       ['47', 'distance', '0.828704827584899'],\n",
              "       ['48', 'uniform', '0.8293678064189196'],\n",
              "       ['48', 'distance', '0.8290363479186617'],\n",
              "       ['49', 'uniform', '0.8286217439661732'],\n",
              "       ['49', 'distance', '0.8284561435358451']], dtype='<U21')"
            ]
          },
          "metadata": {},
          "execution_count": 51
        }
      ]
    },
    {
      "cell_type": "markdown",
      "metadata": {
        "id": "yKqftmQED9mI"
      },
      "source": [
        ""
      ]
    },
    {
      "cell_type": "code",
      "metadata": {
        "id": "iidIIhdbD17x"
      },
      "source": [
        "KNN_res_arr_df = pd.DataFrame(KNN_res_arr, columns=['num_neighbours', 'weighted_method', 'accuracy'])\n",
        "KNN_res_arr_df.to_csv(\"KNN_res_df.csv\")"
      ],
      "execution_count": null,
      "outputs": []
    },
    {
      "cell_type": "code",
      "metadata": {
        "id": "yBXVTd0DH7Ga"
      },
      "source": [
        "print(neigh.score(data_X, data_y))\n",
        "print(neigh.score(test_X, test_y))\n",
        "res = []\n",
        "best_score = 0\n",
        "best_neigh = 0\n",
        "weight = ['uniform', 'distance']\n",
        "for i in range(2, 51, 1):\n",
        "  neigh = KNeighborsClassifier(n_neighbors=i)\n",
        "  score = k_foldCV(data_X, data_y, neigh, k=5, percent_use = 0.8)\n",
        "  res.append(score)\n",
        "  if score >= best_score:\n",
        "    best_score = score\n",
        "    best_neigh = i\n",
        "print(\"best_score is : {}\".format(best_score))\n",
        "print(\"beset_selected_neighbour is {}\".format(best_neigh))\n",
        "\n"
      ],
      "execution_count": null,
      "outputs": []
    },
    {
      "cell_type": "code",
      "metadata": {
        "id": "Ldo3iMv4RYd-"
      },
      "source": [
        ""
      ],
      "execution_count": null,
      "outputs": []
    },
    {
      "cell_type": "markdown",
      "metadata": {
        "id": "gXVeUlI0T2bg"
      },
      "source": [
        "##Sample growing subsets of the training/validation data"
      ]
    },
    {
      "cell_type": "markdown",
      "metadata": {
        "id": "IoiWK1RJU5TD"
      },
      "source": [
        "###KNN"
      ]
    },
    {
      "cell_type": "code",
      "metadata": {
        "colab": {
          "base_uri": "https://localhost:8080/"
        },
        "id": "yB6-9C__U7dj",
        "outputId": "9fedb507-2f8b-436d-b88f-9b142ee1d063"
      },
      "source": [
        "#neighbor = 17, uniform\n",
        "bc_KNN = KNeighborsClassifier(n_neighbors=17)\n",
        "bc_KNN = bc_KNN.fit(data_X, data_y)\n",
        "percent = np.linspace(0.1, 1, 10)\n",
        "\n",
        "bc_KNN_score_list = percent_data_vs_score(data_X, data_y, bc_KNN, percent)"
      ],
      "execution_count": null,
      "outputs": [
        {
          "output_type": "stream",
          "name": "stdout",
          "text": [
            "num of total data entries: 30161\n",
            "num of data used: 3016\n",
            "model: KNeighborsClassifier(algorithm='auto', leaf_size=30, metric='minkowski',\n",
            "                     metric_params=None, n_jobs=None, n_neighbors=17, p=2,\n",
            "                     weights='uniform')\n",
            "fold 1 starts:\n",
            "fold 1 score:  0.8374792703150912\n",
            "_______________________________________\n",
            "fold 2 starts:\n",
            "fold 2 score:  0.8208955223880597\n",
            "_______________________________________\n",
            "fold 3 starts:\n",
            "fold 3 score:  0.8159203980099502\n",
            "_______________________________________\n",
            "fold 4 starts:\n",
            "fold 4 score:  0.8374792703150912\n",
            "_______________________________________\n",
            "fold 5 starts:\n",
            "fold 5 score:  0.7963576158940397\n",
            "_______________________________________\n",
            "CV complete\n",
            "best_score is: 0.8374792703150912\n",
            "lowest_score is: 0.7963576158940397\n",
            "avg score is: 0.8216264153844464\n",
            "num of total data entries: 30161\n",
            "num of data used: 6032\n",
            "model: KNeighborsClassifier(algorithm='auto', leaf_size=30, metric='minkowski',\n",
            "                     metric_params=None, n_jobs=None, n_neighbors=17, p=2,\n",
            "                     weights='uniform')\n",
            "fold 1 starts:\n",
            "fold 1 score:  0.8258706467661692\n",
            "_______________________________________\n",
            "fold 2 starts:\n",
            "fold 2 score:  0.8200663349917081\n",
            "_______________________________________\n",
            "fold 3 starts:\n",
            "fold 3 score:  0.8059701492537313\n",
            "_______________________________________\n",
            "fold 4 starts:\n",
            "fold 4 score:  0.8150912106135987\n",
            "_______________________________________\n",
            "fold 5 starts:\n",
            "fold 5 score:  0.8327814569536424\n",
            "_______________________________________\n",
            "CV complete\n",
            "best_score is: 0.8327814569536424\n",
            "lowest_score is: 0.8059701492537313\n",
            "avg score is: 0.81995595971577\n",
            "num of total data entries: 30161\n",
            "num of data used: 9048\n",
            "model: KNeighborsClassifier(algorithm='auto', leaf_size=30, metric='minkowski',\n",
            "                     metric_params=None, n_jobs=None, n_neighbors=17, p=2,\n",
            "                     weights='uniform')\n",
            "fold 1 starts:\n",
            "fold 1 score:  0.8236594803758983\n",
            "_______________________________________\n",
            "fold 2 starts:\n",
            "fold 2 score:  0.8137092316196793\n",
            "_______________________________________\n",
            "fold 3 starts:\n",
            "fold 3 score:  0.8231066887783306\n",
            "_______________________________________\n",
            "fold 4 starts:\n",
            "fold 4 score:  0.8236594803758983\n",
            "_______________________________________\n",
            "fold 5 starts:\n",
            "fold 5 score:  0.8327814569536424\n",
            "_______________________________________\n",
            "CV complete\n",
            "best_score is: 0.8327814569536424\n",
            "lowest_score is: 0.8137092316196793\n",
            "avg score is: 0.8233832676206898\n",
            "num of total data entries: 30161\n",
            "num of data used: 12064\n",
            "model: KNeighborsClassifier(algorithm='auto', leaf_size=30, metric='minkowski',\n",
            "                     metric_params=None, n_jobs=None, n_neighbors=17, p=2,\n",
            "                     weights='uniform')\n",
            "fold 1 starts:\n",
            "fold 1 score:  0.8196517412935324\n",
            "_______________________________________\n",
            "fold 2 starts:\n",
            "fold 2 score:  0.8167495854063018\n",
            "_______________________________________\n",
            "fold 3 starts:\n",
            "fold 3 score:  0.8271144278606966\n",
            "_______________________________________\n",
            "fold 4 starts:\n",
            "fold 4 score:  0.8287728026533997\n",
            "_______________________________________\n",
            "fold 5 starts:\n",
            "fold 5 score:  0.8269867549668874\n",
            "_______________________________________\n",
            "CV complete\n",
            "best_score is: 0.8287728026533997\n",
            "lowest_score is: 0.8167495854063018\n",
            "avg score is: 0.8238550624361636\n",
            "num of total data entries: 30161\n",
            "num of data used: 15080\n",
            "model: KNeighborsClassifier(algorithm='auto', leaf_size=30, metric='minkowski',\n",
            "                     metric_params=None, n_jobs=None, n_neighbors=17, p=2,\n",
            "                     weights='uniform')\n",
            "fold 1 starts:\n",
            "fold 1 score:  0.8206233421750663\n",
            "_______________________________________\n",
            "fold 2 starts:\n",
            "fold 2 score:  0.8199602122015915\n",
            "_______________________________________\n",
            "fold 3 starts:\n",
            "fold 3 score:  0.8328912466843501\n",
            "_______________________________________\n",
            "fold 4 starts:\n",
            "fold 4 score:  0.8242705570291777\n",
            "_______________________________________\n",
            "fold 5 starts:\n",
            "fold 5 score:  0.8259283819628647\n",
            "_______________________________________\n",
            "CV complete\n",
            "best_score is: 0.8328912466843501\n",
            "lowest_score is: 0.8199602122015915\n",
            "avg score is: 0.82473474801061\n",
            "num of total data entries: 30161\n",
            "num of data used: 18096\n",
            "model: KNeighborsClassifier(algorithm='auto', leaf_size=30, metric='minkowski',\n",
            "                     metric_params=None, n_jobs=None, n_neighbors=17, p=2,\n",
            "                     weights='uniform')\n",
            "fold 1 starts:\n",
            "fold 1 score:  0.8159712627797734\n",
            "_______________________________________\n",
            "fold 2 starts:\n",
            "fold 2 score:  0.820392373583863\n",
            "_______________________________________\n",
            "fold 3 starts:\n",
            "fold 3 score:  0.8234318872616745\n",
            "_______________________________________\n",
            "fold 4 starts:\n",
            "fold 4 score:  0.8311688311688312\n",
            "_______________________________________\n",
            "fold 5 starts:\n",
            "fold 5 score:  0.8290055248618785\n",
            "_______________________________________\n",
            "CV complete\n",
            "best_score is: 0.8311688311688312\n",
            "lowest_score is: 0.8159712627797734\n",
            "avg score is: 0.8239939759312043\n",
            "num of total data entries: 30161\n",
            "num of data used: 21112\n",
            "model: KNeighborsClassifier(algorithm='auto', leaf_size=30, metric='minkowski',\n",
            "                     metric_params=None, n_jobs=None, n_neighbors=17, p=2,\n",
            "                     weights='uniform')\n",
            "fold 1 starts:\n",
            "fold 1 score:  0.8195168166745618\n",
            "_______________________________________\n",
            "fold 2 starts:\n",
            "fold 2 score:  0.8233064898152535\n",
            "_______________________________________\n",
            "fold 3 starts:\n",
            "fold 3 score:  0.8183325438180957\n",
            "_______________________________________\n",
            "fold 4 starts:\n",
            "fold 4 score:  0.8346755092373283\n",
            "_______________________________________\n",
            "fold 5 starts:\n",
            "fold 5 score:  0.8276515151515151\n",
            "_______________________________________\n",
            "CV complete\n",
            "best_score is: 0.8346755092373283\n",
            "lowest_score is: 0.8183325438180957\n",
            "avg score is: 0.8246965749393509\n",
            "num of total data entries: 30161\n",
            "num of data used: 24128\n",
            "model: KNeighborsClassifier(algorithm='auto', leaf_size=30, metric='minkowski',\n",
            "                     metric_params=None, n_jobs=None, n_neighbors=17, p=2,\n",
            "                     weights='uniform')\n",
            "fold 1 starts:\n",
            "fold 1 score:  0.8196891191709844\n",
            "_______________________________________\n",
            "fold 2 starts:\n",
            "fold 2 score:  0.8356476683937824\n",
            "_______________________________________\n",
            "fold 3 starts:\n",
            "fold 3 score:  0.8252849740932643\n",
            "_______________________________________\n",
            "fold 4 starts:\n",
            "fold 4 score:  0.8281865284974094\n",
            "_______________________________________\n",
            "fold 5 starts:\n",
            "fold 5 score:  0.8355426677713339\n",
            "_______________________________________\n",
            "CV complete\n",
            "best_score is: 0.8356476683937824\n",
            "lowest_score is: 0.8196891191709844\n",
            "avg score is: 0.8288701915853549\n",
            "num of total data entries: 30161\n",
            "num of data used: 27144\n",
            "model: KNeighborsClassifier(algorithm='auto', leaf_size=30, metric='minkowski',\n",
            "                     metric_params=None, n_jobs=None, n_neighbors=17, p=2,\n",
            "                     weights='uniform')\n",
            "fold 1 starts:\n",
            "fold 1 score:  0.8224023581429624\n",
            "_______________________________________\n",
            "fold 2 starts:\n",
            "fold 2 score:  0.8236919675755343\n",
            "_______________________________________\n",
            "fold 3 starts:\n",
            "fold 3 score:  0.8343773028739867\n",
            "_______________________________________\n",
            "fold 4 starts:\n",
            "fold 4 score:  0.8316138540899042\n",
            "_______________________________________\n",
            "fold 5 starts:\n",
            "fold 5 score:  0.8383652430044183\n",
            "_______________________________________\n",
            "CV complete\n",
            "best_score is: 0.8383652430044183\n",
            "lowest_score is: 0.8224023581429624\n",
            "avg score is: 0.8300901451373612\n",
            "num of total data entries: 30161\n",
            "num of data used: 30161\n",
            "model: KNeighborsClassifier(algorithm='auto', leaf_size=30, metric='minkowski',\n",
            "                     metric_params=None, n_jobs=None, n_neighbors=17, p=2,\n",
            "                     weights='uniform')\n",
            "fold 1 starts:\n",
            "fold 1 score:  0.8252652519893899\n",
            "_______________________________________\n",
            "fold 2 starts:\n",
            "fold 2 score:  0.8242705570291777\n",
            "_______________________________________\n",
            "fold 3 starts:\n",
            "fold 3 score:  0.8280835543766578\n",
            "_______________________________________\n",
            "fold 4 starts:\n",
            "fold 4 score:  0.835709549071618\n",
            "_______________________________________\n",
            "fold 5 starts:\n",
            "fold 5 score:  0.8317586606994861\n",
            "_______________________________________\n",
            "CV complete\n",
            "best_score is: 0.835709549071618\n",
            "lowest_score is: 0.8242705570291777\n",
            "avg score is: 0.8290175146332659\n"
          ]
        }
      ]
    },
    {
      "cell_type": "markdown",
      "metadata": {
        "id": "c1P-2rH8UUM7"
      },
      "source": [
        "###Decision tree"
      ]
    },
    {
      "cell_type": "code",
      "metadata": {
        "colab": {
          "base_uri": "https://localhost:8080/"
        },
        "id": "RkeHd_fpUWfO",
        "outputId": "16347172-2251-4440-e4bf-c8423c1f5dcf"
      },
      "source": [
        "#The highest f1-score is 0.9465,  given by the model with depth equal to 91,  min sample splitequal tp 32, min samples leaf equal to 11, and entropy as criterion\n",
        "bc_tree = tree.DecisionTreeClassifier(criterion = 'entropy', max_depth = 91, min_samples_split = 32, min_samples_leaf = 11)\n",
        "bc_tree = bc_tree.fit(data_X, data_y)\n",
        "percent = np.linspace(0.1, 1, 10)\n",
        "\n",
        "bc_DT_score_list = percent_data_vs_score(data_X, data_y, bc_tree, percent)"
      ],
      "execution_count": null,
      "outputs": [
        {
          "output_type": "stream",
          "name": "stdout",
          "text": [
            "num of total data entries: 30161\n",
            "num of data used: 3016\n",
            "model: DecisionTreeClassifier(ccp_alpha=0.0, class_weight=None, criterion='entropy',\n",
            "                       max_depth=91, max_features=None, max_leaf_nodes=None,\n",
            "                       min_impurity_decrease=0.0, min_impurity_split=None,\n",
            "                       min_samples_leaf=11, min_samples_split=32,\n",
            "                       min_weight_fraction_leaf=0.0, presort='deprecated',\n",
            "                       random_state=None, splitter='best')\n",
            "fold 1 starts:\n",
            "fold 1 score:  0.8291873963515755\n",
            "_______________________________________\n",
            "fold 2 starts:\n",
            "fold 2 score:  0.8192371475953566\n",
            "_______________________________________\n",
            "fold 3 starts:\n",
            "fold 3 score:  0.8275290215588723\n",
            "_______________________________________\n",
            "fold 4 starts:\n",
            "fold 4 score:  0.8076285240464345\n",
            "_______________________________________\n",
            "fold 5 starts:\n",
            "fold 5 score:  0.8327814569536424\n",
            "_______________________________________\n",
            "CV complete\n",
            "best_score is: 0.8327814569536424\n",
            "lowest_score is: 0.8076285240464345\n",
            "avg score is: 0.8232727093011762\n",
            "num of total data entries: 30161\n",
            "num of data used: 6032\n",
            "model: DecisionTreeClassifier(ccp_alpha=0.0, class_weight=None, criterion='entropy',\n",
            "                       max_depth=91, max_features=None, max_leaf_nodes=None,\n",
            "                       min_impurity_decrease=0.0, min_impurity_split=None,\n",
            "                       min_samples_leaf=11, min_samples_split=32,\n",
            "                       min_weight_fraction_leaf=0.0, presort='deprecated',\n",
            "                       random_state=None, splitter='best')\n",
            "fold 1 starts:\n",
            "fold 1 score:  0.8192371475953566\n",
            "_______________________________________\n",
            "fold 2 starts:\n",
            "fold 2 score:  0.8092868988391376\n",
            "_______________________________________\n",
            "fold 3 starts:\n",
            "fold 3 score:  0.8316749585406302\n",
            "_______________________________________\n",
            "fold 4 starts:\n",
            "fold 4 score:  0.8449419568822554\n",
            "_______________________________________\n",
            "fold 5 starts:\n",
            "fold 5 score:  0.831953642384106\n",
            "_______________________________________\n",
            "CV complete\n",
            "best_score is: 0.8449419568822554\n",
            "lowest_score is: 0.8092868988391376\n",
            "avg score is: 0.8274189208482973\n",
            "num of total data entries: 30161\n",
            "num of data used: 9048\n",
            "model: DecisionTreeClassifier(ccp_alpha=0.0, class_weight=None, criterion='entropy',\n",
            "                       max_depth=91, max_features=None, max_leaf_nodes=None,\n",
            "                       min_impurity_decrease=0.0, min_impurity_split=None,\n",
            "                       min_samples_leaf=11, min_samples_split=32,\n",
            "                       min_weight_fraction_leaf=0.0, presort='deprecated',\n",
            "                       random_state=None, splitter='best')\n",
            "fold 1 starts:\n",
            "fold 1 score:  0.8441127694859039\n",
            "_______________________________________\n",
            "fold 2 starts:\n",
            "fold 2 score:  0.824212271973466\n",
            "_______________________________________\n",
            "fold 3 starts:\n",
            "fold 3 score:  0.8402432283029297\n",
            "_______________________________________\n",
            "fold 4 starts:\n",
            "fold 4 score:  0.8352681039248203\n",
            "_______________________________________\n",
            "fold 5 starts:\n",
            "fold 5 score:  0.8487858719646799\n",
            "_______________________________________\n",
            "CV complete\n",
            "best_score is: 0.8487858719646799\n",
            "lowest_score is: 0.824212271973466\n",
            "avg score is: 0.8385244491303601\n",
            "num of total data entries: 30161\n",
            "num of data used: 12064\n",
            "model: DecisionTreeClassifier(ccp_alpha=0.0, class_weight=None, criterion='entropy',\n",
            "                       max_depth=91, max_features=None, max_leaf_nodes=None,\n",
            "                       min_impurity_decrease=0.0, min_impurity_split=None,\n",
            "                       min_samples_leaf=11, min_samples_split=32,\n",
            "                       min_weight_fraction_leaf=0.0, presort='deprecated',\n",
            "                       random_state=None, splitter='best')\n",
            "fold 1 starts:\n",
            "fold 1 score:  0.8325041459369817\n",
            "_______________________________________\n",
            "fold 2 starts:\n",
            "fold 2 score:  0.8349917081260365\n",
            "_______________________________________\n",
            "fold 3 starts:\n",
            "fold 3 score:  0.8362354892205639\n",
            "_______________________________________\n",
            "fold 4 starts:\n",
            "fold 4 score:  0.8329187396351575\n",
            "_______________________________________\n",
            "fold 5 starts:\n",
            "fold 5 score:  0.8307119205298014\n",
            "_______________________________________\n",
            "CV complete\n",
            "best_score is: 0.8362354892205639\n",
            "lowest_score is: 0.8307119205298014\n",
            "avg score is: 0.8334724006897082\n",
            "num of total data entries: 30161\n",
            "num of data used: 15080\n",
            "model: DecisionTreeClassifier(ccp_alpha=0.0, class_weight=None, criterion='entropy',\n",
            "                       max_depth=91, max_features=None, max_leaf_nodes=None,\n",
            "                       min_impurity_decrease=0.0, min_impurity_split=None,\n",
            "                       min_samples_leaf=11, min_samples_split=32,\n",
            "                       min_weight_fraction_leaf=0.0, presort='deprecated',\n",
            "                       random_state=None, splitter='best')\n",
            "fold 1 starts:\n",
            "fold 1 score:  0.8332228116710876\n",
            "_______________________________________\n",
            "fold 2 starts:\n",
            "fold 2 score:  0.8381962864721485\n",
            "_______________________________________\n",
            "fold 3 starts:\n",
            "fold 3 score:  0.8444960212201591\n",
            "_______________________________________\n",
            "fold 4 starts:\n",
            "fold 4 score:  0.8315649867374005\n",
            "_______________________________________\n",
            "fold 5 starts:\n",
            "fold 5 score:  0.8381962864721485\n",
            "_______________________________________\n",
            "CV complete\n",
            "best_score is: 0.8444960212201591\n",
            "lowest_score is: 0.8315649867374005\n",
            "avg score is: 0.8371352785145888\n",
            "num of total data entries: 30161\n",
            "num of data used: 18096\n",
            "model: DecisionTreeClassifier(ccp_alpha=0.0, class_weight=None, criterion='entropy',\n",
            "                       max_depth=91, max_features=None, max_leaf_nodes=None,\n",
            "                       min_impurity_decrease=0.0, min_impurity_split=None,\n",
            "                       min_samples_leaf=11, min_samples_split=32,\n",
            "                       min_weight_fraction_leaf=0.0, presort='deprecated',\n",
            "                       random_state=None, splitter='best')\n",
            "fold 1 starts:\n",
            "fold 1 score:  0.8386294556507322\n",
            "_______________________________________\n",
            "fold 2 starts:\n",
            "fold 2 score:  0.8364189002486875\n",
            "_______________________________________\n",
            "fold 3 starts:\n",
            "fold 3 score:  0.8275766786405084\n",
            "_______________________________________\n",
            "fold 4 starts:\n",
            "fold 4 score:  0.8375241779497099\n",
            "_______________________________________\n",
            "fold 5 starts:\n",
            "fold 5 score:  0.85\n",
            "_______________________________________\n",
            "CV complete\n",
            "best_score is: 0.85\n",
            "lowest_score is: 0.8275766786405084\n",
            "avg score is: 0.8380298424979274\n",
            "num of total data entries: 30161\n",
            "num of data used: 21112\n",
            "model: DecisionTreeClassifier(ccp_alpha=0.0, class_weight=None, criterion='entropy',\n",
            "                       max_depth=91, max_features=None, max_leaf_nodes=None,\n",
            "                       min_impurity_decrease=0.0, min_impurity_split=None,\n",
            "                       min_samples_leaf=11, min_samples_split=32,\n",
            "                       min_weight_fraction_leaf=0.0, presort='deprecated',\n",
            "                       random_state=None, splitter='best')\n",
            "fold 1 starts:\n",
            "fold 1 score:  0.8297015632401705\n",
            "_______________________________________\n",
            "fold 2 starts:\n",
            "fold 2 score:  0.837517764092847\n",
            "_______________________________________\n",
            "fold 3 starts:\n",
            "fold 3 score:  0.8365703458076741\n",
            "_______________________________________\n",
            "fold 4 starts:\n",
            "fold 4 score:  0.8408337280909521\n",
            "_______________________________________\n",
            "fold 5 starts:\n",
            "fold 5 score:  0.8373579545454546\n",
            "_______________________________________\n",
            "CV complete\n",
            "best_score is: 0.8408337280909521\n",
            "lowest_score is: 0.8297015632401705\n",
            "avg score is: 0.8363962711554198\n",
            "num of total data entries: 30161\n",
            "num of data used: 24128\n",
            "model: DecisionTreeClassifier(ccp_alpha=0.0, class_weight=None, criterion='entropy',\n",
            "                       max_depth=91, max_features=None, max_leaf_nodes=None,\n",
            "                       min_impurity_decrease=0.0, min_impurity_split=None,\n",
            "                       min_samples_leaf=11, min_samples_split=32,\n",
            "                       min_weight_fraction_leaf=0.0, presort='deprecated',\n",
            "                       random_state=None, splitter='best')\n",
            "fold 1 starts:\n",
            "fold 1 score:  0.8383419689119171\n",
            "_______________________________________\n",
            "fold 2 starts:\n",
            "fold 2 score:  0.8315025906735751\n",
            "_______________________________________\n",
            "fold 3 starts:\n",
            "fold 3 score:  0.8385492227979274\n",
            "_______________________________________\n",
            "fold 4 starts:\n",
            "fold 4 score:  0.8424870466321244\n",
            "_______________________________________\n",
            "fold 5 starts:\n",
            "fold 5 score:  0.8432062966031483\n",
            "_______________________________________\n",
            "CV complete\n",
            "best_score is: 0.8432062966031483\n",
            "lowest_score is: 0.8315025906735751\n",
            "avg score is: 0.8388174251237386\n",
            "num of total data entries: 30161\n",
            "num of data used: 27144\n",
            "model: DecisionTreeClassifier(ccp_alpha=0.0, class_weight=None, criterion='entropy',\n",
            "                       max_depth=91, max_features=None, max_leaf_nodes=None,\n",
            "                       min_impurity_decrease=0.0, min_impurity_split=None,\n",
            "                       min_samples_leaf=11, min_samples_split=32,\n",
            "                       min_weight_fraction_leaf=0.0, presort='deprecated',\n",
            "                       random_state=None, splitter='best')\n",
            "fold 1 starts:\n",
            "fold 1 score:  0.8358511422254974\n",
            "_______________________________________\n",
            "fold 2 starts:\n",
            "fold 2 score:  0.8351142225497421\n",
            "_______________________________________\n",
            "fold 3 starts:\n",
            "fold 3 score:  0.8434045689019897\n",
            "_______________________________________\n",
            "fold 4 starts:\n",
            "fold 4 score:  0.8454310980103169\n",
            "_______________________________________\n",
            "fold 5 starts:\n",
            "fold 5 score:  0.8462812960235641\n",
            "_______________________________________\n",
            "CV complete\n",
            "best_score is: 0.8462812960235641\n",
            "lowest_score is: 0.8351142225497421\n",
            "avg score is: 0.8412164655422221\n",
            "num of total data entries: 30161\n",
            "num of data used: 30161\n",
            "model: DecisionTreeClassifier(ccp_alpha=0.0, class_weight=None, criterion='entropy',\n",
            "                       max_depth=91, max_features=None, max_leaf_nodes=None,\n",
            "                       min_impurity_decrease=0.0, min_impurity_split=None,\n",
            "                       min_samples_leaf=11, min_samples_split=32,\n",
            "                       min_weight_fraction_leaf=0.0, presort='deprecated',\n",
            "                       random_state=None, splitter='best')\n",
            "fold 1 starts:\n",
            "fold 1 score:  0.8396883289124668\n",
            "_______________________________________\n",
            "fold 2 starts:\n",
            "fold 2 score:  0.8350464190981433\n",
            "_______________________________________\n",
            "fold 3 starts:\n",
            "fold 3 score:  0.8448275862068966\n",
            "_______________________________________\n",
            "fold 4 starts:\n",
            "fold 4 score:  0.8476458885941645\n",
            "_______________________________________\n",
            "fold 5 starts:\n",
            "fold 5 score:  0.8448533068125311\n",
            "_______________________________________\n",
            "CV complete\n",
            "best_score is: 0.8476458885941645\n",
            "lowest_score is: 0.8350464190981433\n",
            "avg score is: 0.8424123059248405\n"
          ]
        }
      ]
    },
    {
      "cell_type": "code",
      "metadata": {
        "colab": {
          "base_uri": "https://localhost:8080/",
          "height": 298
        },
        "id": "8FNwtcHfUvc5",
        "outputId": "9999deb0-824c-4b19-b454-6c09975579bf"
      },
      "source": [
        "plt.title(\"% of breast cancer dataset versus accuracy\")\n",
        "x_axis = np.linspace(1, 100, 10)\n",
        "plt.plot(x_axis, bc_KNN_score_list)\n",
        "plt.plot(x_axis, bc_DT_score_list)\n",
        "plt.legend(['KNN', 'DT'])\n",
        "plt.ylim([0.7, 0.9])"
      ],
      "execution_count": null,
      "outputs": [
        {
          "output_type": "execute_result",
          "data": {
            "text/plain": [
              "(0.7, 0.9)"
            ]
          },
          "metadata": {},
          "execution_count": 200
        },
        {
          "output_type": "display_data",
          "data": {
            "image/png": "[encoded data removed]",
            "text/plain": [
              "<Figure size 432x288 with 1 Axes>"
            ]
          },
          "metadata": {
            "needs_background": "light"
          }
        }
      ]
    }
  ]
}